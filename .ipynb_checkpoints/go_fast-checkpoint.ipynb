{
 "cells": [
  {
   "cell_type": "markdown",
   "id": "41ed5821-bcb5-4fb1-82a2-396c5417cad2",
   "metadata": {},
   "source": [
    "# Исследование работы сервиса аренды самокатов"
   ]
  },
  {
   "cell_type": "markdown",
   "id": "a2945af6-5664-4eca-9b2f-121ffabd751d",
   "metadata": {},
   "source": [
    "Исследователь - аналитик популярного сервиса аренды самокатов `GoFast`.  \n",
    "Для исследования аналитику передали данные о некоторых пользователях сервиса из нескольких городов, а также об их поездках.  \n",
    "Поставлена задача проанализировать данные и проверить некоторые гипотезы, которые могут помочь бизнесу вырасти.  \n",
    "Чтобы совершать поездки по городу, пользователи сервиса `GoFast` пользуются мобильным приложением. Сервисом можно пользоваться:  \n",
    "* без подписки  \n",
    "  - абонентская плата отсутствует;  \n",
    "  - стоимость одной минуты поездки - 8 рублей;  \n",
    "  - стоимость старта (начала поездки) - 50 рублей;  \n",
    "* с подпиской `Ultra`  \n",
    "  - абонентская плата - 199 рублей в месяц;  \n",
    "  - стоимость одной минуты поездки - 6 рублей;  \n",
    "  - стоимость старта - бесплатно.  \n",
    "\n",
    "     План работы:  \n",
    "+ открыть файл с данными и изучить общую информацию;  \n",
    "+ выполнить предобработку данных (пропущенные значения, типы данных, дубликаты);  \n",
    "+ исследовать данные (частоту встречаемости городов, соотношение пользователей с подпиской и без, возраст пользователей, расстояние и продолжительность поездок);  \n",
    "+ объединить данные в один датафрейм, выделить отдельно данные по пользователям с подпиской и без;  \n",
    "+ посчитать помесячную выручку по каждому пользователю за каждый месяц;  \n",
    "+ выдвинуть гипотезы и проверить их;  \n",
    "+ изучить распределения."
   ]
  },
  {
   "cell_type": "code",
   "execution_count": 1,
   "id": "72576667",
   "metadata": {},
   "outputs": [],
   "source": [
    "# Необходимые импорты\n",
    "import pandas as pd\n",
    "\n",
    "try:\n",
    "    import matplotlib.pyplot as plt\n",
    "except:\n",
    "    !pip install --upgrade matplotlib==3.8.4\n",
    "    import matplotlib.pyplot as plt\n",
    "\n",
    "import numpy as np\n",
    "import scipy\n",
    "import math\n",
    "from scipy import stats as st\n",
    "from math import factorial, sqrt\n",
    "from scipy.stats import binom, norm\n",
    "\n",
    "import warnings\n",
    "warnings.filterwarnings(\"ignore\", category=FutureWarning)"
   ]
  },
  {
   "cell_type": "markdown",
   "id": "c42cbe00",
   "metadata": {},
   "source": [
    "## Загрузка данных и изучение общей информации"
   ]
  },
  {
   "cell_type": "code",
   "execution_count": 2,
   "id": "b1869189",
   "metadata": {},
   "outputs": [],
   "source": [
    "# Напишем функцию для оптимизации кода вывода первичной информации\n",
    "def information(dataset):\n",
    "    display(dataset.head())\n",
    "    display()\n",
    "    display(dataset.info())"
   ]
  },
  {
   "cell_type": "code",
   "execution_count": 3,
   "id": "eff9f206",
   "metadata": {
    "scrolled": true
   },
   "outputs": [
    {
     "data": {
      "text/html": [
       "<div>\n",
       "<style scoped>\n",
       "    .dataframe tbody tr th:only-of-type {\n",
       "        vertical-align: middle;\n",
       "    }\n",
       "\n",
       "    .dataframe tbody tr th {\n",
       "        vertical-align: top;\n",
       "    }\n",
       "\n",
       "    .dataframe thead th {\n",
       "        text-align: right;\n",
       "    }\n",
       "</style>\n",
       "<table border=\"1\" class=\"dataframe\">\n",
       "  <thead>\n",
       "    <tr style=\"text-align: right;\">\n",
       "      <th></th>\n",
       "      <th>user_id</th>\n",
       "      <th>name</th>\n",
       "      <th>age</th>\n",
       "      <th>city</th>\n",
       "      <th>subscription_type</th>\n",
       "    </tr>\n",
       "  </thead>\n",
       "  <tbody>\n",
       "    <tr>\n",
       "      <th>0</th>\n",
       "      <td>1</td>\n",
       "      <td>Кира</td>\n",
       "      <td>22</td>\n",
       "      <td>Тюмень</td>\n",
       "      <td>ultra</td>\n",
       "    </tr>\n",
       "    <tr>\n",
       "      <th>1</th>\n",
       "      <td>2</td>\n",
       "      <td>Станислав</td>\n",
       "      <td>31</td>\n",
       "      <td>Омск</td>\n",
       "      <td>ultra</td>\n",
       "    </tr>\n",
       "    <tr>\n",
       "      <th>2</th>\n",
       "      <td>3</td>\n",
       "      <td>Алексей</td>\n",
       "      <td>20</td>\n",
       "      <td>Москва</td>\n",
       "      <td>ultra</td>\n",
       "    </tr>\n",
       "    <tr>\n",
       "      <th>3</th>\n",
       "      <td>4</td>\n",
       "      <td>Константин</td>\n",
       "      <td>26</td>\n",
       "      <td>Ростов-на-Дону</td>\n",
       "      <td>ultra</td>\n",
       "    </tr>\n",
       "    <tr>\n",
       "      <th>4</th>\n",
       "      <td>5</td>\n",
       "      <td>Адель</td>\n",
       "      <td>28</td>\n",
       "      <td>Омск</td>\n",
       "      <td>ultra</td>\n",
       "    </tr>\n",
       "  </tbody>\n",
       "</table>\n",
       "</div>"
      ],
      "text/plain": [
       "   user_id        name  age            city subscription_type\n",
       "0        1        Кира   22          Тюмень             ultra\n",
       "1        2   Станислав   31            Омск             ultra\n",
       "2        3     Алексей   20          Москва             ultra\n",
       "3        4  Константин   26  Ростов-на-Дону             ultra\n",
       "4        5       Адель   28            Омск             ultra"
      ]
     },
     "metadata": {},
     "output_type": "display_data"
    },
    {
     "name": "stdout",
     "output_type": "stream",
     "text": [
      "<class 'pandas.core.frame.DataFrame'>\n",
      "RangeIndex: 1565 entries, 0 to 1564\n",
      "Data columns (total 5 columns):\n",
      " #   Column             Non-Null Count  Dtype \n",
      "---  ------             --------------  ----- \n",
      " 0   user_id            1565 non-null   int64 \n",
      " 1   name               1565 non-null   object\n",
      " 2   age                1565 non-null   int64 \n",
      " 3   city               1565 non-null   object\n",
      " 4   subscription_type  1565 non-null   object\n",
      "dtypes: int64(2), object(3)\n",
      "memory usage: 61.3+ KB\n"
     ]
    },
    {
     "data": {
      "text/plain": [
       "None"
      ]
     },
     "metadata": {},
     "output_type": "display_data"
    }
   ],
   "source": [
    "# Считаем первый csv-файл с данными о пользователях, сохраним его в датафрейм `users`\n",
    "try:\n",
    "    users = pd.read_csv('/datasets/users_go.csv')\n",
    "except:\n",
    "    users = pd.read_csv('https://code.s3.yandex.net/datasets/users_go.csv')\n",
    "\n",
    "# Изучим общую информацию о датафрейме `users`\n",
    "information(users)"
   ]
  },
  {
   "cell_type": "code",
   "execution_count": 4,
   "id": "2ad60e46",
   "metadata": {
    "scrolled": true
   },
   "outputs": [
    {
     "data": {
      "text/html": [
       "<div>\n",
       "<style scoped>\n",
       "    .dataframe tbody tr th:only-of-type {\n",
       "        vertical-align: middle;\n",
       "    }\n",
       "\n",
       "    .dataframe tbody tr th {\n",
       "        vertical-align: top;\n",
       "    }\n",
       "\n",
       "    .dataframe thead th {\n",
       "        text-align: right;\n",
       "    }\n",
       "</style>\n",
       "<table border=\"1\" class=\"dataframe\">\n",
       "  <thead>\n",
       "    <tr style=\"text-align: right;\">\n",
       "      <th></th>\n",
       "      <th>user_id</th>\n",
       "      <th>distance</th>\n",
       "      <th>duration</th>\n",
       "      <th>date</th>\n",
       "    </tr>\n",
       "  </thead>\n",
       "  <tbody>\n",
       "    <tr>\n",
       "      <th>0</th>\n",
       "      <td>1</td>\n",
       "      <td>4409.919140</td>\n",
       "      <td>25.599769</td>\n",
       "      <td>2021-01-01</td>\n",
       "    </tr>\n",
       "    <tr>\n",
       "      <th>1</th>\n",
       "      <td>1</td>\n",
       "      <td>2617.592153</td>\n",
       "      <td>15.816871</td>\n",
       "      <td>2021-01-18</td>\n",
       "    </tr>\n",
       "    <tr>\n",
       "      <th>2</th>\n",
       "      <td>1</td>\n",
       "      <td>754.159807</td>\n",
       "      <td>6.232113</td>\n",
       "      <td>2021-04-20</td>\n",
       "    </tr>\n",
       "    <tr>\n",
       "      <th>3</th>\n",
       "      <td>1</td>\n",
       "      <td>2694.783254</td>\n",
       "      <td>18.511000</td>\n",
       "      <td>2021-08-11</td>\n",
       "    </tr>\n",
       "    <tr>\n",
       "      <th>4</th>\n",
       "      <td>1</td>\n",
       "      <td>4028.687306</td>\n",
       "      <td>26.265803</td>\n",
       "      <td>2021-08-28</td>\n",
       "    </tr>\n",
       "  </tbody>\n",
       "</table>\n",
       "</div>"
      ],
      "text/plain": [
       "   user_id     distance   duration       date\n",
       "0        1  4409.919140  25.599769 2021-01-01\n",
       "1        1  2617.592153  15.816871 2021-01-18\n",
       "2        1   754.159807   6.232113 2021-04-20\n",
       "3        1  2694.783254  18.511000 2021-08-11\n",
       "4        1  4028.687306  26.265803 2021-08-28"
      ]
     },
     "metadata": {},
     "output_type": "display_data"
    },
    {
     "name": "stdout",
     "output_type": "stream",
     "text": [
      "<class 'pandas.core.frame.DataFrame'>\n",
      "RangeIndex: 18068 entries, 0 to 18067\n",
      "Data columns (total 4 columns):\n",
      " #   Column    Non-Null Count  Dtype         \n",
      "---  ------    --------------  -----         \n",
      " 0   user_id   18068 non-null  int64         \n",
      " 1   distance  18068 non-null  float64       \n",
      " 2   duration  18068 non-null  float64       \n",
      " 3   date      18068 non-null  datetime64[ns]\n",
      "dtypes: datetime64[ns](1), float64(2), int64(1)\n",
      "memory usage: 564.8 KB\n"
     ]
    },
    {
     "data": {
      "text/plain": [
       "None"
      ]
     },
     "metadata": {},
     "output_type": "display_data"
    }
   ],
   "source": [
    "# Считаем второй csv-файл с данными о поездках, сохраним его в датафрейм `rides`,\n",
    "# при загрузке данных добавим параметр `parse_dates`, чтобы перевести столбец с датами в нужный формат\n",
    "try:\n",
    "    rides = pd.read_csv('/datasets/rides_go.csv', parse_dates=['date'])\n",
    "except:\n",
    "    rides = pd.read_csv('https://code.s3.yandex.net/datasets/rides_go.csv', parse_dates=['date'])\n",
    "\n",
    "# Изучим общую информацию о датафрейме `rides`\n",
    "information(rides)"
   ]
  },
  {
   "cell_type": "code",
   "execution_count": 5,
   "id": "158ee31c",
   "metadata": {},
   "outputs": [
    {
     "data": {
      "text/html": [
       "<div>\n",
       "<style scoped>\n",
       "    .dataframe tbody tr th:only-of-type {\n",
       "        vertical-align: middle;\n",
       "    }\n",
       "\n",
       "    .dataframe tbody tr th {\n",
       "        vertical-align: top;\n",
       "    }\n",
       "\n",
       "    .dataframe thead th {\n",
       "        text-align: right;\n",
       "    }\n",
       "</style>\n",
       "<table border=\"1\" class=\"dataframe\">\n",
       "  <thead>\n",
       "    <tr style=\"text-align: right;\">\n",
       "      <th></th>\n",
       "      <th>subscription_type</th>\n",
       "      <th>minute_price</th>\n",
       "      <th>start_ride_price</th>\n",
       "      <th>subscription_fee</th>\n",
       "    </tr>\n",
       "  </thead>\n",
       "  <tbody>\n",
       "    <tr>\n",
       "      <th>0</th>\n",
       "      <td>free</td>\n",
       "      <td>8</td>\n",
       "      <td>50</td>\n",
       "      <td>0</td>\n",
       "    </tr>\n",
       "    <tr>\n",
       "      <th>1</th>\n",
       "      <td>ultra</td>\n",
       "      <td>6</td>\n",
       "      <td>0</td>\n",
       "      <td>199</td>\n",
       "    </tr>\n",
       "  </tbody>\n",
       "</table>\n",
       "</div>"
      ],
      "text/plain": [
       "  subscription_type  minute_price  start_ride_price  subscription_fee\n",
       "0              free             8                50                 0\n",
       "1             ultra             6                 0               199"
      ]
     },
     "metadata": {},
     "output_type": "display_data"
    },
    {
     "name": "stdout",
     "output_type": "stream",
     "text": [
      "<class 'pandas.core.frame.DataFrame'>\n",
      "RangeIndex: 2 entries, 0 to 1\n",
      "Data columns (total 4 columns):\n",
      " #   Column             Non-Null Count  Dtype \n",
      "---  ------             --------------  ----- \n",
      " 0   subscription_type  2 non-null      object\n",
      " 1   minute_price       2 non-null      int64 \n",
      " 2   start_ride_price   2 non-null      int64 \n",
      " 3   subscription_fee   2 non-null      int64 \n",
      "dtypes: int64(3), object(1)\n",
      "memory usage: 192.0+ bytes\n"
     ]
    },
    {
     "data": {
      "text/plain": [
       "None"
      ]
     },
     "metadata": {},
     "output_type": "display_data"
    }
   ],
   "source": [
    "# Считаем третий csv-файл с данными о подписках, сохраним его в датафрейм `subscriptions`\n",
    "try:\n",
    "    subscriptions = pd.read_csv('/datasets/subscriptions_go.csv')\n",
    "except:\n",
    "    subscriptions = pd.read_csv('https://code.s3.yandex.net/datasets/subscriptions_go.csv')\n",
    "\n",
    "# Изучим общую информацию о датафрейме `subscriptions`\n",
    "information(subscriptions)"
   ]
  },
  {
   "cell_type": "markdown",
   "id": "8be7d6e2",
   "metadata": {},
   "source": [
    "**Вывод.** Датафрейм `users` содержит информацию о пользователях: уникальный идентификатор пользователя, имя пользователя, возраст, город и тип подписки (`free`, `ultra`). Датафрейм `users` содержит 1565 строк и 5 столбцов. Названия столбцов корректные. Типы значений в двух столбцах целочисленные и в трёх столбцах `object`. Нулевые значения предположительно отсутствуют.\n",
    "\n",
    "Датафрейм `rides` содержит информацию о поездках: уникальный идентификатор пользователя, расстояние, которое пользователь проехал в текущей сессии (в метрах), продолжительность сессии (в минутах) - время с того момента, как пользователь нажал кнопку \"Начать поездку\" до момента, как он нажал кнопку \"Завершить поездку\", дата совершения поездки. Датафрейм `rides` содержит 18068 строк и 4 столбца. Названия столбцов корректные. Типы значений в одном столбце целочисленные, в двух столбцах вещественные и в одном столбце `datetime`. Нулевые значения предположительно отсутствуют.\n",
    "\n",
    "Датафрейм `subscriptions` содержит информацию о подписках: тип подписки, стоимость одной минуты поездки по данной подписке, стоимость начала поездки, стоимость ежемесячного платежа. Датафрейм `subscriptions` содержит 2 строки и 4 столбца. Названия столбцов корректные. Типы значений в трех столбцах целочисленные, в одном столбце `object`. Нулевые значения предположительно отсутствуют."
   ]
  },
  {
   "cell_type": "markdown",
   "id": "e95ebca7",
   "metadata": {},
   "source": [
    "## Предобработка данных\n",
    "### Анализируемый период"
   ]
  },
  {
   "cell_type": "code",
   "execution_count": 6,
   "id": "8cb080ec",
   "metadata": {},
   "outputs": [
    {
     "data": {
      "text/plain": [
       "Timestamp('2021-01-01 00:00:00')"
      ]
     },
     "metadata": {},
     "output_type": "display_data"
    },
    {
     "data": {
      "text/plain": [
       "Timestamp('2021-12-30 00:00:00')"
      ]
     },
     "metadata": {},
     "output_type": "display_data"
    }
   ],
   "source": [
    "# Выведем на экран минимальное и максимальное значения в столбце `date` датафрейма `rides`\n",
    "display(rides['date'].min(), rides['date'].max())"
   ]
  },
  {
   "cell_type": "markdown",
   "id": "1b26fff1",
   "metadata": {},
   "source": [
    "Данные собраны за 2021 год - с 1 января 2021 года по 30 декабря 2021 года, то есть за один год. Из столбца с датами нужно извлечь информацию о месяце. Добавим новый столбец с номером месяца."
   ]
  },
  {
   "cell_type": "code",
   "execution_count": 7,
   "id": "b9350fd7",
   "metadata": {
    "scrolled": true
   },
   "outputs": [
    {
     "data": {
      "text/html": [
       "<div>\n",
       "<style scoped>\n",
       "    .dataframe tbody tr th:only-of-type {\n",
       "        vertical-align: middle;\n",
       "    }\n",
       "\n",
       "    .dataframe tbody tr th {\n",
       "        vertical-align: top;\n",
       "    }\n",
       "\n",
       "    .dataframe thead th {\n",
       "        text-align: right;\n",
       "    }\n",
       "</style>\n",
       "<table border=\"1\" class=\"dataframe\">\n",
       "  <thead>\n",
       "    <tr style=\"text-align: right;\">\n",
       "      <th></th>\n",
       "      <th>user_id</th>\n",
       "      <th>distance</th>\n",
       "      <th>duration</th>\n",
       "      <th>date</th>\n",
       "      <th>month</th>\n",
       "    </tr>\n",
       "  </thead>\n",
       "  <tbody>\n",
       "    <tr>\n",
       "      <th>0</th>\n",
       "      <td>1</td>\n",
       "      <td>4409.919140</td>\n",
       "      <td>25.599769</td>\n",
       "      <td>2021-01-01</td>\n",
       "      <td>1</td>\n",
       "    </tr>\n",
       "    <tr>\n",
       "      <th>1</th>\n",
       "      <td>1</td>\n",
       "      <td>2617.592153</td>\n",
       "      <td>15.816871</td>\n",
       "      <td>2021-01-18</td>\n",
       "      <td>1</td>\n",
       "    </tr>\n",
       "    <tr>\n",
       "      <th>2</th>\n",
       "      <td>1</td>\n",
       "      <td>754.159807</td>\n",
       "      <td>6.232113</td>\n",
       "      <td>2021-04-20</td>\n",
       "      <td>4</td>\n",
       "    </tr>\n",
       "    <tr>\n",
       "      <th>3</th>\n",
       "      <td>1</td>\n",
       "      <td>2694.783254</td>\n",
       "      <td>18.511000</td>\n",
       "      <td>2021-08-11</td>\n",
       "      <td>8</td>\n",
       "    </tr>\n",
       "    <tr>\n",
       "      <th>4</th>\n",
       "      <td>1</td>\n",
       "      <td>4028.687306</td>\n",
       "      <td>26.265803</td>\n",
       "      <td>2021-08-28</td>\n",
       "      <td>8</td>\n",
       "    </tr>\n",
       "  </tbody>\n",
       "</table>\n",
       "</div>"
      ],
      "text/plain": [
       "   user_id     distance   duration       date  month\n",
       "0        1  4409.919140  25.599769 2021-01-01      1\n",
       "1        1  2617.592153  15.816871 2021-01-18      1\n",
       "2        1   754.159807   6.232113 2021-04-20      4\n",
       "3        1  2694.783254  18.511000 2021-08-11      8\n",
       "4        1  4028.687306  26.265803 2021-08-28      8"
      ]
     },
     "execution_count": 7,
     "metadata": {},
     "output_type": "execute_result"
    }
   ],
   "source": [
    "# На основе столбца `date` датафрейма `rides` создадим в этом датафрейме новый столбец с номером месяца\n",
    "rides['month'] = rides['date'].dt.month\n",
    "\n",
    "# Проверим, выведем на экран первые строки датафрейма `rides`\n",
    "rides.head()"
   ]
  },
  {
   "cell_type": "markdown",
   "id": "2fc98c7b",
   "metadata": {},
   "source": [
    "### Пропуски и дубликаты"
   ]
  },
  {
   "cell_type": "code",
   "execution_count": 8,
   "id": "3fe3b6c3",
   "metadata": {},
   "outputs": [
    {
     "name": "stdout",
     "output_type": "stream",
     "text": [
      "user_id              0\n",
      "name                 0\n",
      "age                  0\n",
      "city                 0\n",
      "subscription_type    0\n",
      "dtype: int64\n",
      "\n",
      "user_id     0\n",
      "distance    0\n",
      "duration    0\n",
      "date        0\n",
      "month       0\n",
      "dtype: int64\n",
      "\n",
      "subscription_type    0\n",
      "minute_price         0\n",
      "start_ride_price     0\n",
      "subscription_fee     0\n",
      "dtype: int64\n"
     ]
    }
   ],
   "source": [
    "# Проверим на наличие пропусков все три датафрейма\n",
    "print(users.isna().sum())\n",
    "print()\n",
    "print(rides.isna().sum())\n",
    "print()\n",
    "print(subscriptions.isna().sum())"
   ]
  },
  {
   "cell_type": "code",
   "execution_count": 9,
   "id": "5ff92cb4",
   "metadata": {},
   "outputs": [
    {
     "name": "stdout",
     "output_type": "stream",
     "text": [
      "31 0\n"
     ]
    }
   ],
   "source": [
    "# Проверим на наличие явных дубликатов датафреймы `users` и `rides`\n",
    "print(users.duplicated().sum(), rides.duplicated().sum())"
   ]
  },
  {
   "cell_type": "code",
   "execution_count": 10,
   "id": "58b18d5d",
   "metadata": {},
   "outputs": [
    {
     "data": {
      "text/plain": [
       "0"
      ]
     },
     "execution_count": 10,
     "metadata": {},
     "output_type": "execute_result"
    }
   ],
   "source": [
    "# В датафрейме `users` дубликаты есть, удалим их, индексацию обновим, датафрейм перезапишем\n",
    "users = users.drop_duplicates().reset_index(drop=True)\n",
    "\n",
    "# Проверим на наличие дубликатов датафрейм `users` после их удаления\n",
    "users.duplicated().sum()"
   ]
  },
  {
   "cell_type": "code",
   "execution_count": 11,
   "id": "017a4416",
   "metadata": {},
   "outputs": [
    {
     "name": "stdout",
     "output_type": "stream",
     "text": [
      "['Тюмень' 'Омск' 'Москва' 'Ростов-на-Дону' 'Краснодар' 'Пятигорск'\n",
      " 'Екатеринбург' 'Сочи'] ['ultra' 'free']\n"
     ]
    }
   ],
   "source": [
    "# Проверим на наличие неявных дубликатов\n",
    "print(users['city'].unique(), users['subscription_type'].unique())"
   ]
  },
  {
   "cell_type": "markdown",
   "id": "23ad0969",
   "metadata": {},
   "source": [
    "Неявных дубликатов нет.\n",
    "\n",
    "**Вывод.** Нами выяснено, что данные собраны за год - с 1 января по 30 декабря 2021 года. В отдельный столбец `month` вынесены данные о месяце. Далее мы убедились в отсутствии пропущенных значений в данных. И, наконец, избавились от явных дубликатов и убедились в отсутствии неявных дубликатов. Таким образом, предобработка данных выполнена."
   ]
  },
  {
   "cell_type": "markdown",
   "id": "212593c7",
   "metadata": {},
   "source": [
    "## Исследовательский анализ данных\n",
    "Опишем и визуализируем общую информацию о пользователях и поездках.\n",
    "### Частота встречаемости городов"
   ]
  },
  {
   "cell_type": "code",
   "execution_count": 12,
   "id": "e3a4274c",
   "metadata": {},
   "outputs": [
    {
     "data": {
      "text/plain": [
       "Пятигорск         219\n",
       "Екатеринбург      204\n",
       "Ростов-на-Дону    198\n",
       "Краснодар         193\n",
       "Сочи              189\n",
       "Омск              183\n",
       "Тюмень            180\n",
       "Москва            168\n",
       "Name: city, dtype: int64"
      ]
     },
     "execution_count": 12,
     "metadata": {},
     "output_type": "execute_result"
    }
   ],
   "source": [
    "# Выведем количество пользователей в каждом городе как число упоминаний города в столбце 'city' датафрейма 'users'\n",
    "# сохраним полученный Series как `users_city`\n",
    "users_city = users['city'].value_counts()\n",
    "users_city"
   ]
  },
  {
   "cell_type": "code",
   "execution_count": 13,
   "id": "28d76b51",
   "metadata": {},
   "outputs": [
    {
     "data": {
      "image/png": "[encoded data removed]",
      "text/plain": [
       "<Figure size 600x300 with 1 Axes>"
      ]
     },
     "metadata": {},
     "output_type": "display_data"
    }
   ],
   "source": [
    "# Построим столбчатую диаграмму, при этом развернём график в горизонтальные бары, чтобы надписи по оси Х читались корректно\n",
    "fig = plt.figure(figsize=(6, 3))\n",
    "ax = users_city.plot.barh()\n",
    "plt.title('Распределение пользователей по городам', fontsize=14)\n",
    "plt.xlabel('Количество')\n",
    "plt.ylabel('Города')\n",
    "plt.grid()\n",
    "plt.show()"
   ]
  },
  {
   "cell_type": "markdown",
   "id": "75bfa56a",
   "metadata": {},
   "source": [
    "Больше всего пользователей сервиса аренды самокатов GoFast в Пятигорске, Екатеринбурге, Ростове-на-Дону, а также в Краснодаре и Сочи. В Омске и Тюмени пользователей меньше, а самый низкий показатель числа пользователей в имеющихся данных - в Москве.  \n",
    "Выясним, на сколько процентов отличается количество пользователей в разных городах."
   ]
  },
  {
   "cell_type": "code",
   "execution_count": 14,
   "id": "8e3b0dd7-b80d-42e6-89fe-16c0a20e5998",
   "metadata": {},
   "outputs": [
    {
     "data": {
      "text/plain": [
       "1.3"
      ]
     },
     "execution_count": 14,
     "metadata": {},
     "output_type": "execute_result"
    }
   ],
   "source": [
    "# Посчитаем отношение максимального и минимального количества пользователей по городам\n",
    "round(users_city.max() / users_city.min(), 2)"
   ]
  },
  {
   "cell_type": "markdown",
   "id": "788f5dc7",
   "metadata": {},
   "source": [
    "Отношение максимального числа клиентов к минимальному по отдельным городам составляет примерно `1.3`, то есть количество пользователей в городах отличается на 30 % и меньше. Различие по числу пользователей в разных городах не является существенным для нашего исследования. Однако непонятно, почему эта разница не в пользу Москвы."
   ]
  },
  {
   "cell_type": "code",
   "execution_count": 15,
   "id": "e8cbb2c3",
   "metadata": {},
   "outputs": [
    {
     "data": {
      "text/plain": [
       "count      8.00\n",
       "mean     191.75\n",
       "std       15.67\n",
       "min      168.00\n",
       "25%      182.25\n",
       "50%      191.00\n",
       "75%      199.50\n",
       "max      219.00\n",
       "Name: city, dtype: float64"
      ]
     },
     "metadata": {},
     "output_type": "display_data"
    }
   ],
   "source": [
    "# Применим к данным о распределении клиентов по городам метод `describe()`, чтобы получить числовое описание данных\n",
    "display(users_city.describe().round(2))"
   ]
  },
  {
   "cell_type": "markdown",
   "id": "6c7b504e",
   "metadata": {},
   "source": [
    "Как видно из числового описания данных, среднее значение и медиана практически равны. Кроме того, стандартное отклонение очень маленькое, что позволяет утверждать, что данные однородны. Разница между городами по числу пользователей сервиса несущественная. "
   ]
  },
  {
   "cell_type": "markdown",
   "id": "97c785ae",
   "metadata": {},
   "source": [
    "### Соотношение пользователей с подпиской и без подписки"
   ]
  },
  {
   "cell_type": "code",
   "execution_count": 16,
   "id": "0b51bd9a",
   "metadata": {},
   "outputs": [
    {
     "data": {
      "text/plain": [
       "free     835\n",
       "ultra    699\n",
       "Name: subscription_type, dtype: int64"
      ]
     },
     "execution_count": 16,
     "metadata": {},
     "output_type": "execute_result"
    }
   ],
   "source": [
    "# Выведем число значений в столбце 'subscription_type' датафрейма 'users'\n",
    "users['subscription_type'].value_counts()"
   ]
  },
  {
   "cell_type": "code",
   "execution_count": 17,
   "id": "2c5e277f",
   "metadata": {},
   "outputs": [
    {
     "data": {
      "image/png": "[encoded data removed]",
      "text/plain": [
       "<Figure size 640x480 with 1 Axes>"
      ]
     },
     "metadata": {},
     "output_type": "display_data"
    }
   ],
   "source": [
    "#Построим столбчатую диаграмму\n",
    "ax = users['subscription_type'].value_counts().plot.bar()\n",
    "plt.title('Типы подписки', fontsize=14)\n",
    "plt.ylabel('Количество')\n",
    "plt.xticks(rotation=0)\n",
    "plt.show()"
   ]
  },
  {
   "cell_type": "code",
   "execution_count": 18,
   "id": "fa358fc9",
   "metadata": {},
   "outputs": [
    {
     "data": {
      "image/png": "[encoded data removed]",
      "text/plain": [
       "<Figure size 800x400 with 1 Axes>"
      ]
     },
     "metadata": {},
     "output_type": "display_data"
    }
   ],
   "source": [
    "#Построим круговую диаграмму для отображения разности в доле клиентов\n",
    "fig = plt.figure(figsize=(8, 4))\n",
    "ax = users['subscription_type'].value_counts().plot.pie(autopct='%.2f')\n",
    "plt.title('Распределение пользователей по типу подписки', fontsize=16)\n",
    "plt.show()"
   ]
  },
  {
   "cell_type": "code",
   "execution_count": 19,
   "id": "5a936847",
   "metadata": {},
   "outputs": [
    {
     "data": {
      "text/plain": [
       "1.19"
      ]
     },
     "execution_count": 19,
     "metadata": {},
     "output_type": "execute_result"
    }
   ],
   "source": [
    "# Выясним, каково соотношение пользователей без подписки и с подпиской в численном выражении\n",
    "(users.groupby('subscription_type')['user_id'].count()[0] / \\\n",
    " users.groupby('subscription_type')['user_id'].count()[1]).round(2)"
   ]
  },
  {
   "cell_type": "markdown",
   "id": "8214107b",
   "metadata": {},
   "source": [
    "Как видно, круговая диаграмма показывает, что соотношение пользователей с подпиской и без подписки не слишком отличается, пользователи делят круг почти пополам. Пользователей без подписки по имеющимся данным несколько больше, чем пользователей с подпиской. В численном выражении соотношение составляет 1,1946, то есть пользователей без подписки примерно на 20 % больше, чем пользователей с подпиской. "
   ]
  },
  {
   "cell_type": "markdown",
   "id": "360c3720",
   "metadata": {},
   "source": [
    "### Возраст пользователей"
   ]
  },
  {
   "cell_type": "code",
   "execution_count": 20,
   "id": "4047b450",
   "metadata": {},
   "outputs": [
    {
     "name": "stdout",
     "output_type": "stream",
     "text": [
      "12 43\n"
     ]
    }
   ],
   "source": [
    "# Выведем на экран минимальный и максимальный возраст пользователей\n",
    "print(users['age'].min(), users['age'].max())"
   ]
  },
  {
   "cell_type": "code",
   "execution_count": 21,
   "id": "751bb027",
   "metadata": {},
   "outputs": [
    {
     "data": {
      "image/png": "[encoded data removed]",
      "text/plain": [
       "<Figure size 1200x800 with 1 Axes>"
      ]
     },
     "metadata": {},
     "output_type": "display_data"
    }
   ],
   "source": [
    "#Построим гистограмму распределения пользователей по возрасту\n",
    "users['age'].hist(bins=30, figsize=(12, 8), edgecolor='b')\n",
    "plt.title('Распределение пользователей по возрасту', fontsize=18)\n",
    "plt.xlabel('Возраст')\n",
    "plt.ylabel('Количество')\n",
    "plt.show()"
   ]
  },
  {
   "cell_type": "markdown",
   "id": "6da6858d",
   "metadata": {},
   "source": [
    "Пользователи сервиса - люди от 12 до 43 лет включительно. Большая часть пользователей имеет возраст от 19 до 38 лет. А самые активные пользователи сервиса находятся в возрасте от 22 до 28 лет. Распределение пользоватлей по возрасту нормальное."
   ]
  },
  {
   "cell_type": "code",
   "execution_count": 22,
   "id": "0c6b4f09",
   "metadata": {},
   "outputs": [
    {
     "data": {
      "image/png": "[encoded data removed]",
      "text/plain": [
       "<Figure size 800x800 with 1 Axes>"
      ]
     },
     "metadata": {},
     "output_type": "display_data"
    }
   ],
   "source": [
    "#Построим диаграмму размаха для распределения пользователей по возрасту\n",
    "plt.figure(figsize=(8, 8))\n",
    "users.boxplot('age')\n",
    "plt.title('Размах данных по возрасту')\n",
    "plt.ylabel('Возраст')\n",
    "plt.grid(True)\n",
    "plt.show()"
   ]
  },
  {
   "cell_type": "markdown",
   "id": "c740f847",
   "metadata": {},
   "source": [
    "Как видно из диаграммы размаха, медианный возраст клиентов сервиса составляет 25 лет, то есть половина клиентов моложе 25 лет, а другая половина - старше. Межквартильный размах показывает, что 50 % клиентов находятся в возрасте от 22 до 28 лет.  \n",
    "Некоторые значения возраста являются аномальными для данного распределения - это значения 12 лет и значения старше 37 лет. Таких значений немного, это означает, что детям и людям старше 37 лет несвойственно пользоваться самокатами. Это, скорее, исключения. Однако аномальные данные удалять мы не будем, так как эти пользователи такие же клиенты сервиса и тоже заплатили за свои поездки."
   ]
  },
  {
   "cell_type": "markdown",
   "id": "5e13f92f",
   "metadata": {},
   "source": [
    "### Расстояние, которое пользователь преодолел за одну поездку"
   ]
  },
  {
   "cell_type": "code",
   "execution_count": 23,
   "id": "81b5e833",
   "metadata": {},
   "outputs": [
    {
     "name": "stdout",
     "output_type": "stream",
     "text": [
      "0.855682925681208 ;  7211.007744598519\n"
     ]
    }
   ],
   "source": [
    "#Выведем на экран минимальное и максимальное расстояние, которое пользователь преодолел за одну поездку (в метрах)\n",
    "print(rides['distance'].min(), '; ', rides['distance'].max())"
   ]
  },
  {
   "cell_type": "code",
   "execution_count": 24,
   "id": "57dcc157",
   "metadata": {},
   "outputs": [
    {
     "data": {
      "image/png": "[encoded data removed]",
      "text/plain": [
       "<Figure size 1200x800 with 1 Axes>"
      ]
     },
     "metadata": {},
     "output_type": "display_data"
    }
   ],
   "source": [
    "#Построим гистограмму распределения поездок по расстоянию за одну поездку\n",
    "rides['distance'].hist(bins=30, figsize=(12, 8), edgecolor='b')\n",
    "plt.title('Распределение поездок по расстоянию', fontsize=18)\n",
    "plt.xlabel('Расстояние')\n",
    "plt.ylabel('Количество')\n",
    "plt.show()"
   ]
  },
  {
   "cell_type": "markdown",
   "id": "6226b912",
   "metadata": {},
   "source": [
    "Распределение близкое к нормальному, но имеется малый пик в небольших значениях. Поездки, совершённые пользователями, имели минимальную дистанцию 0,86 м, максимальную - 7211,01 м. Пик графика находится в точке около 3 километров. Есть также небольшой пик возле значения 500-700 метров, то есть некоторые пользователи берут самокат на очень короткие расстояния. Но всё же большинство пользователей проезжают от 2 до 5 километров. Можно предположить, что на короткие расстояния берут самокат неуверенные пользователи, которые только учатся использовать этот вид транспорта или приложение, с помощью которого используется сервис. Основную часть клиентов составляют опытные пользователи, которые применяют этот вид транспорта по прямому назначению - проехать из одного пункта в другой, который чаще всего не в пешей доступности. "
   ]
  },
  {
   "cell_type": "code",
   "execution_count": 25,
   "id": "e8a3ccf2",
   "metadata": {},
   "outputs": [
    {
     "data": {
      "image/png": "[encoded data removed]",
      "text/plain": [
       "<Figure size 800x800 with 1 Axes>"
      ]
     },
     "metadata": {},
     "output_type": "display_data"
    }
   ],
   "source": [
    "#Построим диаграмму размаха для распределения пользователей по длине поездок\n",
    "plt.figure(figsize=(8, 8))\n",
    "rides.boxplot('distance')\n",
    "plt.title('Размах данных по расстоянию', fontsize=18)\n",
    "plt.ylabel('Расстояние')\n",
    "plt.grid(True)\n",
    "plt.show()"
   ]
  },
  {
   "cell_type": "markdown",
   "id": "bd1ff8f8",
   "metadata": {},
   "source": [
    "По диаграмме размаха можно определить, что расстояние поездок менее 700 метров и более 5700 метров являются аномальными для имеющихся данных (несмотря на то, что на значениях 500-700 метров имеется небольшое увеличение частот). И таких аномальных значений много. Это даёт возможность утверждать, что разброс данных большой. Воспользуемся методом  `describe()`, чтобы получить числовое описание данных."
   ]
  },
  {
   "cell_type": "code",
   "execution_count": 26,
   "id": "7303ed9d",
   "metadata": {},
   "outputs": [
    {
     "data": {
      "text/plain": [
       "count    18068.00\n",
       "mean      3070.66\n",
       "std       1116.83\n",
       "min          0.86\n",
       "25%       2543.23\n",
       "50%       3133.61\n",
       "75%       3776.22\n",
       "max       7211.01\n",
       "Name: distance, dtype: float64"
      ]
     },
     "metadata": {},
     "output_type": "display_data"
    }
   ],
   "source": [
    "display(rides['distance'].describe().round(2))"
   ]
  },
  {
   "cell_type": "markdown",
   "id": "32bd3eb8",
   "metadata": {},
   "source": [
    "Среднее расстояние, проезжаемое пользователями, составляет 3070.66 метров, медианное расстояние - 3133.61 метра. Половина клиентов проезжает от 2543 до 3776 метров за одну поездку. Стандартное отклонение велико, что указывает на неоднородность совокупности. Разброс данных, действительно, большой.  \n",
    "Удалять аномальные данные нельзя, так как их много, и эти данные имеют ценность."
   ]
  },
  {
   "cell_type": "markdown",
   "id": "0aa1a80f",
   "metadata": {},
   "source": [
    "### Продолжительность поездок"
   ]
  },
  {
   "cell_type": "code",
   "execution_count": 27,
   "id": "409db238",
   "metadata": {},
   "outputs": [
    {
     "name": "stdout",
     "output_type": "stream",
     "text": [
      "0.5 ;  40.82396261922424\n"
     ]
    }
   ],
   "source": [
    "#Выведем на экран минимальную и максимальную продолжительность поездок (в минутах)\n",
    "print(rides['duration'].min(), '; ', rides['duration'].max())"
   ]
  },
  {
   "cell_type": "code",
   "execution_count": 28,
   "id": "b9c45b45",
   "metadata": {},
   "outputs": [
    {
     "data": {
      "image/png": "[encoded data removed]",
      "text/plain": [
       "<Figure size 1200x800 with 1 Axes>"
      ]
     },
     "metadata": {},
     "output_type": "display_data"
    }
   ],
   "source": [
    "#Построим гистограмму распределения поездок по продолжительности\n",
    "rides['duration'].hist(bins=30, figsize=(12, 8), edgecolor='b')\n",
    "plt.title('Распределение поездок по продолжительности', fontsize=18)\n",
    "plt.xlabel('Продолжительность')\n",
    "plt.ylabel('Количество')\n",
    "plt.show()"
   ]
  },
  {
   "cell_type": "markdown",
   "id": "d6cd4d46",
   "metadata": {},
   "source": [
    "Распределение в целом близко к нормальному. Самая короткая по времени поездка 0,5 минуты, самая продолжительная - 40,8 минут. Чаще всего поездки имели продолжительность от 10 до 25 минут."
   ]
  },
  {
   "cell_type": "code",
   "execution_count": 29,
   "id": "5c8c9bfa",
   "metadata": {},
   "outputs": [
    {
     "data": {
      "image/png": "[encoded data removed]",
      "text/plain": [
       "<Figure size 800x800 with 1 Axes>"
      ]
     },
     "metadata": {},
     "output_type": "display_data"
    }
   ],
   "source": [
    "#Построим диаграмму размаха для распределения пользователей по продолжительности поездок\n",
    "plt.figure(figsize=(8, 8))\n",
    "rides.boxplot('duration')\n",
    "plt.title('Размах данных по продолжительности', fontsize=18)\n",
    "plt.ylabel('Продолжительность')\n",
    "plt.grid(True)\n",
    "plt.show()"
   ]
  },
  {
   "cell_type": "markdown",
   "id": "93da73f3",
   "metadata": {},
   "source": [
    "По диаграмме размаха можно определить, что медианная продолжительность поездок составляет 18 минут. Половина клиентов сервиса пользуется самокатом от 13 до 22 минут. Короткими можно считать поездки от 2 до 13 минут, длинными - от 22 до 34 минут. Поездки менее 2 минут - аномально короткие, и это редкость. Скорее всего, в этих случаях имеет место ошибка неопытного пользователя. Поездки дольше 34 минут являются аномально длительными, но как раз таких поездок довольно много, и здесь речь не может идти об ошибках. Действительно, некоторые клиенты, по всей видимости, передвигаются на самокате продолжительное время. Здесь аномальные данные также удалять нельзя.\n",
    "\n",
    "\n",
    "**Вывод.** Наибольшее число поездок по имеющимся данным совершили пользователи в Пятигорске, Екатеринбурге, Ростове-на-Дону, а также в Краснодаре и Сочи. В сибирских городах Омске и Тюмени, а также в Москве поездок меньше, что можно объяснить климатом, который очень часто не даёт возможности пользоваться самокатом. Но разброс по числу клиентов по разным городам невелик, и различие можно считать несущественным для нашего исследования.  \n",
    "Сервис используют с подпиской или без подписки. Пользователей без подписки примерно на 20 процентов больше, чем с подпиской.  \n",
    "Самые активные пользователи сервиса - люди от 22 до 28 лет. Разброс клиентов по возрасту небольшой, аномальных значений мало, совокупность клиентов по возрасту достаточно однородна.  \n",
    "За одну сессию чаще всего пользователи проезжают от 2.5 до 3.8 километров. В половине случаев поездка длится от 13 до 22 минут. Совокупность клиентов по расстоянию и продолжительности поездок неоднородна, разброс большой, аномальных по расстоянию и по длительности поездок много.\n",
    "Однако данные о пользователях и поездках, даже аномальные, удалять из таблиц нельзя. Они важны по нескольким причинам: во-первых, их много, поэтому их удаление повлияет на объем данных; во-вторых, эти данные не являются ошибками или выбросами, просто размах данных велик; в-третьих, речь идёт о таких же оплаченных поездках, как и все остальные, а мы далее будем изучать выручку компании. Итак, все имеющиеся данные остаются в наших таблицах для дальнейшего исследования."
   ]
  },
  {
   "cell_type": "markdown",
   "id": "4ef51331",
   "metadata": {},
   "source": [
    "## Исследование объединённых данных\n",
    "### Объединение данных из трех датафреймов в один датафрейм"
   ]
  },
  {
   "cell_type": "code",
   "execution_count": 30,
   "id": "95730be9",
   "metadata": {
    "scrolled": true
   },
   "outputs": [
    {
     "data": {
      "text/html": [
       "<div>\n",
       "<style scoped>\n",
       "    .dataframe tbody tr th:only-of-type {\n",
       "        vertical-align: middle;\n",
       "    }\n",
       "\n",
       "    .dataframe tbody tr th {\n",
       "        vertical-align: top;\n",
       "    }\n",
       "\n",
       "    .dataframe thead th {\n",
       "        text-align: right;\n",
       "    }\n",
       "</style>\n",
       "<table border=\"1\" class=\"dataframe\">\n",
       "  <thead>\n",
       "    <tr style=\"text-align: right;\">\n",
       "      <th></th>\n",
       "      <th>user_id</th>\n",
       "      <th>name</th>\n",
       "      <th>age</th>\n",
       "      <th>city</th>\n",
       "      <th>subscription_type</th>\n",
       "      <th>distance</th>\n",
       "      <th>duration</th>\n",
       "      <th>date</th>\n",
       "      <th>month</th>\n",
       "      <th>minute_price</th>\n",
       "      <th>start_ride_price</th>\n",
       "      <th>subscription_fee</th>\n",
       "    </tr>\n",
       "  </thead>\n",
       "  <tbody>\n",
       "    <tr>\n",
       "      <th>0</th>\n",
       "      <td>1</td>\n",
       "      <td>Кира</td>\n",
       "      <td>22</td>\n",
       "      <td>Тюмень</td>\n",
       "      <td>ultra</td>\n",
       "      <td>4409.919140</td>\n",
       "      <td>25.599769</td>\n",
       "      <td>2021-01-01</td>\n",
       "      <td>1</td>\n",
       "      <td>6</td>\n",
       "      <td>0</td>\n",
       "      <td>199</td>\n",
       "    </tr>\n",
       "    <tr>\n",
       "      <th>1</th>\n",
       "      <td>1</td>\n",
       "      <td>Кира</td>\n",
       "      <td>22</td>\n",
       "      <td>Тюмень</td>\n",
       "      <td>ultra</td>\n",
       "      <td>2617.592153</td>\n",
       "      <td>15.816871</td>\n",
       "      <td>2021-01-18</td>\n",
       "      <td>1</td>\n",
       "      <td>6</td>\n",
       "      <td>0</td>\n",
       "      <td>199</td>\n",
       "    </tr>\n",
       "    <tr>\n",
       "      <th>2</th>\n",
       "      <td>1</td>\n",
       "      <td>Кира</td>\n",
       "      <td>22</td>\n",
       "      <td>Тюмень</td>\n",
       "      <td>ultra</td>\n",
       "      <td>754.159807</td>\n",
       "      <td>6.232113</td>\n",
       "      <td>2021-04-20</td>\n",
       "      <td>4</td>\n",
       "      <td>6</td>\n",
       "      <td>0</td>\n",
       "      <td>199</td>\n",
       "    </tr>\n",
       "    <tr>\n",
       "      <th>3</th>\n",
       "      <td>1</td>\n",
       "      <td>Кира</td>\n",
       "      <td>22</td>\n",
       "      <td>Тюмень</td>\n",
       "      <td>ultra</td>\n",
       "      <td>2694.783254</td>\n",
       "      <td>18.511000</td>\n",
       "      <td>2021-08-11</td>\n",
       "      <td>8</td>\n",
       "      <td>6</td>\n",
       "      <td>0</td>\n",
       "      <td>199</td>\n",
       "    </tr>\n",
       "    <tr>\n",
       "      <th>4</th>\n",
       "      <td>1</td>\n",
       "      <td>Кира</td>\n",
       "      <td>22</td>\n",
       "      <td>Тюмень</td>\n",
       "      <td>ultra</td>\n",
       "      <td>4028.687306</td>\n",
       "      <td>26.265803</td>\n",
       "      <td>2021-08-28</td>\n",
       "      <td>8</td>\n",
       "      <td>6</td>\n",
       "      <td>0</td>\n",
       "      <td>199</td>\n",
       "    </tr>\n",
       "    <tr>\n",
       "      <th>5</th>\n",
       "      <td>1</td>\n",
       "      <td>Кира</td>\n",
       "      <td>22</td>\n",
       "      <td>Тюмень</td>\n",
       "      <td>ultra</td>\n",
       "      <td>2770.890808</td>\n",
       "      <td>16.650138</td>\n",
       "      <td>2021-10-09</td>\n",
       "      <td>10</td>\n",
       "      <td>6</td>\n",
       "      <td>0</td>\n",
       "      <td>199</td>\n",
       "    </tr>\n",
       "    <tr>\n",
       "      <th>6</th>\n",
       "      <td>1</td>\n",
       "      <td>Кира</td>\n",
       "      <td>22</td>\n",
       "      <td>Тюмень</td>\n",
       "      <td>ultra</td>\n",
       "      <td>3039.020292</td>\n",
       "      <td>14.927879</td>\n",
       "      <td>2021-10-19</td>\n",
       "      <td>10</td>\n",
       "      <td>6</td>\n",
       "      <td>0</td>\n",
       "      <td>199</td>\n",
       "    </tr>\n",
       "    <tr>\n",
       "      <th>7</th>\n",
       "      <td>1</td>\n",
       "      <td>Кира</td>\n",
       "      <td>22</td>\n",
       "      <td>Тюмень</td>\n",
       "      <td>ultra</td>\n",
       "      <td>2842.118050</td>\n",
       "      <td>23.117468</td>\n",
       "      <td>2021-11-06</td>\n",
       "      <td>11</td>\n",
       "      <td>6</td>\n",
       "      <td>0</td>\n",
       "      <td>199</td>\n",
       "    </tr>\n",
       "    <tr>\n",
       "      <th>8</th>\n",
       "      <td>1</td>\n",
       "      <td>Кира</td>\n",
       "      <td>22</td>\n",
       "      <td>Тюмень</td>\n",
       "      <td>ultra</td>\n",
       "      <td>3412.690668</td>\n",
       "      <td>15.238072</td>\n",
       "      <td>2021-11-14</td>\n",
       "      <td>11</td>\n",
       "      <td>6</td>\n",
       "      <td>0</td>\n",
       "      <td>199</td>\n",
       "    </tr>\n",
       "    <tr>\n",
       "      <th>9</th>\n",
       "      <td>1</td>\n",
       "      <td>Кира</td>\n",
       "      <td>22</td>\n",
       "      <td>Тюмень</td>\n",
       "      <td>ultra</td>\n",
       "      <td>748.690645</td>\n",
       "      <td>15.041884</td>\n",
       "      <td>2021-11-22</td>\n",
       "      <td>11</td>\n",
       "      <td>6</td>\n",
       "      <td>0</td>\n",
       "      <td>199</td>\n",
       "    </tr>\n",
       "    <tr>\n",
       "      <th>10</th>\n",
       "      <td>1</td>\n",
       "      <td>Кира</td>\n",
       "      <td>22</td>\n",
       "      <td>Тюмень</td>\n",
       "      <td>ultra</td>\n",
       "      <td>4031.020195</td>\n",
       "      <td>17.674448</td>\n",
       "      <td>2021-12-14</td>\n",
       "      <td>12</td>\n",
       "      <td>6</td>\n",
       "      <td>0</td>\n",
       "      <td>199</td>\n",
       "    </tr>\n",
       "    <tr>\n",
       "      <th>11</th>\n",
       "      <td>1</td>\n",
       "      <td>Кира</td>\n",
       "      <td>22</td>\n",
       "      <td>Тюмень</td>\n",
       "      <td>ultra</td>\n",
       "      <td>2720.609748</td>\n",
       "      <td>9.529463</td>\n",
       "      <td>2021-12-22</td>\n",
       "      <td>12</td>\n",
       "      <td>6</td>\n",
       "      <td>0</td>\n",
       "      <td>199</td>\n",
       "    </tr>\n",
       "    <tr>\n",
       "      <th>12</th>\n",
       "      <td>2</td>\n",
       "      <td>Станислав</td>\n",
       "      <td>31</td>\n",
       "      <td>Омск</td>\n",
       "      <td>ultra</td>\n",
       "      <td>3105.086678</td>\n",
       "      <td>24.307514</td>\n",
       "      <td>2021-03-15</td>\n",
       "      <td>3</td>\n",
       "      <td>6</td>\n",
       "      <td>0</td>\n",
       "      <td>199</td>\n",
       "    </tr>\n",
       "    <tr>\n",
       "      <th>13</th>\n",
       "      <td>2</td>\n",
       "      <td>Станислав</td>\n",
       "      <td>31</td>\n",
       "      <td>Омск</td>\n",
       "      <td>ultra</td>\n",
       "      <td>3053.519401</td>\n",
       "      <td>11.543256</td>\n",
       "      <td>2021-03-18</td>\n",
       "      <td>3</td>\n",
       "      <td>6</td>\n",
       "      <td>0</td>\n",
       "      <td>199</td>\n",
       "    </tr>\n",
       "    <tr>\n",
       "      <th>14</th>\n",
       "      <td>2</td>\n",
       "      <td>Станислав</td>\n",
       "      <td>31</td>\n",
       "      <td>Омск</td>\n",
       "      <td>ultra</td>\n",
       "      <td>4029.116927</td>\n",
       "      <td>25.109188</td>\n",
       "      <td>2021-03-23</td>\n",
       "      <td>3</td>\n",
       "      <td>6</td>\n",
       "      <td>0</td>\n",
       "      <td>199</td>\n",
       "    </tr>\n",
       "    <tr>\n",
       "      <th>15</th>\n",
       "      <td>2</td>\n",
       "      <td>Станислав</td>\n",
       "      <td>31</td>\n",
       "      <td>Омск</td>\n",
       "      <td>ultra</td>\n",
       "      <td>2805.786329</td>\n",
       "      <td>20.652145</td>\n",
       "      <td>2021-04-08</td>\n",
       "      <td>4</td>\n",
       "      <td>6</td>\n",
       "      <td>0</td>\n",
       "      <td>199</td>\n",
       "    </tr>\n",
       "    <tr>\n",
       "      <th>16</th>\n",
       "      <td>2</td>\n",
       "      <td>Станислав</td>\n",
       "      <td>31</td>\n",
       "      <td>Омск</td>\n",
       "      <td>ultra</td>\n",
       "      <td>3358.595495</td>\n",
       "      <td>18.396489</td>\n",
       "      <td>2021-04-13</td>\n",
       "      <td>4</td>\n",
       "      <td>6</td>\n",
       "      <td>0</td>\n",
       "      <td>199</td>\n",
       "    </tr>\n",
       "    <tr>\n",
       "      <th>17</th>\n",
       "      <td>2</td>\n",
       "      <td>Станислав</td>\n",
       "      <td>31</td>\n",
       "      <td>Омск</td>\n",
       "      <td>ultra</td>\n",
       "      <td>3255.338202</td>\n",
       "      <td>13.851127</td>\n",
       "      <td>2021-06-20</td>\n",
       "      <td>6</td>\n",
       "      <td>6</td>\n",
       "      <td>0</td>\n",
       "      <td>199</td>\n",
       "    </tr>\n",
       "    <tr>\n",
       "      <th>18</th>\n",
       "      <td>2</td>\n",
       "      <td>Станислав</td>\n",
       "      <td>31</td>\n",
       "      <td>Омск</td>\n",
       "      <td>ultra</td>\n",
       "      <td>3942.817648</td>\n",
       "      <td>20.142725</td>\n",
       "      <td>2021-07-02</td>\n",
       "      <td>7</td>\n",
       "      <td>6</td>\n",
       "      <td>0</td>\n",
       "      <td>199</td>\n",
       "    </tr>\n",
       "    <tr>\n",
       "      <th>19</th>\n",
       "      <td>2</td>\n",
       "      <td>Станислав</td>\n",
       "      <td>31</td>\n",
       "      <td>Омск</td>\n",
       "      <td>ultra</td>\n",
       "      <td>2837.905316</td>\n",
       "      <td>26.027432</td>\n",
       "      <td>2021-07-18</td>\n",
       "      <td>7</td>\n",
       "      <td>6</td>\n",
       "      <td>0</td>\n",
       "      <td>199</td>\n",
       "    </tr>\n",
       "  </tbody>\n",
       "</table>\n",
       "</div>"
      ],
      "text/plain": [
       "    user_id       name  age    city subscription_type     distance   duration  \\\n",
       "0         1       Кира   22  Тюмень             ultra  4409.919140  25.599769   \n",
       "1         1       Кира   22  Тюмень             ultra  2617.592153  15.816871   \n",
       "2         1       Кира   22  Тюмень             ultra   754.159807   6.232113   \n",
       "3         1       Кира   22  Тюмень             ultra  2694.783254  18.511000   \n",
       "4         1       Кира   22  Тюмень             ultra  4028.687306  26.265803   \n",
       "5         1       Кира   22  Тюмень             ultra  2770.890808  16.650138   \n",
       "6         1       Кира   22  Тюмень             ultra  3039.020292  14.927879   \n",
       "7         1       Кира   22  Тюмень             ultra  2842.118050  23.117468   \n",
       "8         1       Кира   22  Тюмень             ultra  3412.690668  15.238072   \n",
       "9         1       Кира   22  Тюмень             ultra   748.690645  15.041884   \n",
       "10        1       Кира   22  Тюмень             ultra  4031.020195  17.674448   \n",
       "11        1       Кира   22  Тюмень             ultra  2720.609748   9.529463   \n",
       "12        2  Станислав   31    Омск             ultra  3105.086678  24.307514   \n",
       "13        2  Станислав   31    Омск             ultra  3053.519401  11.543256   \n",
       "14        2  Станислав   31    Омск             ultra  4029.116927  25.109188   \n",
       "15        2  Станислав   31    Омск             ultra  2805.786329  20.652145   \n",
       "16        2  Станислав   31    Омск             ultra  3358.595495  18.396489   \n",
       "17        2  Станислав   31    Омск             ultra  3255.338202  13.851127   \n",
       "18        2  Станислав   31    Омск             ultra  3942.817648  20.142725   \n",
       "19        2  Станислав   31    Омск             ultra  2837.905316  26.027432   \n",
       "\n",
       "         date  month  minute_price  start_ride_price  subscription_fee  \n",
       "0  2021-01-01      1             6                 0               199  \n",
       "1  2021-01-18      1             6                 0               199  \n",
       "2  2021-04-20      4             6                 0               199  \n",
       "3  2021-08-11      8             6                 0               199  \n",
       "4  2021-08-28      8             6                 0               199  \n",
       "5  2021-10-09     10             6                 0               199  \n",
       "6  2021-10-19     10             6                 0               199  \n",
       "7  2021-11-06     11             6                 0               199  \n",
       "8  2021-11-14     11             6                 0               199  \n",
       "9  2021-11-22     11             6                 0               199  \n",
       "10 2021-12-14     12             6                 0               199  \n",
       "11 2021-12-22     12             6                 0               199  \n",
       "12 2021-03-15      3             6                 0               199  \n",
       "13 2021-03-18      3             6                 0               199  \n",
       "14 2021-03-23      3             6                 0               199  \n",
       "15 2021-04-08      4             6                 0               199  \n",
       "16 2021-04-13      4             6                 0               199  \n",
       "17 2021-06-20      6             6                 0               199  \n",
       "18 2021-07-02      7             6                 0               199  \n",
       "19 2021-07-18      7             6                 0               199  "
      ]
     },
     "execution_count": 30,
     "metadata": {},
     "output_type": "execute_result"
    }
   ],
   "source": [
    "#Объединим методом `merge` датафреймы `users` и `rides`\n",
    "#Объединённый датафрейм сохраним как `data`\n",
    "data = users.merge(rides, on='user_id', how='outer')\n",
    "\n",
    "#Объединим методом `merge` датафреймы `data` и `subscriptions`\n",
    "data = data.merge(subscriptions, on='subscription_type', how='outer')\n",
    "\n",
    "#Выведем на экран первые 20 строк получившегося датафрейма\n",
    "data.head(20)"
   ]
  },
  {
   "cell_type": "code",
   "execution_count": 31,
   "id": "af1d5a25",
   "metadata": {},
   "outputs": [
    {
     "name": "stdout",
     "output_type": "stream",
     "text": [
      "<class 'pandas.core.frame.DataFrame'>\n",
      "Int64Index: 18068 entries, 0 to 18067\n",
      "Data columns (total 12 columns):\n",
      " #   Column             Non-Null Count  Dtype         \n",
      "---  ------             --------------  -----         \n",
      " 0   user_id            18068 non-null  int64         \n",
      " 1   name               18068 non-null  object        \n",
      " 2   age                18068 non-null  int64         \n",
      " 3   city               18068 non-null  object        \n",
      " 4   subscription_type  18068 non-null  object        \n",
      " 5   distance           18068 non-null  float64       \n",
      " 6   duration           18068 non-null  float64       \n",
      " 7   date               18068 non-null  datetime64[ns]\n",
      " 8   month              18068 non-null  int64         \n",
      " 9   minute_price       18068 non-null  int64         \n",
      " 10  start_ride_price   18068 non-null  int64         \n",
      " 11  subscription_fee   18068 non-null  int64         \n",
      "dtypes: datetime64[ns](1), float64(2), int64(6), object(3)\n",
      "memory usage: 1.8+ MB\n"
     ]
    }
   ],
   "source": [
    "#Выведем на экран информацию о датафрейме `data`\n",
    "data.info()"
   ]
  },
  {
   "cell_type": "markdown",
   "id": "a99d5dce",
   "metadata": {},
   "source": [
    "### Создание отдельных датафреймов с подпиской и без"
   ]
  },
  {
   "cell_type": "code",
   "execution_count": 32,
   "id": "54e3751a",
   "metadata": {},
   "outputs": [
    {
     "name": "stdout",
     "output_type": "stream",
     "text": [
      "<class 'pandas.core.frame.DataFrame'>\n",
      "Int64Index: 11568 entries, 6500 to 18067\n",
      "Data columns (total 12 columns):\n",
      " #   Column             Non-Null Count  Dtype         \n",
      "---  ------             --------------  -----         \n",
      " 0   user_id            11568 non-null  int64         \n",
      " 1   name               11568 non-null  object        \n",
      " 2   age                11568 non-null  int64         \n",
      " 3   city               11568 non-null  object        \n",
      " 4   subscription_type  11568 non-null  object        \n",
      " 5   distance           11568 non-null  float64       \n",
      " 6   duration           11568 non-null  float64       \n",
      " 7   date               11568 non-null  datetime64[ns]\n",
      " 8   month              11568 non-null  int64         \n",
      " 9   minute_price       11568 non-null  int64         \n",
      " 10  start_ride_price   11568 non-null  int64         \n",
      " 11  subscription_fee   11568 non-null  int64         \n",
      "dtypes: datetime64[ns](1), float64(2), int64(6), object(3)\n",
      "memory usage: 1.1+ MB\n"
     ]
    }
   ],
   "source": [
    "#Создадим датафрейм `data_free` с данными о пользователях без подписки\n",
    "data_free = data.query('subscription_type == \"free\"')\n",
    "\n",
    "#Выведем на экран информацию о датафрейме `data_free`\n",
    "data_free.info()"
   ]
  },
  {
   "cell_type": "code",
   "execution_count": 33,
   "id": "e0e83a17",
   "metadata": {},
   "outputs": [
    {
     "name": "stdout",
     "output_type": "stream",
     "text": [
      "<class 'pandas.core.frame.DataFrame'>\n",
      "Int64Index: 6500 entries, 0 to 6499\n",
      "Data columns (total 12 columns):\n",
      " #   Column             Non-Null Count  Dtype         \n",
      "---  ------             --------------  -----         \n",
      " 0   user_id            6500 non-null   int64         \n",
      " 1   name               6500 non-null   object        \n",
      " 2   age                6500 non-null   int64         \n",
      " 3   city               6500 non-null   object        \n",
      " 4   subscription_type  6500 non-null   object        \n",
      " 5   distance           6500 non-null   float64       \n",
      " 6   duration           6500 non-null   float64       \n",
      " 7   date               6500 non-null   datetime64[ns]\n",
      " 8   month              6500 non-null   int64         \n",
      " 9   minute_price       6500 non-null   int64         \n",
      " 10  start_ride_price   6500 non-null   int64         \n",
      " 11  subscription_fee   6500 non-null   int64         \n",
      "dtypes: datetime64[ns](1), float64(2), int64(6), object(3)\n",
      "memory usage: 660.2+ KB\n"
     ]
    }
   ],
   "source": [
    "#Создадим датафрейм `data_ultra` с данными о пользователях с подпиской\n",
    "data_ultra = data.query('subscription_type == \"ultra\"')\n",
    "\n",
    "#Выведем на экран информацию о датафрейме `data_ultra`\n",
    "data_ultra.info()"
   ]
  },
  {
   "cell_type": "code",
   "execution_count": 34,
   "id": "8d514c9a",
   "metadata": {},
   "outputs": [
    {
     "data": {
      "text/plain": [
       "True"
      ]
     },
     "execution_count": 34,
     "metadata": {},
     "output_type": "execute_result"
    }
   ],
   "source": [
    "#Проверим, сложив число срок в датафреймах `data_free` и `data_ultra`\n",
    "#Должно получиться число срок в датафрейме `data`\n",
    "len(data_free) + len(data_ultra) == len(data)"
   ]
  },
  {
   "cell_type": "markdown",
   "id": "abcbac14",
   "metadata": {},
   "source": [
    "### Визуализация информации о поездках"
   ]
  },
  {
   "cell_type": "code",
   "execution_count": 35,
   "id": "a3207b60",
   "metadata": {},
   "outputs": [
    {
     "data": {
      "image/png": "[encoded data removed]",
      "text/plain": [
       "<Figure size 1500x800 with 2 Axes>"
      ]
     },
     "metadata": {},
     "output_type": "display_data"
    }
   ],
   "source": [
    "#Построим две гистограммы распределения поездок по расстоянию за одну поездку по данным без подписки и с подпиской\n",
    "plt.subplot(121)\n",
    "data_free['distance'].hist(bins=30, figsize=(15, 8), edgecolor='b')\n",
    "plt.xlim(1, 7500)\n",
    "plt.ylim(1, 1000)\n",
    "plt.title('Расстояние поездок пользователей без подписки', fontsize=14)\n",
    "plt.xlabel('Расстояние')\n",
    "plt.ylabel('Частота')\n",
    "plt.subplot(122)\n",
    "data_ultra['distance'].hist(bins=30, figsize=(15, 8), edgecolor='b')\n",
    "plt.xlim(1, 7500)\n",
    "plt.ylim(1, 1000)\n",
    "plt.title('Расстояние поездок пользователей с подпиской', fontsize=14)\n",
    "plt.xlabel('Расстояние')\n",
    "plt.ylabel('Частота')\n",
    "plt.show()"
   ]
  },
  {
   "cell_type": "code",
   "execution_count": 36,
   "id": "8972b3f1",
   "metadata": {},
   "outputs": [
    {
     "data": {
      "image/png": "[encoded data removed]",
      "text/plain": [
       "<Figure size 1200x800 with 1 Axes>"
      ]
     },
     "metadata": {},
     "output_type": "display_data"
    }
   ],
   "source": [
    "#Совместим гистограммы на одном поле\n",
    "ax = data_free['distance'].plot(\n",
    "    kind='hist',\n",
    "    histtype='step',\n",
    "    range=(0, 7500),\n",
    "    bins=30,\n",
    "    figsize=(12, 8),\n",
    "    linewidth=5,\n",
    "    alpha=0.7,\n",
    "    label='free',\n",
    "    legend=True,\n",
    ")\n",
    "\n",
    "data_ultra['distance'].plot(\n",
    "    kind='hist',\n",
    "    histtype='step',\n",
    "    range=(0, 7500),\n",
    "    bins=30,\n",
    "    linewidth=5,\n",
    "    alpha=0.7,\n",
    "    label='ultra',\n",
    "    ax=ax,\n",
    "    grid=True,\n",
    "    legend=True,\n",
    ")\n",
    "\n",
    "plt.title('Расстояние поездок', fontsize=18)\n",
    "plt.xlabel('Расстояние')\n",
    "plt.ylabel('Частота')\n",
    "plt.show()"
   ]
  },
  {
   "cell_type": "markdown",
   "id": "eb1aea63",
   "metadata": {},
   "source": [
    "На совмещённой гистограмме видно, что гистограмма, построенная по данным о расстоянии поездок пользователей с подпиской, более узкая, главный пик у неё более выражен. Это означает, что разброс расстояний поездок клиентов с подпиской меньше, расстояния этих поездок более близки к среднему значению. У пользователей без подписки больше выражен малый пик, то есть, действительно, ошибочных и пробных поездок без подписки заметно больше. Аномальных поездок на расстояния, близкие к нулю, у пользователей с подпиской практически нет."
   ]
  },
  {
   "cell_type": "code",
   "execution_count": 37,
   "id": "90bf7375",
   "metadata": {},
   "outputs": [
    {
     "data": {
      "image/png": "[encoded data removed]",
      "text/plain": [
       "<Figure size 1500x800 with 2 Axes>"
      ]
     },
     "metadata": {},
     "output_type": "display_data"
    }
   ],
   "source": [
    "#Построим две гистограммы распределения поездок по времени поездок по данным без подписки и с подпиской\n",
    "plt.subplot(121)\n",
    "data_free['duration'].hist(bins=30, figsize=(15, 8), edgecolor='b')\n",
    "plt.xlim(1, 45)\n",
    "plt.ylim(1, 850)\n",
    "plt.title('Продолжительность поездок без подписки', fontsize=14)\n",
    "plt.xlabel('Продолжительность')\n",
    "plt.ylabel('Частота')\n",
    "plt.subplot(122)\n",
    "data_ultra['duration'].hist(bins=30, figsize=(15, 8), edgecolor='b')\n",
    "plt.xlim(1, 45)\n",
    "plt.ylim(1, 850)\n",
    "plt.title('Продолжительность поездок с подпиской', fontsize=14)\n",
    "plt.xlabel('Продолжительность')\n",
    "plt.ylabel('Частота')\n",
    "plt.show()"
   ]
  },
  {
   "cell_type": "code",
   "execution_count": 38,
   "id": "74623e31",
   "metadata": {},
   "outputs": [
    {
     "data": {
      "image/png": "[encoded data removed]",
      "text/plain": [
       "<Figure size 1200x800 with 1 Axes>"
      ]
     },
     "metadata": {},
     "output_type": "display_data"
    }
   ],
   "source": [
    "#Совместим гистограммы на одном поле\n",
    "ax = data_free['duration'].plot(\n",
    "    kind='hist',\n",
    "    histtype='step',\n",
    "    range=(0, 45),\n",
    "    bins=30,\n",
    "    figsize=(12, 8),\n",
    "    linewidth=5,\n",
    "    alpha=0.7,\n",
    "    label='free',\n",
    "    legend=True,\n",
    ")\n",
    "\n",
    "data_ultra['duration'].plot(\n",
    "    kind='hist',\n",
    "    histtype='step',\n",
    "    range=(0, 45),\n",
    "    bins=30,\n",
    "    linewidth=5,\n",
    "    alpha=0.7,\n",
    "    label='ultra',\n",
    "    ax=ax,\n",
    "    grid=True,\n",
    "    legend=True,\n",
    ")\n",
    "\n",
    "plt.title('Продолжительность поездок', fontsize=18)\n",
    "plt.xlabel('Продолжительность')\n",
    "plt.ylabel('Частота')\n",
    "plt.show()"
   ]
  },
  {
   "cell_type": "markdown",
   "id": "324dc6f2",
   "metadata": {},
   "source": [
    "Совместная гистограмма показывает, что распределение поездок пользователей без подписки и с подпиской очень похоже. Разница состоит в том, что практически отсутствуют аномально короткие по времени поездки. Такие аномалии наблюдаются только у пользователей без подписки. Это указывает на то, что пользователи без подписки бывают неопытными, не всегда знают, как пользоваться приложением или самокатом, пробуют, ошибаются, учатся. А пользователи с подпиской знают что и как, взяли самокат и поехали куда планировали."
   ]
  },
  {
   "cell_type": "code",
   "execution_count": 39,
   "id": "ffa6ff7c",
   "metadata": {},
   "outputs": [
    {
     "name": "stdout",
     "output_type": "stream",
     "text": [
      "Среднее расстояние поездок пользователей без подписки 3045.5 , с подпиской 3115.45\n",
      "Среднее время поездок пользователей без подписки 17.39 , с подпиской 18.54\n"
     ]
    }
   ],
   "source": [
    "#Выведем на экран среднее расстояние и время поездок пользователей без подписки и с подпиской\n",
    "print('Среднее расстояние поездок пользователей без подписки', data_free['distance'].mean().round(2),\\\n",
    "      ', с подпиской', data_ultra['distance'].mean().round(2))\n",
    "print('Среднее время поездок пользователей без подписки', data_free['duration'].mean().round(2),\\\n",
    "      ', с подпиской', data_ultra['duration'].mean().round(2))"
   ]
  },
  {
   "cell_type": "markdown",
   "id": "e987ce4b",
   "metadata": {},
   "source": [
    "### Сравнение статистик у двух групп пользователей"
   ]
  },
  {
   "cell_type": "code",
   "execution_count": 40,
   "id": "a573912a",
   "metadata": {},
   "outputs": [
    {
     "data": {
      "text/plain": [
       "count    11568.00\n",
       "mean      3045.50\n",
       "std       1246.17\n",
       "min          0.86\n",
       "25%       2366.56\n",
       "50%       3114.65\n",
       "75%       3905.70\n",
       "max       7211.01\n",
       "Name: distance, dtype: float64"
      ]
     },
     "metadata": {},
     "output_type": "display_data"
    },
    {
     "data": {
      "text/plain": [
       "count    6500.00\n",
       "mean     3115.45\n",
       "std       836.90\n",
       "min       244.21\n",
       "25%      2785.44\n",
       "50%      3148.64\n",
       "75%      3560.57\n",
       "max      5699.77\n",
       "Name: distance, dtype: float64"
      ]
     },
     "metadata": {},
     "output_type": "display_data"
    }
   ],
   "source": [
    "#Воспользуемся методом `describe()`, чтобы получить числовое описание поездок\n",
    "#по двум группам пользователей (без подписки и с подпиской) по столбцу `distance`\n",
    "display(data_free['distance'].describe().round(2))\n",
    "display(data_ultra['distance'].describe().round(2))"
   ]
  },
  {
   "cell_type": "code",
   "execution_count": 41,
   "id": "fce9e720",
   "metadata": {},
   "outputs": [
    {
     "data": {
      "text/plain": [
       "1.7796923076923077"
      ]
     },
     "metadata": {},
     "output_type": "display_data"
    }
   ],
   "source": [
    "#Число поездок пользователей без подписки значительно больше числа поездок пользователей с подпиской,\n",
    "#посчитаем соотношение\n",
    "display(data_free['distance'].count() / data_ultra['distance'].count())"
   ]
  },
  {
   "cell_type": "markdown",
   "id": "eb39439d",
   "metadata": {},
   "source": [
    "Пользователи без подписки совершили на 78 % поездок больше, чем пользователи с подпиской. Но средняя дистанция поездки у клиентов с подпиской больше. Кроме того, разброс значений у клиентов без подписки значительно больше. Минимальная поездка составляет меньше метра, стандартное отклонение значительно больше, межквартильный размах гораздо шире, чем у клиентов с подпиской. Подтверждаются выводы, сделанные по графическим изображениям."
   ]
  },
  {
   "cell_type": "code",
   "execution_count": 42,
   "id": "62e11452",
   "metadata": {},
   "outputs": [
    {
     "data": {
      "text/plain": [
       "count    11568.00\n",
       "mean        17.39\n",
       "std          6.33\n",
       "min          0.50\n",
       "25%         12.96\n",
       "50%         17.33\n",
       "75%         21.59\n",
       "max         34.95\n",
       "Name: duration, dtype: float64"
      ]
     },
     "metadata": {},
     "output_type": "display_data"
    },
    {
     "data": {
      "text/plain": [
       "count    6500.00\n",
       "mean       18.54\n",
       "std         5.57\n",
       "min         3.76\n",
       "25%        14.52\n",
       "50%        18.18\n",
       "75%        21.88\n",
       "max        40.82\n",
       "Name: duration, dtype: float64"
      ]
     },
     "metadata": {},
     "output_type": "display_data"
    }
   ],
   "source": [
    "#Методом `describe()`, получим числовое описание поездок\n",
    "#по двум группам пользователей (без подписки и с подпиской) по столбцу `duration`\n",
    "display(data_free['duration'].describe().round(2))\n",
    "display(data_ultra['duration'].describe().round(2))"
   ]
  },
  {
   "cell_type": "markdown",
   "id": "d0415ec6",
   "metadata": {},
   "source": [
    "По продолжительности поездок разница между группами пользователей не такая ярко выраженная. Средняя продолжительность различается всего на одну минуту, медианная - даже меньше, чем на одну минуту. Остальные показатели тоже различаются ненамного. Но разброс продолжительности поездок у клиентов без подписки, как показывает стандартное отклонение, всё-таки выше. У них минимальная поездка длилась всего полминуты, что указывает также на наличие ошибок при использовании приложения или использовании самокатов."
   ]
  },
  {
   "cell_type": "markdown",
   "id": "435457e2",
   "metadata": {},
   "source": [
    "### Распределение поездок по городам и сезонам"
   ]
  },
  {
   "cell_type": "code",
   "execution_count": 43,
   "id": "42684da0",
   "metadata": {},
   "outputs": [],
   "source": [
    "#Напишем функцию для определения сезонов\n",
    "def seasons(month):\n",
    "    try:\n",
    "        if 3 <= month <= 5:\n",
    "            return 'spring'\n",
    "        elif 6 <= month <= 8:\n",
    "            return 'summer'\n",
    "        elif 9 <= month <= 11:\n",
    "            return 'fall'\n",
    "        elif month < 3 or month == 12:\n",
    "            return 'winter'        \n",
    "    except:\n",
    "        pass"
   ]
  },
  {
   "cell_type": "code",
   "execution_count": 44,
   "id": "81e732ee",
   "metadata": {},
   "outputs": [
    {
     "data": {
      "text/html": [
       "<div>\n",
       "<style scoped>\n",
       "    .dataframe tbody tr th:only-of-type {\n",
       "        vertical-align: middle;\n",
       "    }\n",
       "\n",
       "    .dataframe tbody tr th {\n",
       "        vertical-align: top;\n",
       "    }\n",
       "\n",
       "    .dataframe thead th {\n",
       "        text-align: right;\n",
       "    }\n",
       "</style>\n",
       "<table border=\"1\" class=\"dataframe\">\n",
       "  <thead>\n",
       "    <tr style=\"text-align: right;\">\n",
       "      <th></th>\n",
       "      <th>user_id</th>\n",
       "      <th>name</th>\n",
       "      <th>age</th>\n",
       "      <th>city</th>\n",
       "      <th>subscription_type</th>\n",
       "      <th>distance</th>\n",
       "      <th>duration</th>\n",
       "      <th>date</th>\n",
       "      <th>month</th>\n",
       "      <th>minute_price</th>\n",
       "      <th>start_ride_price</th>\n",
       "      <th>subscription_fee</th>\n",
       "      <th>season</th>\n",
       "    </tr>\n",
       "  </thead>\n",
       "  <tbody>\n",
       "    <tr>\n",
       "      <th>0</th>\n",
       "      <td>1</td>\n",
       "      <td>Кира</td>\n",
       "      <td>22</td>\n",
       "      <td>Тюмень</td>\n",
       "      <td>ultra</td>\n",
       "      <td>4409.919140</td>\n",
       "      <td>25.599769</td>\n",
       "      <td>2021-01-01</td>\n",
       "      <td>1</td>\n",
       "      <td>6</td>\n",
       "      <td>0</td>\n",
       "      <td>199</td>\n",
       "      <td>winter</td>\n",
       "    </tr>\n",
       "    <tr>\n",
       "      <th>1</th>\n",
       "      <td>1</td>\n",
       "      <td>Кира</td>\n",
       "      <td>22</td>\n",
       "      <td>Тюмень</td>\n",
       "      <td>ultra</td>\n",
       "      <td>2617.592153</td>\n",
       "      <td>15.816871</td>\n",
       "      <td>2021-01-18</td>\n",
       "      <td>1</td>\n",
       "      <td>6</td>\n",
       "      <td>0</td>\n",
       "      <td>199</td>\n",
       "      <td>winter</td>\n",
       "    </tr>\n",
       "    <tr>\n",
       "      <th>2</th>\n",
       "      <td>1</td>\n",
       "      <td>Кира</td>\n",
       "      <td>22</td>\n",
       "      <td>Тюмень</td>\n",
       "      <td>ultra</td>\n",
       "      <td>754.159807</td>\n",
       "      <td>6.232113</td>\n",
       "      <td>2021-04-20</td>\n",
       "      <td>4</td>\n",
       "      <td>6</td>\n",
       "      <td>0</td>\n",
       "      <td>199</td>\n",
       "      <td>spring</td>\n",
       "    </tr>\n",
       "    <tr>\n",
       "      <th>3</th>\n",
       "      <td>1</td>\n",
       "      <td>Кира</td>\n",
       "      <td>22</td>\n",
       "      <td>Тюмень</td>\n",
       "      <td>ultra</td>\n",
       "      <td>2694.783254</td>\n",
       "      <td>18.511000</td>\n",
       "      <td>2021-08-11</td>\n",
       "      <td>8</td>\n",
       "      <td>6</td>\n",
       "      <td>0</td>\n",
       "      <td>199</td>\n",
       "      <td>summer</td>\n",
       "    </tr>\n",
       "    <tr>\n",
       "      <th>4</th>\n",
       "      <td>1</td>\n",
       "      <td>Кира</td>\n",
       "      <td>22</td>\n",
       "      <td>Тюмень</td>\n",
       "      <td>ultra</td>\n",
       "      <td>4028.687306</td>\n",
       "      <td>26.265803</td>\n",
       "      <td>2021-08-28</td>\n",
       "      <td>8</td>\n",
       "      <td>6</td>\n",
       "      <td>0</td>\n",
       "      <td>199</td>\n",
       "      <td>summer</td>\n",
       "    </tr>\n",
       "  </tbody>\n",
       "</table>\n",
       "</div>"
      ],
      "text/plain": [
       "   user_id  name  age    city subscription_type     distance   duration  \\\n",
       "0        1  Кира   22  Тюмень             ultra  4409.919140  25.599769   \n",
       "1        1  Кира   22  Тюмень             ultra  2617.592153  15.816871   \n",
       "2        1  Кира   22  Тюмень             ultra   754.159807   6.232113   \n",
       "3        1  Кира   22  Тюмень             ultra  2694.783254  18.511000   \n",
       "4        1  Кира   22  Тюмень             ultra  4028.687306  26.265803   \n",
       "\n",
       "        date  month  minute_price  start_ride_price  subscription_fee  season  \n",
       "0 2021-01-01      1             6                 0               199  winter  \n",
       "1 2021-01-18      1             6                 0               199  winter  \n",
       "2 2021-04-20      4             6                 0               199  spring  \n",
       "3 2021-08-11      8             6                 0               199  summer  \n",
       "4 2021-08-28      8             6                 0               199  summer  "
      ]
     },
     "execution_count": 44,
     "metadata": {},
     "output_type": "execute_result"
    }
   ],
   "source": [
    "#Добавим в объединенный датафрейм `data` столбец `season`\n",
    "data['season'] = data['month'].apply(seasons)\n",
    "data.head()"
   ]
  },
  {
   "cell_type": "code",
   "execution_count": 45,
   "id": "ea11b5d0",
   "metadata": {},
   "outputs": [
    {
     "data": {
      "text/plain": [
       "spring    4610\n",
       "summer    4600\n",
       "winter    4448\n",
       "fall      4410\n",
       "Name: season, dtype: int64"
      ]
     },
     "execution_count": 45,
     "metadata": {},
     "output_type": "execute_result"
    }
   ],
   "source": [
    "#Посчитаем число поездок по сезонам\n",
    "data['season'].value_counts()"
   ]
  },
  {
   "cell_type": "code",
   "execution_count": 46,
   "id": "e8b0202a",
   "metadata": {},
   "outputs": [
    {
     "data": {
      "text/plain": [
       "1.0341726618705036"
      ]
     },
     "execution_count": 46,
     "metadata": {},
     "output_type": "execute_result"
    }
   ],
   "source": [
    "#Посчитаем, сколько в процентах составляет разница числа поезок летом и зимой\n",
    "data.loc[data['season'] == 'summer']['user_id'].count() / data.loc[data['season'] == 'winter']['user_id'].count()"
   ]
  },
  {
   "cell_type": "markdown",
   "id": "902f71c0",
   "metadata": {},
   "source": [
    "Весной и летом зафиксировано поездок больше, чем осенью и зимой. Однако число поездок летом всего на `3.4` процента больше, чем зимой. Рассмотрим число поездок по сезонам более подробно, по городам."
   ]
  },
  {
   "cell_type": "code",
   "execution_count": 47,
   "id": "28052316",
   "metadata": {},
   "outputs": [
    {
     "data": {
      "image/png": "[encoded data removed]",
      "text/plain": [
       "<Figure size 1200x800 with 1 Axes>"
      ]
     },
     "metadata": {},
     "output_type": "display_data"
    }
   ],
   "source": [
    "#Построим горизонтальную столбчатую диаграмму, используя сводную таблицу\n",
    "data.pivot_table(index='city', columns='season', values='distance', aggfunc='count')\\\n",
    ".plot(kind='barh', figsize=(12, 8), grid=True)\n",
    "plt.title('Поездки по городам и сезонам', fontsize=18)\n",
    "plt.xlabel('Количество')\n",
    "plt.ylabel('Города')\n",
    "plt.show()"
   ]
  },
  {
   "cell_type": "markdown",
   "id": "fcade87f",
   "metadata": {},
   "source": [
    "Вывод по городам и сезонам получился непредсказуемый. Оказывается, в сибирских городах Омске и Тюмени, а также в Москве в зимние месяцы сервис аренды самокатов действует так же активно, как в другие сезоны. Да, в Омске зимой поездок меньше, чем в другие сезоны. Но в Тюмени особой разницы не видно, причем зимой число поездок даже больше, чем летом. И в Москве зимой число поездок сравнимо с летними месяцами. Это странная статистика. Объяснить её нельзя. Нужно составить баг-репорт, чтобы данные перепроверили."
   ]
  },
  {
   "cell_type": "markdown",
   "id": "a07410cf",
   "metadata": {},
   "source": [
    "**Вывод**. Нами объединены данные из трёх датафреймов в один. А затем мы разделили этот датафрейм на два - по группам пользователей. Проверка показала, что после объединения и разделения пропусков не появилось.  \n",
    "Пользователи без подписки совершили на 78 % поездок больше, чем пользователи с подпиской. Но среднее расстояние поездок у пользователей с подпиской больше. Разброс поездок по времени и расстоянию поездок у пользователей без подписки больше, чем у пользователей с подпиской. Большое влияние на это, скорей всего, оказало наличие среди пользователей без подписки определенного количества неопытных пользователей, которые ошибаются при использовании приложения или при использовании самоката, отчего поездки у них получаются маленькими по расстоянию и по продолжительности.  \n",
    "Анализ поездок по городам и сезонам дал странные результаты: в сибирских городах зимой самокаты используются так же активно, как и летом, чего быть не может. Необходимо довести информацию до коллег, чтобы данные перепроверили."
   ]
  },
  {
   "cell_type": "markdown",
   "id": "2073b96e",
   "metadata": {},
   "source": [
    "### Создание таблицы с агрегированными данными"
   ]
  },
  {
   "cell_type": "code",
   "execution_count": 48,
   "id": "14ded826",
   "metadata": {
    "scrolled": true
   },
   "outputs": [
    {
     "data": {
      "text/html": [
       "<div>\n",
       "<style scoped>\n",
       "    .dataframe tbody tr th:only-of-type {\n",
       "        vertical-align: middle;\n",
       "    }\n",
       "\n",
       "    .dataframe tbody tr th {\n",
       "        vertical-align: top;\n",
       "    }\n",
       "\n",
       "    .dataframe thead th {\n",
       "        text-align: right;\n",
       "    }\n",
       "</style>\n",
       "<table border=\"1\" class=\"dataframe\">\n",
       "  <thead>\n",
       "    <tr style=\"text-align: right;\">\n",
       "      <th></th>\n",
       "      <th>user_id</th>\n",
       "      <th>name</th>\n",
       "      <th>age</th>\n",
       "      <th>city</th>\n",
       "      <th>subscription_type</th>\n",
       "      <th>distance</th>\n",
       "      <th>duration</th>\n",
       "      <th>date</th>\n",
       "      <th>month</th>\n",
       "      <th>minute_price</th>\n",
       "      <th>start_ride_price</th>\n",
       "      <th>subscription_fee</th>\n",
       "      <th>season</th>\n",
       "    </tr>\n",
       "  </thead>\n",
       "  <tbody>\n",
       "    <tr>\n",
       "      <th>0</th>\n",
       "      <td>1</td>\n",
       "      <td>Кира</td>\n",
       "      <td>22</td>\n",
       "      <td>Тюмень</td>\n",
       "      <td>ultra</td>\n",
       "      <td>4409.919140</td>\n",
       "      <td>26.0</td>\n",
       "      <td>2021-01-01</td>\n",
       "      <td>1</td>\n",
       "      <td>6</td>\n",
       "      <td>0</td>\n",
       "      <td>199</td>\n",
       "      <td>winter</td>\n",
       "    </tr>\n",
       "    <tr>\n",
       "      <th>1</th>\n",
       "      <td>1</td>\n",
       "      <td>Кира</td>\n",
       "      <td>22</td>\n",
       "      <td>Тюмень</td>\n",
       "      <td>ultra</td>\n",
       "      <td>2617.592153</td>\n",
       "      <td>16.0</td>\n",
       "      <td>2021-01-18</td>\n",
       "      <td>1</td>\n",
       "      <td>6</td>\n",
       "      <td>0</td>\n",
       "      <td>199</td>\n",
       "      <td>winter</td>\n",
       "    </tr>\n",
       "    <tr>\n",
       "      <th>2</th>\n",
       "      <td>1</td>\n",
       "      <td>Кира</td>\n",
       "      <td>22</td>\n",
       "      <td>Тюмень</td>\n",
       "      <td>ultra</td>\n",
       "      <td>754.159807</td>\n",
       "      <td>7.0</td>\n",
       "      <td>2021-04-20</td>\n",
       "      <td>4</td>\n",
       "      <td>6</td>\n",
       "      <td>0</td>\n",
       "      <td>199</td>\n",
       "      <td>spring</td>\n",
       "    </tr>\n",
       "    <tr>\n",
       "      <th>3</th>\n",
       "      <td>1</td>\n",
       "      <td>Кира</td>\n",
       "      <td>22</td>\n",
       "      <td>Тюмень</td>\n",
       "      <td>ultra</td>\n",
       "      <td>2694.783254</td>\n",
       "      <td>19.0</td>\n",
       "      <td>2021-08-11</td>\n",
       "      <td>8</td>\n",
       "      <td>6</td>\n",
       "      <td>0</td>\n",
       "      <td>199</td>\n",
       "      <td>summer</td>\n",
       "    </tr>\n",
       "    <tr>\n",
       "      <th>4</th>\n",
       "      <td>1</td>\n",
       "      <td>Кира</td>\n",
       "      <td>22</td>\n",
       "      <td>Тюмень</td>\n",
       "      <td>ultra</td>\n",
       "      <td>4028.687306</td>\n",
       "      <td>27.0</td>\n",
       "      <td>2021-08-28</td>\n",
       "      <td>8</td>\n",
       "      <td>6</td>\n",
       "      <td>0</td>\n",
       "      <td>199</td>\n",
       "      <td>summer</td>\n",
       "    </tr>\n",
       "  </tbody>\n",
       "</table>\n",
       "</div>"
      ],
      "text/plain": [
       "   user_id  name  age    city subscription_type     distance  duration  \\\n",
       "0        1  Кира   22  Тюмень             ultra  4409.919140      26.0   \n",
       "1        1  Кира   22  Тюмень             ultra  2617.592153      16.0   \n",
       "2        1  Кира   22  Тюмень             ultra   754.159807       7.0   \n",
       "3        1  Кира   22  Тюмень             ultra  2694.783254      19.0   \n",
       "4        1  Кира   22  Тюмень             ultra  4028.687306      27.0   \n",
       "\n",
       "        date  month  minute_price  start_ride_price  subscription_fee  season  \n",
       "0 2021-01-01      1             6                 0               199  winter  \n",
       "1 2021-01-18      1             6                 0               199  winter  \n",
       "2 2021-04-20      4             6                 0               199  spring  \n",
       "3 2021-08-11      8             6                 0               199  summer  \n",
       "4 2021-08-28      8             6                 0               199  summer  "
      ]
     },
     "execution_count": 48,
     "metadata": {},
     "output_type": "execute_result"
    }
   ],
   "source": [
    "#Для расчета выручки округляем продолжительность каждой поездки в каждой строке датафрейма `data`,\n",
    "#так как оплата поездки пользователем выполняется по времени, округлённому в большую сторону до целых минут\n",
    "data['duration'] = np.ceil(data['duration'])\n",
    "\n",
    "#Проверим округление\n",
    "data.head()"
   ]
  },
  {
   "cell_type": "code",
   "execution_count": 49,
   "id": "792cd312",
   "metadata": {},
   "outputs": [
    {
     "data": {
      "text/html": [
       "<div>\n",
       "<style scoped>\n",
       "    .dataframe tbody tr th:only-of-type {\n",
       "        vertical-align: middle;\n",
       "    }\n",
       "\n",
       "    .dataframe tbody tr th {\n",
       "        vertical-align: top;\n",
       "    }\n",
       "\n",
       "    .dataframe thead tr th {\n",
       "        text-align: left;\n",
       "    }\n",
       "\n",
       "    .dataframe thead tr:last-of-type th {\n",
       "        text-align: right;\n",
       "    }\n",
       "</style>\n",
       "<table border=\"1\" class=\"dataframe\">\n",
       "  <thead>\n",
       "    <tr>\n",
       "      <th></th>\n",
       "      <th></th>\n",
       "      <th colspan=\"2\" halign=\"left\">duration</th>\n",
       "      <th>minute_price</th>\n",
       "      <th>start_ride_price</th>\n",
       "      <th>subscription_fee</th>\n",
       "    </tr>\n",
       "    <tr>\n",
       "      <th></th>\n",
       "      <th></th>\n",
       "      <th>sum</th>\n",
       "      <th>count</th>\n",
       "      <th>first</th>\n",
       "      <th>first</th>\n",
       "      <th>first</th>\n",
       "    </tr>\n",
       "    <tr>\n",
       "      <th>user_id</th>\n",
       "      <th>month</th>\n",
       "      <th></th>\n",
       "      <th></th>\n",
       "      <th></th>\n",
       "      <th></th>\n",
       "      <th></th>\n",
       "    </tr>\n",
       "  </thead>\n",
       "  <tbody>\n",
       "    <tr>\n",
       "      <th rowspan=\"5\" valign=\"top\">1</th>\n",
       "      <th>1</th>\n",
       "      <td>42.0</td>\n",
       "      <td>2</td>\n",
       "      <td>6</td>\n",
       "      <td>0</td>\n",
       "      <td>199</td>\n",
       "    </tr>\n",
       "    <tr>\n",
       "      <th>4</th>\n",
       "      <td>7.0</td>\n",
       "      <td>1</td>\n",
       "      <td>6</td>\n",
       "      <td>0</td>\n",
       "      <td>199</td>\n",
       "    </tr>\n",
       "    <tr>\n",
       "      <th>8</th>\n",
       "      <td>46.0</td>\n",
       "      <td>2</td>\n",
       "      <td>6</td>\n",
       "      <td>0</td>\n",
       "      <td>199</td>\n",
       "    </tr>\n",
       "    <tr>\n",
       "      <th>10</th>\n",
       "      <td>32.0</td>\n",
       "      <td>2</td>\n",
       "      <td>6</td>\n",
       "      <td>0</td>\n",
       "      <td>199</td>\n",
       "    </tr>\n",
       "    <tr>\n",
       "      <th>11</th>\n",
       "      <td>56.0</td>\n",
       "      <td>3</td>\n",
       "      <td>6</td>\n",
       "      <td>0</td>\n",
       "      <td>199</td>\n",
       "    </tr>\n",
       "  </tbody>\n",
       "</table>\n",
       "</div>"
      ],
      "text/plain": [
       "              duration       minute_price start_ride_price subscription_fee\n",
       "                   sum count        first            first            first\n",
       "user_id month                                                              \n",
       "1       1         42.0     2            6                0              199\n",
       "        4          7.0     1            6                0              199\n",
       "        8         46.0     2            6                0              199\n",
       "        10        32.0     2            6                0              199\n",
       "        11        56.0     3            6                0              199"
      ]
     },
     "execution_count": 49,
     "metadata": {},
     "output_type": "execute_result"
    }
   ],
   "source": [
    "#Методом groupby() сгруппируем данные по пользователям и месяцам,\n",
    "#применим агрегации к столбцам группировки agg(), чтобы в таблице вывести данные, необходимые для расчета выручки\n",
    "\n",
    "data_grouped = (\n",
    "    data.groupby(['user_id', 'month'])\n",
    "    .agg({'duration':['sum', 'count'], 'minute_price': 'first', 'start_ride_price': 'first', 'subscription_fee': 'first'})\n",
    ")\n",
    "\n",
    "#Выведем на экран первые строки полученной таблицы `data_grouped`\n",
    "data_grouped.head()"
   ]
  },
  {
   "cell_type": "code",
   "execution_count": 50,
   "id": "c4fd5a0f",
   "metadata": {},
   "outputs": [
    {
     "data": {
      "text/html": [
       "<div>\n",
       "<style scoped>\n",
       "    .dataframe tbody tr th:only-of-type {\n",
       "        vertical-align: middle;\n",
       "    }\n",
       "\n",
       "    .dataframe tbody tr th {\n",
       "        vertical-align: top;\n",
       "    }\n",
       "\n",
       "    .dataframe thead th {\n",
       "        text-align: right;\n",
       "    }\n",
       "</style>\n",
       "<table border=\"1\" class=\"dataframe\">\n",
       "  <thead>\n",
       "    <tr style=\"text-align: right;\">\n",
       "      <th></th>\n",
       "      <th></th>\n",
       "      <th>total_duration</th>\n",
       "      <th>trips_number</th>\n",
       "      <th>minute_price</th>\n",
       "      <th>start_ride_price</th>\n",
       "      <th>subscription_fee</th>\n",
       "    </tr>\n",
       "    <tr>\n",
       "      <th>user_id</th>\n",
       "      <th>month</th>\n",
       "      <th></th>\n",
       "      <th></th>\n",
       "      <th></th>\n",
       "      <th></th>\n",
       "      <th></th>\n",
       "    </tr>\n",
       "  </thead>\n",
       "  <tbody>\n",
       "    <tr>\n",
       "      <th rowspan=\"5\" valign=\"top\">1</th>\n",
       "      <th>1</th>\n",
       "      <td>42.0</td>\n",
       "      <td>2</td>\n",
       "      <td>6</td>\n",
       "      <td>0</td>\n",
       "      <td>199</td>\n",
       "    </tr>\n",
       "    <tr>\n",
       "      <th>4</th>\n",
       "      <td>7.0</td>\n",
       "      <td>1</td>\n",
       "      <td>6</td>\n",
       "      <td>0</td>\n",
       "      <td>199</td>\n",
       "    </tr>\n",
       "    <tr>\n",
       "      <th>8</th>\n",
       "      <td>46.0</td>\n",
       "      <td>2</td>\n",
       "      <td>6</td>\n",
       "      <td>0</td>\n",
       "      <td>199</td>\n",
       "    </tr>\n",
       "    <tr>\n",
       "      <th>10</th>\n",
       "      <td>32.0</td>\n",
       "      <td>2</td>\n",
       "      <td>6</td>\n",
       "      <td>0</td>\n",
       "      <td>199</td>\n",
       "    </tr>\n",
       "    <tr>\n",
       "      <th>11</th>\n",
       "      <td>56.0</td>\n",
       "      <td>3</td>\n",
       "      <td>6</td>\n",
       "      <td>0</td>\n",
       "      <td>199</td>\n",
       "    </tr>\n",
       "  </tbody>\n",
       "</table>\n",
       "</div>"
      ],
      "text/plain": [
       "               total_duration  trips_number  minute_price  start_ride_price  \\\n",
       "user_id month                                                                 \n",
       "1       1                42.0             2             6                 0   \n",
       "        4                 7.0             1             6                 0   \n",
       "        8                46.0             2             6                 0   \n",
       "        10               32.0             2             6                 0   \n",
       "        11               56.0             3             6                 0   \n",
       "\n",
       "               subscription_fee  \n",
       "user_id month                    \n",
       "1       1                   199  \n",
       "        4                   199  \n",
       "        8                   199  \n",
       "        10                  199  \n",
       "        11                  199  "
      ]
     },
     "execution_count": 50,
     "metadata": {},
     "output_type": "execute_result"
    }
   ],
   "source": [
    "#Переименуем столбцы\n",
    "data_grouped.columns = ['total_duration', 'trips_number', 'minute_price', 'start_ride_price', 'subscription_fee']\n",
    "\n",
    "#Проверим\n",
    "data_grouped.head()"
   ]
  },
  {
   "cell_type": "code",
   "execution_count": 51,
   "id": "80c9501b",
   "metadata": {},
   "outputs": [
    {
     "data": {
      "text/plain": [
       "total_duration      0\n",
       "trips_number        0\n",
       "minute_price        0\n",
       "start_ride_price    0\n",
       "subscription_fee    0\n",
       "dtype: int64"
      ]
     },
     "execution_count": 51,
     "metadata": {},
     "output_type": "execute_result"
    }
   ],
   "source": [
    "#Проверим агрегированные данные на пропуски\n",
    "data_grouped.isna().sum()"
   ]
  },
  {
   "cell_type": "markdown",
   "id": "e29f60a3",
   "metadata": {},
   "source": [
    "Пропусков в датафрейме `data_grouped` нет."
   ]
  },
  {
   "cell_type": "markdown",
   "id": "d74bd354",
   "metadata": {},
   "source": [
    "### Расчет помесячной выручки"
   ]
  },
  {
   "cell_type": "code",
   "execution_count": 52,
   "id": "689ab929",
   "metadata": {},
   "outputs": [],
   "source": [
    "#Для расчета помесячной выручки напишем собственную функцию\n",
    "def revenue(row):\n",
    "    start_sum = row['start_ride_price'] * row['trips_number']\n",
    "    trip_sum = row['minute_price'] * row['total_duration']\n",
    "    subscription_fee = row['subscription_fee']\n",
    "    result = start_sum + trip_sum + subscription_fee\n",
    "    return result"
   ]
  },
  {
   "cell_type": "code",
   "execution_count": 53,
   "id": "057b6e52",
   "metadata": {},
   "outputs": [
    {
     "data": {
      "text/plain": [
       "451"
      ]
     },
     "execution_count": 53,
     "metadata": {},
     "output_type": "execute_result"
    }
   ],
   "source": [
    "#Проверим корректность работы функции\n",
    "row_values = [42, 2, 6, 0, 199]\n",
    "row_columns = ['total_duration', 'trips_number', 'minute_price', 'start_ride_price', 'subscription_fee']\n",
    "row = pd.Series(data=row_values, index=row_columns) \n",
    "revenue(row)"
   ]
  },
  {
   "cell_type": "code",
   "execution_count": 54,
   "id": "25dd4622",
   "metadata": {
    "scrolled": true
   },
   "outputs": [
    {
     "data": {
      "text/html": [
       "<div>\n",
       "<style scoped>\n",
       "    .dataframe tbody tr th:only-of-type {\n",
       "        vertical-align: middle;\n",
       "    }\n",
       "\n",
       "    .dataframe tbody tr th {\n",
       "        vertical-align: top;\n",
       "    }\n",
       "\n",
       "    .dataframe thead th {\n",
       "        text-align: right;\n",
       "    }\n",
       "</style>\n",
       "<table border=\"1\" class=\"dataframe\">\n",
       "  <thead>\n",
       "    <tr style=\"text-align: right;\">\n",
       "      <th></th>\n",
       "      <th></th>\n",
       "      <th>total_duration</th>\n",
       "      <th>trips_number</th>\n",
       "      <th>minute_price</th>\n",
       "      <th>start_ride_price</th>\n",
       "      <th>subscription_fee</th>\n",
       "      <th>revenue</th>\n",
       "    </tr>\n",
       "    <tr>\n",
       "      <th>user_id</th>\n",
       "      <th>month</th>\n",
       "      <th></th>\n",
       "      <th></th>\n",
       "      <th></th>\n",
       "      <th></th>\n",
       "      <th></th>\n",
       "      <th></th>\n",
       "    </tr>\n",
       "  </thead>\n",
       "  <tbody>\n",
       "    <tr>\n",
       "      <th rowspan=\"6\" valign=\"top\">1</th>\n",
       "      <th>1</th>\n",
       "      <td>42.0</td>\n",
       "      <td>2</td>\n",
       "      <td>6</td>\n",
       "      <td>0</td>\n",
       "      <td>199</td>\n",
       "      <td>451.0</td>\n",
       "    </tr>\n",
       "    <tr>\n",
       "      <th>4</th>\n",
       "      <td>7.0</td>\n",
       "      <td>1</td>\n",
       "      <td>6</td>\n",
       "      <td>0</td>\n",
       "      <td>199</td>\n",
       "      <td>241.0</td>\n",
       "    </tr>\n",
       "    <tr>\n",
       "      <th>8</th>\n",
       "      <td>46.0</td>\n",
       "      <td>2</td>\n",
       "      <td>6</td>\n",
       "      <td>0</td>\n",
       "      <td>199</td>\n",
       "      <td>475.0</td>\n",
       "    </tr>\n",
       "    <tr>\n",
       "      <th>10</th>\n",
       "      <td>32.0</td>\n",
       "      <td>2</td>\n",
       "      <td>6</td>\n",
       "      <td>0</td>\n",
       "      <td>199</td>\n",
       "      <td>391.0</td>\n",
       "    </tr>\n",
       "    <tr>\n",
       "      <th>11</th>\n",
       "      <td>56.0</td>\n",
       "      <td>3</td>\n",
       "      <td>6</td>\n",
       "      <td>0</td>\n",
       "      <td>199</td>\n",
       "      <td>535.0</td>\n",
       "    </tr>\n",
       "    <tr>\n",
       "      <th>12</th>\n",
       "      <td>28.0</td>\n",
       "      <td>2</td>\n",
       "      <td>6</td>\n",
       "      <td>0</td>\n",
       "      <td>199</td>\n",
       "      <td>367.0</td>\n",
       "    </tr>\n",
       "    <tr>\n",
       "      <th rowspan=\"7\" valign=\"top\">2</th>\n",
       "      <th>3</th>\n",
       "      <td>63.0</td>\n",
       "      <td>3</td>\n",
       "      <td>6</td>\n",
       "      <td>0</td>\n",
       "      <td>199</td>\n",
       "      <td>577.0</td>\n",
       "    </tr>\n",
       "    <tr>\n",
       "      <th>4</th>\n",
       "      <td>40.0</td>\n",
       "      <td>2</td>\n",
       "      <td>6</td>\n",
       "      <td>0</td>\n",
       "      <td>199</td>\n",
       "      <td>439.0</td>\n",
       "    </tr>\n",
       "    <tr>\n",
       "      <th>6</th>\n",
       "      <td>14.0</td>\n",
       "      <td>1</td>\n",
       "      <td>6</td>\n",
       "      <td>0</td>\n",
       "      <td>199</td>\n",
       "      <td>283.0</td>\n",
       "    </tr>\n",
       "    <tr>\n",
       "      <th>7</th>\n",
       "      <td>48.0</td>\n",
       "      <td>2</td>\n",
       "      <td>6</td>\n",
       "      <td>0</td>\n",
       "      <td>199</td>\n",
       "      <td>487.0</td>\n",
       "    </tr>\n",
       "    <tr>\n",
       "      <th>8</th>\n",
       "      <td>7.0</td>\n",
       "      <td>1</td>\n",
       "      <td>6</td>\n",
       "      <td>0</td>\n",
       "      <td>199</td>\n",
       "      <td>241.0</td>\n",
       "    </tr>\n",
       "    <tr>\n",
       "      <th>10</th>\n",
       "      <td>19.0</td>\n",
       "      <td>1</td>\n",
       "      <td>6</td>\n",
       "      <td>0</td>\n",
       "      <td>199</td>\n",
       "      <td>313.0</td>\n",
       "    </tr>\n",
       "    <tr>\n",
       "      <th>12</th>\n",
       "      <td>12.0</td>\n",
       "      <td>1</td>\n",
       "      <td>6</td>\n",
       "      <td>0</td>\n",
       "      <td>199</td>\n",
       "      <td>271.0</td>\n",
       "    </tr>\n",
       "    <tr>\n",
       "      <th rowspan=\"7\" valign=\"top\">3</th>\n",
       "      <th>1</th>\n",
       "      <td>13.0</td>\n",
       "      <td>1</td>\n",
       "      <td>6</td>\n",
       "      <td>0</td>\n",
       "      <td>199</td>\n",
       "      <td>277.0</td>\n",
       "    </tr>\n",
       "    <tr>\n",
       "      <th>2</th>\n",
       "      <td>39.0</td>\n",
       "      <td>2</td>\n",
       "      <td>6</td>\n",
       "      <td>0</td>\n",
       "      <td>199</td>\n",
       "      <td>433.0</td>\n",
       "    </tr>\n",
       "    <tr>\n",
       "      <th>4</th>\n",
       "      <td>21.0</td>\n",
       "      <td>1</td>\n",
       "      <td>6</td>\n",
       "      <td>0</td>\n",
       "      <td>199</td>\n",
       "      <td>325.0</td>\n",
       "    </tr>\n",
       "    <tr>\n",
       "      <th>5</th>\n",
       "      <td>63.0</td>\n",
       "      <td>3</td>\n",
       "      <td>6</td>\n",
       "      <td>0</td>\n",
       "      <td>199</td>\n",
       "      <td>577.0</td>\n",
       "    </tr>\n",
       "    <tr>\n",
       "      <th>7</th>\n",
       "      <td>67.0</td>\n",
       "      <td>3</td>\n",
       "      <td>6</td>\n",
       "      <td>0</td>\n",
       "      <td>199</td>\n",
       "      <td>601.0</td>\n",
       "    </tr>\n",
       "    <tr>\n",
       "      <th>9</th>\n",
       "      <td>23.0</td>\n",
       "      <td>1</td>\n",
       "      <td>6</td>\n",
       "      <td>0</td>\n",
       "      <td>199</td>\n",
       "      <td>337.0</td>\n",
       "    </tr>\n",
       "    <tr>\n",
       "      <th>12</th>\n",
       "      <td>13.0</td>\n",
       "      <td>1</td>\n",
       "      <td>6</td>\n",
       "      <td>0</td>\n",
       "      <td>199</td>\n",
       "      <td>277.0</td>\n",
       "    </tr>\n",
       "  </tbody>\n",
       "</table>\n",
       "</div>"
      ],
      "text/plain": [
       "               total_duration  trips_number  minute_price  start_ride_price  \\\n",
       "user_id month                                                                 \n",
       "1       1                42.0             2             6                 0   \n",
       "        4                 7.0             1             6                 0   \n",
       "        8                46.0             2             6                 0   \n",
       "        10               32.0             2             6                 0   \n",
       "        11               56.0             3             6                 0   \n",
       "        12               28.0             2             6                 0   \n",
       "2       3                63.0             3             6                 0   \n",
       "        4                40.0             2             6                 0   \n",
       "        6                14.0             1             6                 0   \n",
       "        7                48.0             2             6                 0   \n",
       "        8                 7.0             1             6                 0   \n",
       "        10               19.0             1             6                 0   \n",
       "        12               12.0             1             6                 0   \n",
       "3       1                13.0             1             6                 0   \n",
       "        2                39.0             2             6                 0   \n",
       "        4                21.0             1             6                 0   \n",
       "        5                63.0             3             6                 0   \n",
       "        7                67.0             3             6                 0   \n",
       "        9                23.0             1             6                 0   \n",
       "        12               13.0             1             6                 0   \n",
       "\n",
       "               subscription_fee  revenue  \n",
       "user_id month                             \n",
       "1       1                   199    451.0  \n",
       "        4                   199    241.0  \n",
       "        8                   199    475.0  \n",
       "        10                  199    391.0  \n",
       "        11                  199    535.0  \n",
       "        12                  199    367.0  \n",
       "2       3                   199    577.0  \n",
       "        4                   199    439.0  \n",
       "        6                   199    283.0  \n",
       "        7                   199    487.0  \n",
       "        8                   199    241.0  \n",
       "        10                  199    313.0  \n",
       "        12                  199    271.0  \n",
       "3       1                   199    277.0  \n",
       "        2                   199    433.0  \n",
       "        4                   199    325.0  \n",
       "        5                   199    577.0  \n",
       "        7                   199    601.0  \n",
       "        9                   199    337.0  \n",
       "        12                  199    277.0  "
      ]
     },
     "execution_count": 54,
     "metadata": {},
     "output_type": "execute_result"
    }
   ],
   "source": [
    "#Создадим в таблице `data_grouped` новый столбец `revenue`,\n",
    "#для расчета значений в нём воспользуемся написанной нами функцией и методом `apply`\n",
    "data_grouped['revenue'] = data_grouped.apply(revenue, axis=1)\n",
    "\n",
    "#Выведем на экран 20 первых и 20 последних строк датафрейма `data_grouped` с новым столбцом `revenue`\n",
    "data_grouped.head(20)"
   ]
  },
  {
   "cell_type": "code",
   "execution_count": 55,
   "id": "a42acdbe",
   "metadata": {
    "scrolled": true
   },
   "outputs": [
    {
     "data": {
      "text/html": [
       "<div>\n",
       "<style scoped>\n",
       "    .dataframe tbody tr th:only-of-type {\n",
       "        vertical-align: middle;\n",
       "    }\n",
       "\n",
       "    .dataframe tbody tr th {\n",
       "        vertical-align: top;\n",
       "    }\n",
       "\n",
       "    .dataframe thead th {\n",
       "        text-align: right;\n",
       "    }\n",
       "</style>\n",
       "<table border=\"1\" class=\"dataframe\">\n",
       "  <thead>\n",
       "    <tr style=\"text-align: right;\">\n",
       "      <th></th>\n",
       "      <th></th>\n",
       "      <th>total_duration</th>\n",
       "      <th>trips_number</th>\n",
       "      <th>minute_price</th>\n",
       "      <th>start_ride_price</th>\n",
       "      <th>subscription_fee</th>\n",
       "      <th>revenue</th>\n",
       "    </tr>\n",
       "    <tr>\n",
       "      <th>user_id</th>\n",
       "      <th>month</th>\n",
       "      <th></th>\n",
       "      <th></th>\n",
       "      <th></th>\n",
       "      <th></th>\n",
       "      <th></th>\n",
       "      <th></th>\n",
       "    </tr>\n",
       "  </thead>\n",
       "  <tbody>\n",
       "    <tr>\n",
       "      <th rowspan=\"4\" valign=\"top\">1532</th>\n",
       "      <th>8</th>\n",
       "      <td>47.0</td>\n",
       "      <td>2</td>\n",
       "      <td>8</td>\n",
       "      <td>50</td>\n",
       "      <td>0</td>\n",
       "      <td>476.0</td>\n",
       "    </tr>\n",
       "    <tr>\n",
       "      <th>10</th>\n",
       "      <td>21.0</td>\n",
       "      <td>1</td>\n",
       "      <td>8</td>\n",
       "      <td>50</td>\n",
       "      <td>0</td>\n",
       "      <td>218.0</td>\n",
       "    </tr>\n",
       "    <tr>\n",
       "      <th>11</th>\n",
       "      <td>60.0</td>\n",
       "      <td>4</td>\n",
       "      <td>8</td>\n",
       "      <td>50</td>\n",
       "      <td>0</td>\n",
       "      <td>680.0</td>\n",
       "    </tr>\n",
       "    <tr>\n",
       "      <th>12</th>\n",
       "      <td>42.0</td>\n",
       "      <td>2</td>\n",
       "      <td>8</td>\n",
       "      <td>50</td>\n",
       "      <td>0</td>\n",
       "      <td>436.0</td>\n",
       "    </tr>\n",
       "    <tr>\n",
       "      <th rowspan=\"8\" valign=\"top\">1533</th>\n",
       "      <th>1</th>\n",
       "      <td>21.0</td>\n",
       "      <td>1</td>\n",
       "      <td>8</td>\n",
       "      <td>50</td>\n",
       "      <td>0</td>\n",
       "      <td>218.0</td>\n",
       "    </tr>\n",
       "    <tr>\n",
       "      <th>2</th>\n",
       "      <td>11.0</td>\n",
       "      <td>1</td>\n",
       "      <td>8</td>\n",
       "      <td>50</td>\n",
       "      <td>0</td>\n",
       "      <td>138.0</td>\n",
       "    </tr>\n",
       "    <tr>\n",
       "      <th>3</th>\n",
       "      <td>93.0</td>\n",
       "      <td>4</td>\n",
       "      <td>8</td>\n",
       "      <td>50</td>\n",
       "      <td>0</td>\n",
       "      <td>944.0</td>\n",
       "    </tr>\n",
       "    <tr>\n",
       "      <th>4</th>\n",
       "      <td>18.0</td>\n",
       "      <td>1</td>\n",
       "      <td>8</td>\n",
       "      <td>50</td>\n",
       "      <td>0</td>\n",
       "      <td>194.0</td>\n",
       "    </tr>\n",
       "    <tr>\n",
       "      <th>6</th>\n",
       "      <td>7.0</td>\n",
       "      <td>1</td>\n",
       "      <td>8</td>\n",
       "      <td>50</td>\n",
       "      <td>0</td>\n",
       "      <td>106.0</td>\n",
       "    </tr>\n",
       "    <tr>\n",
       "      <th>7</th>\n",
       "      <td>48.0</td>\n",
       "      <td>3</td>\n",
       "      <td>8</td>\n",
       "      <td>50</td>\n",
       "      <td>0</td>\n",
       "      <td>534.0</td>\n",
       "    </tr>\n",
       "    <tr>\n",
       "      <th>8</th>\n",
       "      <td>22.0</td>\n",
       "      <td>1</td>\n",
       "      <td>8</td>\n",
       "      <td>50</td>\n",
       "      <td>0</td>\n",
       "      <td>226.0</td>\n",
       "    </tr>\n",
       "    <tr>\n",
       "      <th>11</th>\n",
       "      <td>26.0</td>\n",
       "      <td>1</td>\n",
       "      <td>8</td>\n",
       "      <td>50</td>\n",
       "      <td>0</td>\n",
       "      <td>258.0</td>\n",
       "    </tr>\n",
       "    <tr>\n",
       "      <th rowspan=\"8\" valign=\"top\">1534</th>\n",
       "      <th>1</th>\n",
       "      <td>16.0</td>\n",
       "      <td>1</td>\n",
       "      <td>8</td>\n",
       "      <td>50</td>\n",
       "      <td>0</td>\n",
       "      <td>178.0</td>\n",
       "    </tr>\n",
       "    <tr>\n",
       "      <th>2</th>\n",
       "      <td>14.0</td>\n",
       "      <td>1</td>\n",
       "      <td>8</td>\n",
       "      <td>50</td>\n",
       "      <td>0</td>\n",
       "      <td>162.0</td>\n",
       "    </tr>\n",
       "    <tr>\n",
       "      <th>4</th>\n",
       "      <td>15.0</td>\n",
       "      <td>1</td>\n",
       "      <td>8</td>\n",
       "      <td>50</td>\n",
       "      <td>0</td>\n",
       "      <td>170.0</td>\n",
       "    </tr>\n",
       "    <tr>\n",
       "      <th>6</th>\n",
       "      <td>26.0</td>\n",
       "      <td>2</td>\n",
       "      <td>8</td>\n",
       "      <td>50</td>\n",
       "      <td>0</td>\n",
       "      <td>308.0</td>\n",
       "    </tr>\n",
       "    <tr>\n",
       "      <th>8</th>\n",
       "      <td>48.0</td>\n",
       "      <td>2</td>\n",
       "      <td>8</td>\n",
       "      <td>50</td>\n",
       "      <td>0</td>\n",
       "      <td>484.0</td>\n",
       "    </tr>\n",
       "    <tr>\n",
       "      <th>9</th>\n",
       "      <td>23.0</td>\n",
       "      <td>1</td>\n",
       "      <td>8</td>\n",
       "      <td>50</td>\n",
       "      <td>0</td>\n",
       "      <td>234.0</td>\n",
       "    </tr>\n",
       "    <tr>\n",
       "      <th>11</th>\n",
       "      <td>78.0</td>\n",
       "      <td>4</td>\n",
       "      <td>8</td>\n",
       "      <td>50</td>\n",
       "      <td>0</td>\n",
       "      <td>824.0</td>\n",
       "    </tr>\n",
       "    <tr>\n",
       "      <th>12</th>\n",
       "      <td>16.0</td>\n",
       "      <td>1</td>\n",
       "      <td>8</td>\n",
       "      <td>50</td>\n",
       "      <td>0</td>\n",
       "      <td>178.0</td>\n",
       "    </tr>\n",
       "  </tbody>\n",
       "</table>\n",
       "</div>"
      ],
      "text/plain": [
       "               total_duration  trips_number  minute_price  start_ride_price  \\\n",
       "user_id month                                                                 \n",
       "1532    8                47.0             2             8                50   \n",
       "        10               21.0             1             8                50   \n",
       "        11               60.0             4             8                50   \n",
       "        12               42.0             2             8                50   \n",
       "1533    1                21.0             1             8                50   \n",
       "        2                11.0             1             8                50   \n",
       "        3                93.0             4             8                50   \n",
       "        4                18.0             1             8                50   \n",
       "        6                 7.0             1             8                50   \n",
       "        7                48.0             3             8                50   \n",
       "        8                22.0             1             8                50   \n",
       "        11               26.0             1             8                50   \n",
       "1534    1                16.0             1             8                50   \n",
       "        2                14.0             1             8                50   \n",
       "        4                15.0             1             8                50   \n",
       "        6                26.0             2             8                50   \n",
       "        8                48.0             2             8                50   \n",
       "        9                23.0             1             8                50   \n",
       "        11               78.0             4             8                50   \n",
       "        12               16.0             1             8                50   \n",
       "\n",
       "               subscription_fee  revenue  \n",
       "user_id month                             \n",
       "1532    8                     0    476.0  \n",
       "        10                    0    218.0  \n",
       "        11                    0    680.0  \n",
       "        12                    0    436.0  \n",
       "1533    1                     0    218.0  \n",
       "        2                     0    138.0  \n",
       "        3                     0    944.0  \n",
       "        4                     0    194.0  \n",
       "        6                     0    106.0  \n",
       "        7                     0    534.0  \n",
       "        8                     0    226.0  \n",
       "        11                    0    258.0  \n",
       "1534    1                     0    178.0  \n",
       "        2                     0    162.0  \n",
       "        4                     0    170.0  \n",
       "        6                     0    308.0  \n",
       "        8                     0    484.0  \n",
       "        9                     0    234.0  \n",
       "        11                    0    824.0  \n",
       "        12                    0    178.0  "
      ]
     },
     "execution_count": 55,
     "metadata": {},
     "output_type": "execute_result"
    }
   ],
   "source": [
    "data_grouped.tail(20)"
   ]
  },
  {
   "cell_type": "markdown",
   "id": "39a0018b",
   "metadata": {},
   "source": [
    "### Расчет годовой выручки"
   ]
  },
  {
   "cell_type": "code",
   "execution_count": 56,
   "id": "b308701a",
   "metadata": {},
   "outputs": [
    {
     "data": {
      "text/plain": [
       "3878641.0"
      ]
     },
     "execution_count": 56,
     "metadata": {},
     "output_type": "execute_result"
    }
   ],
   "source": [
    "#Рассчитаем общую годовую выручку\n",
    "total_revenue = data_grouped.revenue.sum()\n",
    "total_revenue"
   ]
  },
  {
   "cell_type": "code",
   "execution_count": 57,
   "id": "7423083d",
   "metadata": {},
   "outputs": [
    {
     "name": "stdout",
     "output_type": "stream",
     "text": [
      "Годовая выручка от пользователей без подписки 2234104.0\n",
      "Годовая выручка от пользователей с подпиской 1644537.0\n"
     ]
    },
    {
     "data": {
      "text/plain": [
       "True"
      ]
     },
     "execution_count": 57,
     "metadata": {},
     "output_type": "execute_result"
    }
   ],
   "source": [
    "#Рассчитаем показатели суммарной годовой выручки для пользователей с подпиской и без подписки\n",
    "#Методом `query()` выполним срезы данных, зная, что\n",
    "#у пользователей с подпиской в столбце `subscription_fee` стоит значение 199,\n",
    "#а у пользователей без подписки значение 0\n",
    "total_revenue_free = data_grouped.query('subscription_fee == 0').revenue.sum()\n",
    "total_revenue_ultra = data_grouped.query('subscription_fee == 199').revenue.sum()\n",
    "print('Годовая выручка от пользователей без подписки', total_revenue_free)\n",
    "print('Годовая выручка от пользователей с подпиской', total_revenue_ultra)\n",
    "\n",
    "#Проверим, вычислим сумму\n",
    "total_revenue_free + total_revenue_ultra == total_revenue"
   ]
  },
  {
   "cell_type": "markdown",
   "id": "bcdbde46",
   "metadata": {},
   "source": [
    "### Расчет среднемесячной выручки среднего пользователя для каждого тарифа"
   ]
  },
  {
   "cell_type": "code",
   "execution_count": 58,
   "id": "2cfef5aa",
   "metadata": {},
   "outputs": [
    {
     "data": {
      "text/plain": [
       "342.3"
      ]
     },
     "execution_count": 58,
     "metadata": {},
     "output_type": "execute_result"
    }
   ],
   "source": [
    "month_revenue = data_grouped['revenue'].sum() / len(data_grouped)\n",
    "month_revenue.round(2)"
   ]
  },
  {
   "cell_type": "code",
   "execution_count": 59,
   "id": "086ca033",
   "metadata": {},
   "outputs": [
    {
     "data": {
      "text/plain": [
       "328.64"
      ]
     },
     "execution_count": 59,
     "metadata": {},
     "output_type": "execute_result"
    }
   ],
   "source": [
    "month_revenue_free = data_grouped.query('subscription_fee == 0').revenue.sum() /\\\n",
    "len(data_grouped.query('subscription_fee == 0'))\n",
    "month_revenue_free.round(2)"
   ]
  },
  {
   "cell_type": "code",
   "execution_count": 60,
   "id": "db7d9573",
   "metadata": {},
   "outputs": [
    {
     "data": {
      "text/plain": [
       "362.79"
      ]
     },
     "execution_count": 60,
     "metadata": {},
     "output_type": "execute_result"
    }
   ],
   "source": [
    "month_revenue_ultra = data_grouped.query('subscription_fee == 199').revenue.sum() /\\\n",
    "len(data_grouped.query('subscription_fee == 199'))\n",
    "month_revenue_ultra.round(2)"
   ]
  },
  {
   "cell_type": "markdown",
   "id": "7ee0c559",
   "metadata": {},
   "source": [
    "**Вывод.** Нами сгруппированы данные по пользователям и месяцам и рассчитана помесячная выручка по каждому пользователю. Общая выручка составила `3878641.0` рублей. Годовая выручка от клиентов без подписки выше, чем от клиентов с подпиской (`2234104` и `1644537` руб. соответственно).  \n",
    "Среднемесячная выручка среднего пользователя составила `342.30` руб. Среднемесячная выручка пользователя без подписки составила `328.64` руб., с подпиской - `362.79` руб."
   ]
  },
  {
   "cell_type": "markdown",
   "id": "1873c594-05ac-412e-8702-c61c0ef53b0b",
   "metadata": {},
   "source": [
    "## Проверка гипотез\n",
    "Продакт-менеджеры сервиса хотят увеличить количество пользователей с подпиской. Для этого они будут проводить различные акции. Но сначала нужно выяснить несколько важных моментов."
   ]
  },
  {
   "cell_type": "markdown",
   "id": "c4f5d050-9dae-48eb-84fb-df1811f5d089",
   "metadata": {},
   "source": [
    "### Время, затрачиваемое на поездки\n",
    "Важно понять, тратят ли пользователи с подпиской больше времени на поездки. Если да, то пользователи с подпиской могут быть \"выгоднее\" для компании.\n",
    "\n",
    "Сформулируем нулевую гипотезу: Н<sub>0</sub>: средняя продолжительность одной сессии для пользователей с подпиской равна средней продолжительности сессии пользователей без подписки. Альтернативная гипотеза Н<sub>1</sub>: средняя продолжительность сессии пользователей с подпиской больше средней продолжительности сессии пользователей без подписки.\n",
    "\n",
    "Для анализа используем данные столбца `duration` из датафреймов `data_ultra` и `data_free`."
   ]
  },
  {
   "cell_type": "code",
   "execution_count": 61,
   "id": "fb6b15f8",
   "metadata": {},
   "outputs": [
    {
     "name": "stdout",
     "output_type": "stream",
     "text": [
      "Среднее для пользователей с подпиской: 18.54198516280583\n",
      "Среднее для пользователей без подписки: 17.39090929866399\n",
      "p-значение: 1.2804098316645613e-34\n",
      "Отвергаем нулевую гипотезу\n"
     ]
    }
   ],
   "source": [
    "#Имеются две выборки, взятые независимо друг от друга из двух генеральных совокупностей\n",
    "duration_ultra = data_ultra['duration']\n",
    "duration_free = data_free['duration']\n",
    "\n",
    "#Найдём выборочные средние\n",
    "print(f'Среднее для пользователей с подпиской: {np.mean(duration_ultra)}')\n",
    "print(f'Среднее для пользователей без подписки: {np.mean(duration_free)}')\n",
    "\n",
    "#Выбранный уровень статистической значимости\n",
    "alpha = 0.05\n",
    "\n",
    "#Для проверки гипотезы о равенстве средних двух генеральных совокупностей применяем метод `scipy.stats.ttest_ind`.\n",
    "#Аргументами метода являются две выборки `duration_ultra` и `duration_free`.\n",
    "#Полагаем, что дисперсии генеральных совокупностей равны, поэтому агрумент `equal_var` не указываем.\n",
    "#Так как альтернативная гипотеза правосторонняя, указываем аргумент `alternative='greater'`\n",
    "\n",
    "results = st.ttest_ind(\n",
    "    duration_ultra,\n",
    "    duration_free,\n",
    "    alternative='greater'\n",
    ")\n",
    "\n",
    "#Выведем полученное p-value\n",
    "print('p-значение:', results.pvalue)\n",
    "\n",
    "#Вывод об отвержении или неотвержении нулевой гипотезы\n",
    "if results.pvalue < alpha:\n",
    "    print('Отвергаем нулевую гипотезу')\n",
    "else:\n",
    "    print('Не получилось отвергнуть нулевую гипотезу')"
   ]
  },
  {
   "cell_type": "markdown",
   "id": "aff5b827-4b48-474a-8d65-ba60d47a5c7e",
   "metadata": {},
   "source": [
    "Полученное значение p_value очень мало, близко к нулю. Такое значение говорит о том, что хоть различие средней продолжительности сессии для пользователей с подпиской и без подписки небольшое, вероятность получить такое различие случайно практически нулевая, то есть имеет место значимое различие между средними сессиями. Есть основания отвергнуть нулевую гипотезу о равенстве средних сессий.\n",
    "Таким образом, нулевая гипотеза о равенстве времени, затрачиваемого на поездки пользователями с подпиской и без подписки, отвергнута при уровне статистической значимости, равном 5 %. Она была бы отвергнута и при уровне статистической значимости 1 %. Можно сделать вывод, что среднее время, затрачиваемое на поездки пользователями с подпиской, в генеральной совокупности больше, чем среднее время, затрачиваемое на поездки пользователями без подписки.\n",
    "\n",
    "Вывод. Судя по продолжительности поездок, пользователи с подпиской \"выгоднее\" для компании, чем пользователи без подписки."
   ]
  },
  {
   "cell_type": "markdown",
   "id": "72d2c2e7",
   "metadata": {},
   "source": [
    "### Расстояние одной поездки\n",
    "Расстояние одной поездки в 3130 метров - оптимальное с точки зрения износа самоката. Можно ли сказать, что расстояние, которое проезжают пользователи с подпиской за одну поездку, не превышает 3130 метров?\n",
    "\n",
    "Сформулируем нулевую гипотезу Н<sub>0</sub>: расстояние, которое проезжают пользователи с подпиской за одну поездку, равно 3130 метров. Альтернативная гипотеза Н<sub>1</sub>: расстояние, которое проезжают пользователи с подпиской за одну поездку, больше 3130 метров.\n",
    "\n",
    "Для анализа используем данные столбца `distance` из датафрейма `data_ultra`."
   ]
  },
  {
   "cell_type": "code",
   "execution_count": 62,
   "id": "6916b4f0",
   "metadata": {},
   "outputs": [
    {
     "name": "stdout",
     "output_type": "stream",
     "text": [
      "Среднее расстояние одной поездки: 3115.4453880370247\n",
      "p-значение: 0.9195368847849785\n",
      "Не отвергаем нулевую гипотезу\n"
     ]
    }
   ],
   "source": [
    "#Выборка\n",
    "distance = data_ultra['distance']\n",
    "\n",
    "#Выборочное среднее\n",
    "print('Среднее расстояние одной поездки:', distance.mean())\n",
    "\n",
    "#Предположенное в нулевой гипотезе число.\n",
    "#С помощью теста проверяется гипотеза о том, что этому числу равно истинное среднее генеральной совокупности,\n",
    "#из которой взята выборка (расстояние одной поездки пользователей с подпиской)\n",
    "value = 3130\n",
    "\n",
    "#Выбранный уровень статистической значимости\n",
    "alpha = 0.05\n",
    "\n",
    "#Для проверки гипотезы о равенстве среднего значения генеральной совокупности заданному значению\n",
    "#применяем метод `scipy.stats.ttest_1samp`.\n",
    "#Аргументами метода являются выборка `distance` и предполагаемое среднее 3130.\n",
    "#Так как альтернативная гипотеза правосторонняя, указываем аргумент `alternative='greater'`\n",
    "results = st.ttest_1samp(\n",
    "    distance, 3130,\n",
    "    alternative='greater'\n",
    ")\n",
    "\n",
    "#Выведем полученное p-value\n",
    "print('p-значение:', results.pvalue)\n",
    "\n",
    "#Вывод об отвержении или неотвержении нулевой гипотезы\n",
    "if results.pvalue < alpha:\n",
    "    print('Отвергаем нулевую гипотезу')\n",
    "else:\n",
    "    print('Не отвергаем нулевую гипотезу')"
   ]
  },
  {
   "cell_type": "markdown",
   "id": "542b3266-f970-4fb3-bd52-e2f0942cc994",
   "metadata": {},
   "source": [
    "Выборочное среднее равно 3115.4453880370247, это меньше заданного значения 3130. Кроме того, `p-value` больше выбранного уровня статистической значимости. Поэтому нет оснований отвергуть нулевую гипотезу. Можно сделать вывод, что истинное среднее генеральной совокупности, из которой выборка взята, не превышает значение 3130. Таким образом, расстояние, которое проезжают пользователи с подпиской за одну поездку, в среднем не превышают оптимальное с точки зрения износа самоката расстояние в 3130 метров.\n",
    "\n",
    "**Вывод.** Судя по расстоянию одной поездки, пользователи с подпиской не увеличивают износ самоката, так как расстояние одной поездки не превышает оптимальное с точки зрения износа самоката расстояние."
   ]
  },
  {
   "cell_type": "markdown",
   "id": "f1304406-2b12-40cf-90bd-acd54bf1ea37",
   "metadata": {},
   "source": [
    "### Помесячная выручка\n",
    "Проверим гипотезу о том, будет ли помесячная выручка от пользователей с подпиской по месяцам выше, чем выручка от пользователей без подписки.\n",
    "\n",
    "Сформулируем нулевую гипотезу Н<sub>0</sub>: средняя выручка за месяц от пользователей с подпиской равна средней выручке за месяц от пользователей без подписки. Альтернативная гипотеза Н<sub>1</sub>: средняя выручка за месяц от пользователей с подпиской выше, чем средняя выручка за месяц от пользователей без подписки.\n",
    "\n",
    "Для анализа используем данные столбца `revenue` датафрейма `data_grouped`. Для формирования выборок необходимо сделать срезы по пользователям с подпиской и без подписки."
   ]
  },
  {
   "cell_type": "code",
   "execution_count": 63,
   "id": "69f4ed1a",
   "metadata": {},
   "outputs": [
    {
     "name": "stdout",
     "output_type": "stream",
     "text": [
      "Среднее для пользователей с подпиской: 362.79\n",
      "Среднее для пользователей без подписки: 328.64\n",
      "p-значение: 1.8850394384715216e-31\n",
      "Отвергаем нулевую гипотезу\n"
     ]
    }
   ],
   "source": [
    "#Две независимые выборки\n",
    "revenue_ultra = data_grouped.query('user_id in@data_ultra.user_id')['revenue']\n",
    "revenue_free = data_grouped.query('user_id in@data_free.user_id')['revenue']\n",
    "\n",
    "#Найдём выборочные средние\n",
    "print(f'Среднее для пользователей с подпиской: {np.mean(revenue_ultra).round(2)}')\n",
    "print(f'Среднее для пользователей без подписки: {np.mean(revenue_free).round(2)}')\n",
    "\n",
    "#Выбранный уровень статистической значимости\n",
    "alpha = 0.05\n",
    "\n",
    "#Для проверки гипотезы о равенстве средних двух генеральных совокупностей применяем метод `scipy.stats.ttest_ind`.\n",
    "#Аргументами метода являются две выборки `revenue_ultra` и `revenue_free`.\n",
    "#Полагаем, что дисперсии генеральных совокупностей равны, поэтому агрумент `equal_var` не указываем.\n",
    "#Так как альтернативная гипотеза правосторонняя, указываем аргумент `alternative='greater'`\n",
    "\n",
    "results = st.ttest_ind(\n",
    "    revenue_ultra,\n",
    "    revenue_free,\n",
    "    alternative='greater'\n",
    ")\n",
    "\n",
    "#Выведем полученное p-value\n",
    "print('p-значение:', results.pvalue)\n",
    "\n",
    "#Вывод об отвержении или неотвержении нулевой гипотезы\n",
    "if results.pvalue < alpha:\n",
    "    print('Отвергаем нулевую гипотезу')\n",
    "else:\n",
    "    print('Не получилось отвергнуть нулевую гипотезу')"
   ]
  },
  {
   "cell_type": "markdown",
   "id": "a3874b45-0c48-4923-ad3c-4dbc93cd14ac",
   "metadata": {},
   "source": [
    "Нулевая гипотеза о равенстве помесячной выручки от пользователей с подпиской и без подписки, отвергнута при уровне статистической значимости, равном 5 %. Она была бы отвергнута и при уровне статистической значимости 1 %. Можно сделать вывод, что средняя выручка за месяц от пользователей с подпиской, в генеральной совокупности выше, чем средняя выручка за месяц от пользователей без подписки.\n",
    "\n",
    "**Вывод.** Судя по выручке за месяц, пользователи с подпиской \"выгоднее\" для компании, так как помесячная выручка от них в среднем выше, чем от пользователей без подписки."
   ]
  },
  {
   "cell_type": "markdown",
   "id": "a2797b7b-980c-4952-9990-63eaf2b0c58c",
   "metadata": {},
   "source": [
    "### Обновление серверов\n",
    "Представим такую ситуацию: техническая команда сервиса обновила сервера, с которыми взаимодействует мобильное приложение. Она надеется, что из-за этого количество обращений в техподдержку значимо снизилось. Некоторый файл содержит для каждого пользователя данные о количестве обращений до обновления и после него. Какой тест вам понадобился бы для проверки этой гипотезы?\n",
    "\n",
    "В данном случае имеются две зависимые (парные) выборки. Проверяется гипотеза о равенстве среднего значения генеральной совокупности до и после изменения. Для проверки гипотезы нужно использовать метод `scipy.stats.ttest_rel`. Аргументы этого метода - парные выборки до и после изменения.  \n",
    "\n",
    "В качестве нулевой гипотезы указываем: среднее значение до и после изменения равны. В качестве альтернативной гипотезы берём: среднее значение до изменения больше, чем после изменения. То есть проверяем одностороннюю гипотезу, в данном случае правостороннюю."
   ]
  },
  {
   "cell_type": "markdown",
   "id": "e7e0b647-5f55-4f65-b506-7890c5b51bc9",
   "metadata": {},
   "source": [
    "## Распределения\n",
    "### Акция с раздачей промокодов\n",
    "Отделу маркетинга GoFast поставили задачу: нужно провести акцию с раздачей промокодов на один бесплатный месяц подписки, в рамках которой как минимум 100 существующих клиентов должны продлить эту подписку. То есть по завершении периода действия подписки пользователь может либо отказаться от неё, либо продлить, совершив соответствующий платёж.\n",
    "\n",
    "Эта акция уже проводилась ранее и по итогу выяснилось, что после бесплатного пробного периода подписку продлевают 10 % пользователей. Необходимо выяснить, какое минимальное количество промокодов нужно разослать, чтобы вероятность не выполнить план была примерно 5 %. Необходимо подобрать параметры распределения, описывающего эту ситуацию, построить график распределения и сформулировать ответ на вопрос о количестве промокодов."
   ]
  },
  {
   "cell_type": "markdown",
   "id": "c2c29b4c-80b8-47ae-99b7-f1dc26610e9a",
   "metadata": {},
   "source": [
    "Разберёмся.  \n",
    "\n",
    "Случайная величина - количество продлений подписки после пробного периода - распределена биномиально, так как:\n",
    "- проводится фиксированное число попыток `n`;\n",
    "- каждая попытка - простой эксперимент Бернулли ровно с двумя исходами (продление или непродление подписки);\n",
    "- вероятность успеха `p = 0.1` одинакова для всех `n` попыток;\n",
    "- попытки независимы между собой.\n",
    "\n",
    "Чтобы определить биномиальное распределение, нужны два параметра: количество попыток `n` и вероятность успеха `p`. Количество попыток нам неизвестно. Математическое ожидание рассчитывается как `n * p`, а дисперсия `n * p * (1-p)`.\n",
    "\n",
    "Если должны продлить подписку 100 существующих клиентов (математическое ожидание), а вероятность продления 0.1, то параметр `n` можно найти как `100 / 0.1 = 1000`. Построим распределение вероятностей и гистограмму для случайной величины `количество продлений` , если раздали 1000 промокодов."
   ]
  },
  {
   "cell_type": "code",
   "execution_count": 64,
   "id": "0491f410",
   "metadata": {},
   "outputs": [
    {
     "data": {
      "image/png": "[encoded data removed]",
      "text/plain": [
       "<Figure size 600x400 with 1 Axes>"
      ]
     },
     "metadata": {},
     "output_type": "display_data"
    }
   ],
   "source": [
    "#Параметры распределения\n",
    "p = 0.1\n",
    "n = 1000\n",
    "\n",
    "distr = []\n",
    "\n",
    "#Найдём вероятности для всех возможных значений - от нуля до n\n",
    "for k in range(0, n + 1):\n",
    "    choose = factorial(n) / (factorial(k) * factorial(n - k))\n",
    "    prob = choose * p**k * (1 - p)**(n - k) \n",
    "    distr.append(prob)\n",
    "    \n",
    "#Строим график. Для большей наглядности графика ограничим график по оси х\n",
    "plt.figure(figsize=(6, 4))\n",
    "plt.bar(range(0, n+1), distr)\n",
    "plt.xlim(0, 200)\n",
    "plt.title('Биномиальное распределение (n=1000)', fontsize=18)\n",
    "plt.xlabel('Значения')\n",
    "plt.ylabel('Вероятности')\n",
    "plt.grid(True)\n",
    "plt.show()"
   ]
  },
  {
   "cell_type": "markdown",
   "id": "bfacad99-7a9b-48f5-88ed-d59072eb033d",
   "metadata": {},
   "source": [
    "Действительно, 100 - самое вероятное значение. Однако на гистограмме видно, что примерно половина всего распределения находится в диапазоне меньше 100.  \n",
    "\n",
    "100 существующих клиентов должны продлить подписку. Т.е. мы ищем `X` - количество промокодов, которые мы раздадим, чтобы сохранить 100 клиентов.  \n",
    "\n",
    "Вероятность не выполнить план должна быть примерно 5 %. То есть вероятность успеха нашей акции должна быть `1 - 0.05 = 0.95`, т.е. 95 %. \n",
    "\n",
    "Наш план будет иметь свою вероятность успеха при разном количестве `X`, чем больше `X`, тем больше вероятность. Но, увеличивая количество промокодов, мы увеличиваем трудозатраты, финансовые затраты и т.д. Поэтому нас устроит вероятность успеха 95 %, для которой и предстоит рассчитать количество промокодов `X`.  \n",
    "\n",
    "Задача делится на две части:  \n",
    "1) число положительных исходов должно быть равно 100,\n",
    "2) вероятность такого события должна быть равна 95 %.\n",
    "\n",
    "У нас требуемое значение 100 или больше. Кумулятивная функция распределения - это функция, которая показывает вероятность того, что случайная величина будет меньше или равна некоторому значению. За это значение принимаем 99. Тогда мы из `1` вычитаем вероятность получить значение меньше или равно 99, это и будет вероятность получить значение 100 или больше.\n",
    "\n",
    "Посмотрим, каковы вероятности, что продлят подписку 100 или больше пользователей при разных количествах розданных промокодов."
   ]
  },
  {
   "cell_type": "code",
   "execution_count": 65,
   "id": "2b03410d-607c-4847-80f1-478fe154fe16",
   "metadata": {},
   "outputs": [
    {
     "name": "stdout",
     "output_type": "stream",
     "text": [
      "i: (1, 100)\tprobability: 0.0\n",
      "i: (2, 200)\tprobability: 0.0\n",
      "i: (3, 300)\tprobability: 0.0\n",
      "i: (4, 400)\tprobability: 0.0\n",
      "i: (5, 500)\tprobability: 0.0\n",
      "i: (6, 600)\tprobability: 0.0\n",
      "i: (7, 700)\tprobability: 0.0\n",
      "i: (8, 800)\tprobability: 0.013\n",
      "i: (9, 900)\tprobability: 0.146\n",
      "i: (10, 1000)\tprobability: 0.515\n",
      "i: (11, 1100)\tprobability: 0.855\n",
      "i: (12, 1200)\tprobability: 0.978\n",
      "i: (13, 1300)\tprobability: 0.998\n",
      "i: (14, 1400)\tprobability: 1.0\n"
     ]
    }
   ],
   "source": [
    "for i in range (1, 15):\n",
    "    # число розданных промокодов\n",
    "    trials = 100 * i\n",
    "    print(f\"i: {i, trials}\\tprobability: {(1 - st.binom.cdf(99, trials, 0.1)).round(3)}\")"
   ]
  },
  {
   "cell_type": "markdown",
   "id": "86961812-6480-4ca3-863c-f1d09be42a91",
   "metadata": {},
   "source": [
    "Искомое количество промокодов находится где-то в промежутке между 1100 и 1200.  \n",
    "Опять используем метод `binom.cdf()` в цикле."
   ]
  },
  {
   "cell_type": "code",
   "execution_count": 66,
   "id": "3a7c43e0",
   "metadata": {},
   "outputs": [
    {
     "name": "stdout",
     "output_type": "stream",
     "text": [
      "1161\n"
     ]
    }
   ],
   "source": [
    "for n in range(1100, 1200):\n",
    "    if (1 - st.binom.cdf(99, n, 0.1)) > 0.95:\n",
    "        break\n",
    "    \n",
    "print(n)    "
   ]
  },
  {
   "cell_type": "code",
   "execution_count": 67,
   "id": "bfeaf2a7",
   "metadata": {},
   "outputs": [
    {
     "data": {
      "image/png": "[encoded data removed]",
      "text/plain": [
       "<Figure size 600x400 with 1 Axes>"
      ]
     },
     "metadata": {},
     "output_type": "display_data"
    }
   ],
   "source": [
    "#Задаем параметры\n",
    "n = 1161\n",
    "p = 0.1\n",
    "\n",
    "distr = []\n",
    "\n",
    "#Находим вероятности\n",
    "for k in range(0, n + 1):\n",
    "    try:\n",
    "        current_value = binom.pmf(k, n, p)\n",
    "        distr.append(current_value)\n",
    "    except:\n",
    "        pass\n",
    "    \n",
    "#Строим график\n",
    "plt.figure(figsize=(6, 4))\n",
    "plt.bar(range(0, n+1), distr)\n",
    "plt.xlim(0, 200)\n",
    "plt.title('Биномиальное распределение (n=1161)', fontsize=18)\n",
    "plt.xlabel('Значения')\n",
    "plt.ylabel('Вероятности')\n",
    "plt.grid(True)\n",
    "plt.show()"
   ]
  },
  {
   "cell_type": "markdown",
   "id": "2ee17563",
   "metadata": {},
   "source": [
    "Действительно, на графике видно, что меньше значения 100 примерно 5 % площади, занимаемой столбцами диаграммы.\n",
    "\n",
    "**Вывод.** Чтобы с вероятностью примерно 5 % как минимум 100 существующих клиентов продлили подписку после месяца использования промокода, нужно в рамках акции раздать более 1161 промокодов.\n",
    "\n",
    "### Рассылка push-уведомлений\n",
    "Отдел маркетинга рассылает клиентам push-уведомления в мобильном приложении. Клиенты могут открыть его или не открывать. Известно, что уведомления открывают около 40 % получивших клиентов. Отдел планирует разослать 1 млн. уведомлений. С помощью аппроксимации построим примерный график распределения и оценим вероятность того, что уведомление откроют не более 399,5 тыс. пользователей.\n",
    "\n",
    "Случайная величина - количество открытий push-сообщений - распределена биномиально, так как:\n",
    "\n",
    "- проводится фиксированное число попыток n;\n",
    "- каждая попытка - простой эксперимент Бернулли ровно с двумя исходами (открытие или неоткрытие сообщения);\n",
    "- вероятность успеха p = 0.4 одинакова для всех n попыток;\n",
    "- попытки независимы между собой.\n",
    "\n",
    "Ситуация описывается биномиальным распределением. Но считать каждое отдельное значение достаточно долго. Можно воспользоваться нормальной аппроксимацией биномиального распределения и cdf() для быстрой оценки.\n",
    "\n",
    "Значение n = 1000000 велико, а p = 0.4 близко к 0.5, поэтому форма графика биномиального распределения предполагается симметричной и близкой к графику нормального распределение. Поэтому аппроксимация биномиального распределения нормальным получится хорошей.\n",
    "\n",
    "Проверим это расчетом. Нужно найти промежуток, в котором лежат практически все отличные от нуля вероятности биномиального распределения: математическое ожидание плюс-минус три стандартных отклонения.\n",
    "\n",
    "Математическое ожидание биномиального распределения n * p, дисперсия n * p * (1 - p).\n"
   ]
  },
  {
   "cell_type": "code",
   "execution_count": 68,
   "id": "c1611f61",
   "metadata": {},
   "outputs": [
    {
     "name": "stdout",
     "output_type": "stream",
     "text": [
      "398530 401469\n"
     ]
    }
   ],
   "source": [
    "n = 1000000\n",
    "p = 0.4\n",
    "left = int(n * p - 3 * sqrt(n * p * (1 - p)))\n",
    "right = int(n * p + 3 * sqrt(n * p * (1 - p)))\n",
    "print(left, right)"
   ]
  },
  {
   "cell_type": "markdown",
   "id": "e437d18c",
   "metadata": {},
   "source": [
    "Промежуток, в котором лежат практически все отличные от нуля вероятности биномиального распределения, лежит внутри промежутка значений, на которых определено биномиальное распределение (от нуля до n).  Биномиальное распределение достаточно симметрично, чтобы аппроксимировать его нормальным.\n"
   ]
  },
  {
   "cell_type": "code",
   "execution_count": 69,
   "id": "90c770b0",
   "metadata": {},
   "outputs": [
    {
     "data": {
      "image/png": "[encoded data removed]",
      "text/plain": [
       "<Figure size 640x480 with 1 Axes>"
      ]
     },
     "metadata": {},
     "output_type": "display_data"
    }
   ],
   "source": [
    "# зададим функцию, которая выдаёт <num> чисел,\n",
    "# равномерно распределённых от <start> до <stop>\n",
    "# (понадобится для визуализации нормального распределения)\n",
    "def linspace(start, stop, num):\n",
    "    step = (stop - start) / (num - 1)\n",
    "    result = []\n",
    "    for i in range(num):\n",
    "        result.append(start + step * i)\n",
    "    return result\n",
    " \n",
    "# зададим мат.ожидание и ст.отклонение нормального распределения равными\n",
    "# мат.ожиданию и ст.отклонению биномиального распределения\n",
    "mu = n * p\n",
    "sigma = sqrt(n * p * (1 - p))\n",
    " \n",
    "# рисуем график нормального распределения:\n",
    "# получим список из 100 чисел от left до right\n",
    "x = linspace(left, right, 100)\n",
    "\n",
    "plt.plot(x, norm.pdf(x, mu, sigma))\n",
    "plt.title('Нормальное распределение', fontsize=18)\n",
    "plt.xlabel('Значения')\n",
    "plt.ylabel('Вероятности')\n",
    "plt.show()"
   ]
  },
  {
   "cell_type": "code",
   "execution_count": 70,
   "id": "290519b2",
   "metadata": {},
   "outputs": [
    {
     "name": "stdout",
     "output_type": "stream",
     "text": [
      "0.1537\n"
     ]
    }
   ],
   "source": [
    "# Зададим мат.ожидание и ст.отклонение нормального распределения равными\n",
    "# мат.ожиданию и ст.отклонению биномиального распределения\n",
    "mu = n * p\n",
    "sigma = sqrt(n * p * (1 - p))\n",
    "\n",
    "# задаём нормальное распределение\n",
    "distr = st.norm(mu, sigma) \n",
    "\n",
    "# считаем вероятность хвоста слева от 399,5 тысяч\n",
    "result = distr.cdf(399500)\n",
    "print(result.round(4))"
   ]
  },
  {
   "cell_type": "markdown",
   "id": "795de513",
   "metadata": {},
   "source": [
    "**Вывод.** Вероятность того, что уведомление откроют не более 399,5 тысяч пользователей, 15,37 %."
   ]
  },
  {
   "cell_type": "markdown",
   "id": "966e9021",
   "metadata": {},
   "source": [
    "# Общий вывод\n",
    "Датафрейм users содержит информацию о пользователях, датафрейм rides - информацию о поездках, датафрейм subscriptions - о подписках.\n",
    "\n",
    "Для дальнейшей работы с данными нами выполнена их предобработка: тип данных в столбце date датафрейма rides приведён к типу даты pandas, в отдельный столбец month вынесены данные о месяце, мы убедились в отсутствии пропущенных значений в данных, избавились от явных дубликатов и убедились в отсутствии неявных дубликатов.\n",
    "\n",
    "Наибольшее число поездок по имеющимся данным совершили пользователи в Пятигорске, Екатеринбурге, Ростове-на-Дону, а также в Краснодаре и Сочи. В Омске, Тюмени и Москве поездок меньше. Совершенно непонятно, почему столь разные города имеют разницу в числе поездок не в пользу Москвы. Однако разница такова, что не играет существенной роли для нашего исследования.\n",
    "\n",
    "Сервис используют с подпиской или без подписки. Пользователей без подписки примерно на 20 процентов больше, чем с подпиской. Самые активные пользователи сервиса - люди от 22 до 28 лет. За одну сессию чаще всего пользователи проезжают от 2,5 до 3,8 километров. Чаще всего поездка длится от 13 до 22 минут.\n",
    "\n",
    "Мы объединили данные о пользователях, поездках и подписках в один датафрейм, а затем создали два датафрейма отдельно по пользователям без подписки и с подпиской. Проверка показала, что пропусков данных после объединения и разделения не появилось.\n",
    "\n",
    "Расчет средних значений показал, что пользователи с подпиской проезжают расстояния и проводят в поездках времени в среднем больше, чем пользователи без подписки. Кроме того, разброс значений по длине и времени поездок у пользователей без подписки больше, а совокупность пользователей с подпиской более однородна по этим показателям. Это указывает на то, что пользователи без подписки бывают неопытными, не всегда знают, как пользоваться приложением или самокатом, пробуют, ошибаются, учатся. Время и расстояние их поездок бывает аномально короткими, бывают чересчур длинными. А пользователи с подпиской знают что и как, взяли самокат и поехали куда планировали.\n",
    "\n",
    "Анализ данных по городам и сезонам дал странные результаты: количество поездок зимой в сибирских городах такое же, как летом. Этого быть не может. Поэтому есть повод передать эти результаты коллегам для перепроверки исходных данных.\n",
    "\n",
    "Нами сгруппированы данные по пользователям и месяцам, после группировки данные проверены на пропуски, их не обнаружено.\n",
    "\n",
    "Далее была рассчитана помесячная выручка по каждому пользователю, сведена в таблицу. Это дало возможность сделать окончательные расчёты по выручке. Общая выручка составила `3878641.0` рублей. Годовая выручка от клиентов без подписки выше, чем от клиентов с подпиской (`2234104` и `1644537` рублей соответственно. Среднемесячная выручка среднего пользователя составила 342.30 руб. Среднемесячная выручка пользователя без подписки составила 328.64 руб., с подпиской - 362.79 руб. Получается, что выручка от одного пользователя с подпиской больше, чем от пользователя без подписки. А общая выручка от пользователей с подпиской за год получилась меньше из-за того, что число пользователей с подпиской меньше, чем без подписки.\n",
    "\n",
    "Нами были сформулированы и проверены некоторые гипотезы. Среднее время, затрачиваемое на поездки пользователями с подпиской, в генеральной совокупности больше, чем среднее время, затрачиваемое на поездки пользователями без подписки. Судя по расстоянию одной поездки, пользователи с подпиской не увеличивают износ самоката, так как расстояние одной поездки не превышает оптимальное с точки зрения износа самоката расстояние. Выручка за месяц от пользователей с подпиской в среднем выше, чем от пользователей без подписки.\n",
    "\n",
    "Всё это позволило сделать вывод, что пользователи с подпиской \"выгоднее\" для компании, чем пользователи без подписки. Поэтому рекомендуется увеличивать число пользователей с подпиской.\n",
    "\n",
    "Если провести акцию с раздачей промокодов на один бесплатный месяц подписки, то чтобы с вероятностью примерно 5 % как минимум 100 существующих клиентов продлили подписку после месяца использования промокода, нужно в рамках акции раздать более 1161 промокодов.\n",
    "\n",
    "Если рассылать push-уведомления в количестве 1 миллиона, то вероятность того, что уведомление откроют не более 399,5 тысяч пользователей, составит 15,37 %."
   ]
  },
  {
   "cell_type": "code",
   "execution_count": null,
   "id": "a123789d-9402-48ef-8680-f7d5362123c8",
   "metadata": {},
   "outputs": [],
   "source": []
  }
 ],
 "metadata": {
  "ExecuteTimeLog": [
   {
    "duration": 68,
    "start_time": "2024-02-09T11:48:08.594Z"
   },
   {
    "duration": 384,
    "start_time": "2024-02-09T11:48:50.829Z"
   },
   {
    "duration": 85,
    "start_time": "2024-02-09T11:48:52.985Z"
   },
   {
    "duration": 358,
    "start_time": "2024-02-11T04:49:06.472Z"
   },
   {
    "duration": 80,
    "start_time": "2024-02-11T04:49:09.400Z"
   },
   {
    "duration": 81,
    "start_time": "2024-02-11T05:04:58.133Z"
   },
   {
    "duration": 42,
    "start_time": "2024-02-11T05:05:28.038Z"
   },
   {
    "duration": 68,
    "start_time": "2024-02-11T05:06:53.233Z"
   },
   {
    "duration": 29,
    "start_time": "2024-02-11T05:07:55.428Z"
   },
   {
    "duration": 28,
    "start_time": "2024-02-11T05:08:13.566Z"
   },
   {
    "duration": 38,
    "start_time": "2024-02-11T05:15:26.321Z"
   },
   {
    "duration": 38,
    "start_time": "2024-02-11T05:15:42.901Z"
   },
   {
    "duration": 50,
    "start_time": "2024-02-11T05:16:37.486Z"
   },
   {
    "duration": 36,
    "start_time": "2024-02-11T05:17:11.484Z"
   },
   {
    "duration": 3,
    "start_time": "2024-02-11T05:32:57.155Z"
   },
   {
    "duration": 11,
    "start_time": "2024-02-11T05:50:49.955Z"
   },
   {
    "duration": 23,
    "start_time": "2024-02-11T05:51:35.968Z"
   },
   {
    "duration": 71,
    "start_time": "2024-02-11T06:55:28.156Z"
   },
   {
    "duration": 18,
    "start_time": "2024-02-11T06:55:38.737Z"
   },
   {
    "duration": 5,
    "start_time": "2024-02-11T06:59:30.303Z"
   },
   {
    "duration": 8,
    "start_time": "2024-02-11T07:00:30.816Z"
   },
   {
    "duration": 5,
    "start_time": "2024-02-11T07:02:18.165Z"
   },
   {
    "duration": 46,
    "start_time": "2024-02-11T07:02:43.816Z"
   },
   {
    "duration": 8,
    "start_time": "2024-02-11T07:06:41.808Z"
   },
   {
    "duration": 8,
    "start_time": "2024-02-11T07:07:06.702Z"
   },
   {
    "duration": 11,
    "start_time": "2024-02-11T07:09:03.181Z"
   },
   {
    "duration": 5,
    "start_time": "2024-02-11T07:09:33.212Z"
   },
   {
    "duration": 5,
    "start_time": "2024-02-11T07:10:34.930Z"
   },
   {
    "duration": 4,
    "start_time": "2024-02-11T07:13:58.818Z"
   },
   {
    "duration": 5,
    "start_time": "2024-02-11T07:14:12.547Z"
   },
   {
    "duration": 4,
    "start_time": "2024-02-11T07:14:54.235Z"
   },
   {
    "duration": 587,
    "start_time": "2024-02-11T07:21:29.816Z"
   },
   {
    "duration": 124,
    "start_time": "2024-02-11T07:21:49.549Z"
   },
   {
    "duration": 3,
    "start_time": "2024-02-11T07:22:55.002Z"
   },
   {
    "duration": 8,
    "start_time": "2024-02-11T07:24:51.380Z"
   },
   {
    "duration": 4,
    "start_time": "2024-02-11T07:26:16.231Z"
   },
   {
    "duration": 3,
    "start_time": "2024-02-11T07:26:54.185Z"
   },
   {
    "duration": 3,
    "start_time": "2024-02-11T07:27:06.814Z"
   },
   {
    "duration": 126,
    "start_time": "2024-02-11T07:27:49.928Z"
   },
   {
    "duration": 166,
    "start_time": "2024-02-11T07:27:57.861Z"
   },
   {
    "duration": 11,
    "start_time": "2024-02-11T07:30:14.371Z"
   },
   {
    "duration": 5,
    "start_time": "2024-02-11T07:30:33.041Z"
   },
   {
    "duration": 133,
    "start_time": "2024-02-11T07:33:27.233Z"
   },
   {
    "duration": 5,
    "start_time": "2024-02-11T07:33:42.706Z"
   },
   {
    "duration": 16,
    "start_time": "2024-02-11T07:48:06.881Z"
   },
   {
    "duration": 84,
    "start_time": "2024-02-11T07:50:13.021Z"
   },
   {
    "duration": 74,
    "start_time": "2024-02-11T07:51:10.400Z"
   },
   {
    "duration": 95,
    "start_time": "2024-02-11T07:51:25.830Z"
   },
   {
    "duration": 1625,
    "start_time": "2024-02-11T07:51:50.029Z"
   },
   {
    "duration": 198,
    "start_time": "2024-02-11T07:52:07.673Z"
   },
   {
    "duration": 118,
    "start_time": "2024-02-11T07:53:01.320Z"
   },
   {
    "duration": 125,
    "start_time": "2024-02-11T07:53:35.647Z"
   },
   {
    "duration": 9,
    "start_time": "2024-02-11T07:55:50.076Z"
   },
   {
    "duration": 116,
    "start_time": "2024-02-11T07:56:34.905Z"
   },
   {
    "duration": 118,
    "start_time": "2024-02-11T08:40:16.892Z"
   },
   {
    "duration": 118,
    "start_time": "2024-02-11T08:40:23.407Z"
   },
   {
    "duration": 122,
    "start_time": "2024-02-11T08:47:04.472Z"
   },
   {
    "duration": 119,
    "start_time": "2024-02-11T08:49:00.949Z"
   },
   {
    "duration": 108,
    "start_time": "2024-02-11T08:56:53.343Z"
   },
   {
    "duration": 183,
    "start_time": "2024-02-11T08:57:10.649Z"
   },
   {
    "duration": 121,
    "start_time": "2024-02-11T09:00:44.462Z"
   },
   {
    "duration": 12,
    "start_time": "2024-02-11T09:01:46.872Z"
   },
   {
    "duration": 129,
    "start_time": "2024-02-11T09:01:57.875Z"
   },
   {
    "duration": 613,
    "start_time": "2024-02-11T09:02:50.079Z"
   },
   {
    "duration": 40,
    "start_time": "2024-02-11T09:02:50.694Z"
   },
   {
    "duration": 39,
    "start_time": "2024-02-11T09:02:50.735Z"
   },
   {
    "duration": 23,
    "start_time": "2024-02-11T09:02:50.776Z"
   },
   {
    "duration": 16,
    "start_time": "2024-02-11T09:02:50.801Z"
   },
   {
    "duration": 19,
    "start_time": "2024-02-11T09:02:50.819Z"
   },
   {
    "duration": 8,
    "start_time": "2024-02-11T09:02:50.839Z"
   },
   {
    "duration": 9,
    "start_time": "2024-02-11T09:02:50.848Z"
   },
   {
    "duration": 7,
    "start_time": "2024-02-11T09:02:50.858Z"
   },
   {
    "duration": 3,
    "start_time": "2024-02-11T09:02:50.867Z"
   },
   {
    "duration": 8,
    "start_time": "2024-02-11T09:02:50.871Z"
   },
   {
    "duration": 126,
    "start_time": "2024-02-11T09:02:57.248Z"
   },
   {
    "duration": 164,
    "start_time": "2024-02-11T09:03:18.408Z"
   },
   {
    "duration": 197,
    "start_time": "2024-02-11T09:03:35.244Z"
   },
   {
    "duration": 128,
    "start_time": "2024-02-11T09:04:06.750Z"
   },
   {
    "duration": 6,
    "start_time": "2024-02-11T09:04:41.737Z"
   },
   {
    "duration": 9,
    "start_time": "2024-02-11T09:05:14.363Z"
   },
   {
    "duration": 162,
    "start_time": "2024-02-11T09:05:34.815Z"
   },
   {
    "duration": 24820,
    "start_time": "2024-02-11T09:07:27.879Z"
   },
   {
    "duration": 8,
    "start_time": "2024-02-11T09:08:56.288Z"
   },
   {
    "duration": 8,
    "start_time": "2024-02-11T09:09:31.623Z"
   },
   {
    "duration": 122,
    "start_time": "2024-02-11T09:12:13.853Z"
   },
   {
    "duration": 124,
    "start_time": "2024-02-11T09:13:03.268Z"
   },
   {
    "duration": 124,
    "start_time": "2024-02-11T09:13:29.266Z"
   },
   {
    "duration": 7,
    "start_time": "2024-02-11T09:16:55.030Z"
   },
   {
    "duration": 131,
    "start_time": "2024-02-11T09:17:41.445Z"
   },
   {
    "duration": 418,
    "start_time": "2024-02-11T09:18:06.573Z"
   },
   {
    "duration": 120,
    "start_time": "2024-02-11T09:18:30.639Z"
   },
   {
    "duration": 112,
    "start_time": "2024-02-11T09:18:35.482Z"
   },
   {
    "duration": 99,
    "start_time": "2024-02-11T09:18:45.303Z"
   },
   {
    "duration": 96,
    "start_time": "2024-02-11T09:18:50.467Z"
   },
   {
    "duration": 7,
    "start_time": "2024-02-11T10:48:47.941Z"
   },
   {
    "duration": 6,
    "start_time": "2024-02-11T10:49:02.556Z"
   },
   {
    "duration": 6,
    "start_time": "2024-02-11T10:49:57.628Z"
   },
   {
    "duration": 4,
    "start_time": "2024-02-11T10:55:51.098Z"
   },
   {
    "duration": 4,
    "start_time": "2024-02-11T10:56:33.973Z"
   },
   {
    "duration": 243,
    "start_time": "2024-02-11T10:58:22.222Z"
   },
   {
    "duration": 17693,
    "start_time": "2024-02-11T10:59:02.723Z"
   },
   {
    "duration": 129,
    "start_time": "2024-02-11T11:00:17.974Z"
   },
   {
    "duration": 119,
    "start_time": "2024-02-11T11:00:31.986Z"
   },
   {
    "duration": 141,
    "start_time": "2024-02-11T11:00:36.633Z"
   },
   {
    "duration": 152,
    "start_time": "2024-02-11T11:01:52.033Z"
   },
   {
    "duration": 176,
    "start_time": "2024-02-11T11:02:23.928Z"
   },
   {
    "duration": 164,
    "start_time": "2024-02-11T11:03:26.057Z"
   },
   {
    "duration": 170,
    "start_time": "2024-02-11T11:03:31.885Z"
   },
   {
    "duration": 318,
    "start_time": "2024-02-11T11:03:43.255Z"
   },
   {
    "duration": 4,
    "start_time": "2024-02-11T11:10:52.159Z"
   },
   {
    "duration": 78,
    "start_time": "2024-02-11T11:11:20.926Z"
   },
   {
    "duration": 4,
    "start_time": "2024-02-11T11:11:32.076Z"
   },
   {
    "duration": 198,
    "start_time": "2024-02-11T11:13:00.119Z"
   },
   {
    "duration": 5,
    "start_time": "2024-02-11T12:19:56.837Z"
   },
   {
    "duration": 193,
    "start_time": "2024-02-11T12:20:55.068Z"
   },
   {
    "duration": 44,
    "start_time": "2024-02-12T02:48:54.938Z"
   },
   {
    "duration": 794,
    "start_time": "2024-02-12T02:49:06.158Z"
   },
   {
    "duration": 85,
    "start_time": "2024-02-12T02:49:06.954Z"
   },
   {
    "duration": 77,
    "start_time": "2024-02-12T02:49:07.041Z"
   },
   {
    "duration": 59,
    "start_time": "2024-02-12T02:49:07.120Z"
   },
   {
    "duration": 15,
    "start_time": "2024-02-12T02:49:07.180Z"
   },
   {
    "duration": 12,
    "start_time": "2024-02-12T02:49:07.196Z"
   },
   {
    "duration": 8,
    "start_time": "2024-02-12T02:49:07.209Z"
   },
   {
    "duration": 15,
    "start_time": "2024-02-12T02:49:07.218Z"
   },
   {
    "duration": 24,
    "start_time": "2024-02-12T02:49:07.234Z"
   },
   {
    "duration": 4,
    "start_time": "2024-02-12T02:49:07.266Z"
   },
   {
    "duration": 5,
    "start_time": "2024-02-12T02:49:07.272Z"
   },
   {
    "duration": 142,
    "start_time": "2024-02-12T02:49:07.278Z"
   },
   {
    "duration": 5,
    "start_time": "2024-02-12T02:49:07.422Z"
   },
   {
    "duration": 108,
    "start_time": "2024-02-12T02:49:07.428Z"
   },
   {
    "duration": 6,
    "start_time": "2024-02-12T02:49:07.537Z"
   },
   {
    "duration": 9,
    "start_time": "2024-02-12T02:49:07.544Z"
   },
   {
    "duration": 178,
    "start_time": "2024-02-12T02:49:07.565Z"
   },
   {
    "duration": 4,
    "start_time": "2024-02-12T02:49:07.745Z"
   },
   {
    "duration": 215,
    "start_time": "2024-02-12T02:49:07.751Z"
   },
   {
    "duration": 5,
    "start_time": "2024-02-12T02:49:07.968Z"
   },
   {
    "duration": 256,
    "start_time": "2024-02-12T02:49:07.975Z"
   },
   {
    "duration": 19,
    "start_time": "2024-02-12T02:49:11.070Z"
   },
   {
    "duration": 27,
    "start_time": "2024-02-12T02:53:50.816Z"
   },
   {
    "duration": 25,
    "start_time": "2024-02-12T02:55:56.465Z"
   },
   {
    "duration": 26,
    "start_time": "2024-02-12T02:56:28.526Z"
   },
   {
    "duration": 13,
    "start_time": "2024-02-12T03:01:50.720Z"
   },
   {
    "duration": 53,
    "start_time": "2024-02-12T03:02:43.564Z"
   },
   {
    "duration": 28,
    "start_time": "2024-02-12T03:04:08.275Z"
   },
   {
    "duration": 28,
    "start_time": "2024-02-12T03:05:21.874Z"
   },
   {
    "duration": 10,
    "start_time": "2024-02-12T03:06:22.065Z"
   },
   {
    "duration": 5,
    "start_time": "2024-02-12T03:07:05.695Z"
   },
   {
    "duration": 28,
    "start_time": "2024-02-12T03:07:55.795Z"
   },
   {
    "duration": 17,
    "start_time": "2024-02-12T03:08:19.194Z"
   },
   {
    "duration": 19,
    "start_time": "2024-02-12T03:08:44.746Z"
   },
   {
    "duration": 13,
    "start_time": "2024-02-12T03:09:56.792Z"
   },
   {
    "duration": 77,
    "start_time": "2024-02-12T03:13:02.905Z"
   },
   {
    "duration": 4,
    "start_time": "2024-02-12T03:13:50.192Z"
   },
   {
    "duration": 4,
    "start_time": "2024-02-12T03:14:15.695Z"
   },
   {
    "duration": 25,
    "start_time": "2024-02-12T03:16:44.965Z"
   },
   {
    "duration": 26,
    "start_time": "2024-02-12T03:16:57.563Z"
   },
   {
    "duration": 26,
    "start_time": "2024-02-12T03:17:07.353Z"
   },
   {
    "duration": 25,
    "start_time": "2024-02-12T03:17:27.603Z"
   },
   {
    "duration": 24,
    "start_time": "2024-02-12T03:17:33.862Z"
   },
   {
    "duration": 199,
    "start_time": "2024-02-12T03:21:55.167Z"
   },
   {
    "duration": 162,
    "start_time": "2024-02-12T03:22:22.484Z"
   },
   {
    "duration": 282,
    "start_time": "2024-02-12T03:28:00.971Z"
   },
   {
    "duration": 233,
    "start_time": "2024-02-12T03:28:37.392Z"
   },
   {
    "duration": 87,
    "start_time": "2024-02-12T03:29:19.472Z"
   },
   {
    "duration": 246,
    "start_time": "2024-02-12T03:29:26.605Z"
   },
   {
    "duration": 358,
    "start_time": "2024-02-12T03:29:40.263Z"
   },
   {
    "duration": 283,
    "start_time": "2024-02-12T03:29:53.905Z"
   },
   {
    "duration": 150,
    "start_time": "2024-02-12T03:31:44.851Z"
   },
   {
    "duration": 286,
    "start_time": "2024-02-12T03:32:42.464Z"
   },
   {
    "duration": 297,
    "start_time": "2024-02-12T03:32:59.206Z"
   },
   {
    "duration": 303,
    "start_time": "2024-02-12T03:33:44.412Z"
   },
   {
    "duration": 384,
    "start_time": "2024-02-12T03:35:04.154Z"
   },
   {
    "duration": 323,
    "start_time": "2024-02-12T03:37:36.032Z"
   },
   {
    "duration": 325,
    "start_time": "2024-02-12T03:37:55.476Z"
   },
   {
    "duration": 4,
    "start_time": "2024-02-12T03:45:04.272Z"
   },
   {
    "duration": 6,
    "start_time": "2024-02-12T03:45:35.671Z"
   },
   {
    "duration": 6,
    "start_time": "2024-02-12T03:47:25.721Z"
   },
   {
    "duration": 6,
    "start_time": "2024-02-12T03:48:19.320Z"
   },
   {
    "duration": 6,
    "start_time": "2024-02-12T03:48:45.172Z"
   },
   {
    "duration": 6,
    "start_time": "2024-02-12T03:49:08.496Z"
   },
   {
    "duration": 6,
    "start_time": "2024-02-12T03:49:38.272Z"
   },
   {
    "duration": 33,
    "start_time": "2024-02-12T04:09:19.882Z"
   },
   {
    "duration": 18,
    "start_time": "2024-02-12T04:12:32.423Z"
   },
   {
    "duration": 77,
    "start_time": "2024-02-12T04:13:56.475Z"
   },
   {
    "duration": 19,
    "start_time": "2024-02-12T04:14:32.855Z"
   },
   {
    "duration": 20,
    "start_time": "2024-02-12T04:27:58.077Z"
   },
   {
    "duration": 20,
    "start_time": "2024-02-12T04:28:25.613Z"
   },
   {
    "duration": 13,
    "start_time": "2024-02-12T04:28:40.130Z"
   },
   {
    "duration": 54,
    "start_time": "2024-02-12T04:33:44.866Z"
   },
   {
    "duration": 27,
    "start_time": "2024-02-12T04:34:22.646Z"
   },
   {
    "duration": 16,
    "start_time": "2024-02-12T04:35:06.622Z"
   },
   {
    "duration": 15,
    "start_time": "2024-02-12T04:35:25.986Z"
   },
   {
    "duration": 17,
    "start_time": "2024-02-12T04:36:55.602Z"
   },
   {
    "duration": 3,
    "start_time": "2024-02-12T05:45:09.845Z"
   },
   {
    "duration": 38,
    "start_time": "2024-02-12T05:45:09.856Z"
   },
   {
    "duration": 37,
    "start_time": "2024-02-12T05:45:09.895Z"
   },
   {
    "duration": 22,
    "start_time": "2024-02-12T05:45:09.934Z"
   },
   {
    "duration": 14,
    "start_time": "2024-02-12T05:45:09.958Z"
   },
   {
    "duration": 9,
    "start_time": "2024-02-12T05:45:09.974Z"
   },
   {
    "duration": 7,
    "start_time": "2024-02-12T05:45:09.985Z"
   },
   {
    "duration": 7,
    "start_time": "2024-02-12T05:45:09.994Z"
   },
   {
    "duration": 7,
    "start_time": "2024-02-12T05:45:10.003Z"
   },
   {
    "duration": 10,
    "start_time": "2024-02-12T05:45:10.011Z"
   },
   {
    "duration": 8,
    "start_time": "2024-02-12T05:45:10.022Z"
   },
   {
    "duration": 147,
    "start_time": "2024-02-12T05:45:10.031Z"
   },
   {
    "duration": 5,
    "start_time": "2024-02-12T05:45:10.180Z"
   },
   {
    "duration": 117,
    "start_time": "2024-02-12T05:45:10.187Z"
   },
   {
    "duration": 5,
    "start_time": "2024-02-12T05:45:10.307Z"
   },
   {
    "duration": 3,
    "start_time": "2024-02-12T05:45:10.314Z"
   },
   {
    "duration": 208,
    "start_time": "2024-02-12T05:45:10.319Z"
   },
   {
    "duration": 4,
    "start_time": "2024-02-12T05:45:10.528Z"
   },
   {
    "duration": 192,
    "start_time": "2024-02-12T05:45:10.533Z"
   },
   {
    "duration": 4,
    "start_time": "2024-02-12T05:45:10.727Z"
   },
   {
    "duration": 199,
    "start_time": "2024-02-12T05:45:10.733Z"
   },
   {
    "duration": 33,
    "start_time": "2024-02-12T05:45:10.933Z"
   },
   {
    "duration": 14,
    "start_time": "2024-02-12T05:45:10.967Z"
   },
   {
    "duration": 15,
    "start_time": "2024-02-12T05:45:10.982Z"
   },
   {
    "duration": 14,
    "start_time": "2024-02-12T05:45:10.999Z"
   },
   {
    "duration": 4,
    "start_time": "2024-02-12T05:45:11.014Z"
   },
   {
    "duration": 448,
    "start_time": "2024-02-12T05:45:11.019Z"
   },
   {
    "duration": 350,
    "start_time": "2024-02-12T05:45:11.468Z"
   },
   {
    "duration": 6,
    "start_time": "2024-02-12T05:45:11.819Z"
   },
   {
    "duration": 41,
    "start_time": "2024-02-12T05:45:11.827Z"
   },
   {
    "duration": 17,
    "start_time": "2024-02-12T05:45:11.870Z"
   },
   {
    "duration": 35,
    "start_time": "2024-02-12T05:55:49.544Z"
   },
   {
    "duration": 5,
    "start_time": "2024-02-12T05:56:08.845Z"
   },
   {
    "duration": 289,
    "start_time": "2024-02-12T06:05:56.521Z"
   },
   {
    "duration": 10,
    "start_time": "2024-02-12T06:06:19.608Z"
   },
   {
    "duration": 17,
    "start_time": "2024-02-12T06:07:26.940Z"
   },
   {
    "duration": 22,
    "start_time": "2024-02-12T06:08:20.426Z"
   },
   {
    "duration": 8,
    "start_time": "2024-02-12T06:08:44.161Z"
   },
   {
    "duration": 3,
    "start_time": "2024-02-12T06:10:26.872Z"
   },
   {
    "duration": 3,
    "start_time": "2024-02-12T07:35:39.760Z"
   },
   {
    "duration": 43,
    "start_time": "2024-02-12T07:35:39.767Z"
   },
   {
    "duration": 38,
    "start_time": "2024-02-12T07:35:39.812Z"
   },
   {
    "duration": 22,
    "start_time": "2024-02-12T07:35:39.852Z"
   },
   {
    "duration": 15,
    "start_time": "2024-02-12T07:35:39.876Z"
   },
   {
    "duration": 9,
    "start_time": "2024-02-12T07:35:39.893Z"
   },
   {
    "duration": 8,
    "start_time": "2024-02-12T07:35:39.904Z"
   },
   {
    "duration": 10,
    "start_time": "2024-02-12T07:35:39.913Z"
   },
   {
    "duration": 8,
    "start_time": "2024-02-12T07:35:39.924Z"
   },
   {
    "duration": 34,
    "start_time": "2024-02-12T07:35:39.933Z"
   },
   {
    "duration": 6,
    "start_time": "2024-02-12T07:35:39.969Z"
   },
   {
    "duration": 128,
    "start_time": "2024-02-12T07:35:39.977Z"
   },
   {
    "duration": 4,
    "start_time": "2024-02-12T07:35:40.107Z"
   },
   {
    "duration": 109,
    "start_time": "2024-02-12T07:35:40.113Z"
   },
   {
    "duration": 6,
    "start_time": "2024-02-12T07:35:40.224Z"
   },
   {
    "duration": 12,
    "start_time": "2024-02-12T07:35:40.231Z"
   },
   {
    "duration": 287,
    "start_time": "2024-02-12T07:35:40.244Z"
   },
   {
    "duration": 4,
    "start_time": "2024-02-12T07:35:40.532Z"
   },
   {
    "duration": 185,
    "start_time": "2024-02-12T07:35:40.538Z"
   },
   {
    "duration": 4,
    "start_time": "2024-02-12T07:35:40.724Z"
   },
   {
    "duration": 191,
    "start_time": "2024-02-12T07:35:40.729Z"
   },
   {
    "duration": 25,
    "start_time": "2024-02-12T07:35:40.922Z"
   },
   {
    "duration": 23,
    "start_time": "2024-02-12T07:35:40.948Z"
   },
   {
    "duration": 16,
    "start_time": "2024-02-12T07:35:40.972Z"
   },
   {
    "duration": 13,
    "start_time": "2024-02-12T07:35:40.989Z"
   },
   {
    "duration": 4,
    "start_time": "2024-02-12T07:35:41.003Z"
   },
   {
    "duration": 303,
    "start_time": "2024-02-12T07:35:41.008Z"
   },
   {
    "duration": 314,
    "start_time": "2024-02-12T07:35:41.313Z"
   },
   {
    "duration": 6,
    "start_time": "2024-02-12T07:35:41.628Z"
   },
   {
    "duration": 36,
    "start_time": "2024-02-12T07:35:41.636Z"
   },
   {
    "duration": 8,
    "start_time": "2024-02-12T07:35:41.673Z"
   },
   {
    "duration": 10,
    "start_time": "2024-02-12T07:43:40.214Z"
   },
   {
    "duration": 100,
    "start_time": "2024-02-12T07:50:50.369Z"
   },
   {
    "duration": 9,
    "start_time": "2024-02-12T07:51:00.968Z"
   },
   {
    "duration": 10,
    "start_time": "2024-02-12T07:52:35.170Z"
   },
   {
    "duration": 10,
    "start_time": "2024-02-12T07:53:27.089Z"
   },
   {
    "duration": 15,
    "start_time": "2024-02-12T07:59:28.313Z"
   },
   {
    "duration": 3,
    "start_time": "2024-02-12T08:07:51.295Z"
   },
   {
    "duration": 23,
    "start_time": "2024-02-12T08:14:55.980Z"
   },
   {
    "duration": 13,
    "start_time": "2024-02-12T08:45:44.953Z"
   },
   {
    "duration": 11,
    "start_time": "2024-02-12T08:46:00.359Z"
   },
   {
    "duration": 13,
    "start_time": "2024-02-12T08:47:17.484Z"
   },
   {
    "duration": 5,
    "start_time": "2024-02-12T08:48:18.334Z"
   },
   {
    "duration": 6,
    "start_time": "2024-02-12T08:48:43.552Z"
   },
   {
    "duration": 11,
    "start_time": "2024-02-12T08:50:08.553Z"
   },
   {
    "duration": 21,
    "start_time": "2024-02-12T08:50:56.854Z"
   },
   {
    "duration": 5,
    "start_time": "2024-02-12T08:52:25.414Z"
   },
   {
    "duration": 19,
    "start_time": "2024-02-12T08:53:41.662Z"
   },
   {
    "duration": 13,
    "start_time": "2024-02-12T08:54:40.572Z"
   },
   {
    "duration": 20,
    "start_time": "2024-02-12T11:47:59.218Z"
   },
   {
    "duration": 25,
    "start_time": "2024-02-12T12:02:31.347Z"
   },
   {
    "duration": 316,
    "start_time": "2024-02-12T12:05:48.447Z"
   },
   {
    "duration": 313,
    "start_time": "2024-02-12T12:06:43.749Z"
   },
   {
    "duration": 8,
    "start_time": "2024-02-12T12:07:05.131Z"
   },
   {
    "duration": 9,
    "start_time": "2024-02-12T12:07:53.205Z"
   },
   {
    "duration": 3,
    "start_time": "2024-02-12T12:16:39.529Z"
   },
   {
    "duration": 4,
    "start_time": "2024-02-12T12:17:04.661Z"
   },
   {
    "duration": 1510,
    "start_time": "2024-02-12T12:19:35.532Z"
   },
   {
    "duration": 1331,
    "start_time": "2024-02-12T12:19:59.258Z"
   },
   {
    "duration": 6,
    "start_time": "2024-02-12T12:23:05.322Z"
   },
   {
    "duration": 196,
    "start_time": "2024-02-12T12:26:29.492Z"
   },
   {
    "duration": 23,
    "start_time": "2024-02-12T12:33:48.126Z"
   },
   {
    "duration": 10,
    "start_time": "2024-02-12T12:39:58.237Z"
   },
   {
    "duration": 1336,
    "start_time": "2024-02-12T12:40:17.435Z"
   },
   {
    "duration": 679,
    "start_time": "2024-02-12T12:40:43.943Z"
   },
   {
    "duration": 38,
    "start_time": "2024-02-12T12:40:44.624Z"
   },
   {
    "duration": 39,
    "start_time": "2024-02-12T12:40:44.664Z"
   },
   {
    "duration": 23,
    "start_time": "2024-02-12T12:40:44.705Z"
   },
   {
    "duration": 15,
    "start_time": "2024-02-12T12:40:44.729Z"
   },
   {
    "duration": 13,
    "start_time": "2024-02-12T12:40:44.746Z"
   },
   {
    "duration": 10,
    "start_time": "2024-02-12T12:40:44.761Z"
   },
   {
    "duration": 9,
    "start_time": "2024-02-12T12:40:44.773Z"
   },
   {
    "duration": 7,
    "start_time": "2024-02-12T12:40:44.784Z"
   },
   {
    "duration": 6,
    "start_time": "2024-02-12T12:40:44.793Z"
   },
   {
    "duration": 7,
    "start_time": "2024-02-12T12:40:44.801Z"
   },
   {
    "duration": 165,
    "start_time": "2024-02-12T12:40:44.810Z"
   },
   {
    "duration": 5,
    "start_time": "2024-02-12T12:40:44.976Z"
   },
   {
    "duration": 108,
    "start_time": "2024-02-12T12:40:44.983Z"
   },
   {
    "duration": 5,
    "start_time": "2024-02-12T12:40:45.093Z"
   },
   {
    "duration": 45,
    "start_time": "2024-02-12T12:40:45.100Z"
   },
   {
    "duration": 222,
    "start_time": "2024-02-12T12:40:45.146Z"
   },
   {
    "duration": 3,
    "start_time": "2024-02-12T12:40:45.370Z"
   },
   {
    "duration": 211,
    "start_time": "2024-02-12T12:40:45.375Z"
   },
   {
    "duration": 4,
    "start_time": "2024-02-12T12:40:45.588Z"
   },
   {
    "duration": 303,
    "start_time": "2024-02-12T12:40:45.593Z"
   },
   {
    "duration": 26,
    "start_time": "2024-02-12T12:40:45.897Z"
   },
   {
    "duration": 12,
    "start_time": "2024-02-12T12:40:45.925Z"
   },
   {
    "duration": 32,
    "start_time": "2024-02-12T12:40:45.939Z"
   },
   {
    "duration": 14,
    "start_time": "2024-02-12T12:40:45.973Z"
   },
   {
    "duration": 4,
    "start_time": "2024-02-12T12:40:45.988Z"
   },
   {
    "duration": 321,
    "start_time": "2024-02-12T12:40:45.993Z"
   },
   {
    "duration": 321,
    "start_time": "2024-02-12T12:40:46.317Z"
   },
   {
    "duration": 5,
    "start_time": "2024-02-12T12:40:46.640Z"
   },
   {
    "duration": 36,
    "start_time": "2024-02-12T12:40:46.647Z"
   },
   {
    "duration": 21,
    "start_time": "2024-02-12T12:40:52.303Z"
   },
   {
    "duration": 9,
    "start_time": "2024-02-12T12:41:41.939Z"
   },
   {
    "duration": 13,
    "start_time": "2024-02-12T12:41:59.489Z"
   },
   {
    "duration": 32,
    "start_time": "2024-02-12T12:42:05.750Z"
   },
   {
    "duration": 10,
    "start_time": "2024-02-12T12:42:10.145Z"
   },
   {
    "duration": 3,
    "start_time": "2024-02-12T12:42:14.175Z"
   },
   {
    "duration": 5,
    "start_time": "2024-02-12T12:42:16.998Z"
   },
   {
    "duration": 192,
    "start_time": "2024-02-12T12:42:23.490Z"
   },
   {
    "duration": 10,
    "start_time": "2024-02-12T12:42:31.501Z"
   },
   {
    "duration": 13,
    "start_time": "2024-02-12T12:42:52.489Z"
   },
   {
    "duration": 477,
    "start_time": "2024-02-12T14:00:29.185Z"
   },
   {
    "duration": 1384,
    "start_time": "2024-02-13T02:04:32.803Z"
   },
   {
    "duration": 104,
    "start_time": "2024-02-13T02:04:34.189Z"
   },
   {
    "duration": 168,
    "start_time": "2024-02-13T02:04:34.295Z"
   },
   {
    "duration": 67,
    "start_time": "2024-02-13T02:04:34.465Z"
   },
   {
    "duration": 18,
    "start_time": "2024-02-13T02:04:34.535Z"
   },
   {
    "duration": 14,
    "start_time": "2024-02-13T02:04:34.554Z"
   },
   {
    "duration": 11,
    "start_time": "2024-02-13T02:04:34.569Z"
   },
   {
    "duration": 18,
    "start_time": "2024-02-13T02:04:34.581Z"
   },
   {
    "duration": 8,
    "start_time": "2024-02-13T02:04:34.601Z"
   },
   {
    "duration": 3,
    "start_time": "2024-02-13T02:04:34.611Z"
   },
   {
    "duration": 7,
    "start_time": "2024-02-13T02:04:34.615Z"
   },
   {
    "duration": 191,
    "start_time": "2024-02-13T02:04:34.624Z"
   },
   {
    "duration": 5,
    "start_time": "2024-02-13T02:04:34.817Z"
   },
   {
    "duration": 134,
    "start_time": "2024-02-13T02:04:34.825Z"
   },
   {
    "duration": 15,
    "start_time": "2024-02-13T02:04:34.960Z"
   },
   {
    "duration": 11,
    "start_time": "2024-02-13T02:04:34.977Z"
   },
   {
    "duration": 232,
    "start_time": "2024-02-13T02:04:34.991Z"
   },
   {
    "duration": 5,
    "start_time": "2024-02-13T02:04:35.225Z"
   },
   {
    "duration": 233,
    "start_time": "2024-02-13T02:04:35.232Z"
   },
   {
    "duration": 8,
    "start_time": "2024-02-13T02:04:35.467Z"
   },
   {
    "duration": 250,
    "start_time": "2024-02-13T02:04:35.477Z"
   },
   {
    "duration": 28,
    "start_time": "2024-02-13T02:04:35.729Z"
   },
   {
    "duration": 36,
    "start_time": "2024-02-13T02:04:35.758Z"
   },
   {
    "duration": 19,
    "start_time": "2024-02-13T02:04:35.796Z"
   },
   {
    "duration": 15,
    "start_time": "2024-02-13T02:04:35.816Z"
   },
   {
    "duration": 4,
    "start_time": "2024-02-13T02:04:35.833Z"
   },
   {
    "duration": 383,
    "start_time": "2024-02-13T02:04:35.838Z"
   },
   {
    "duration": 397,
    "start_time": "2024-02-13T02:04:36.223Z"
   },
   {
    "duration": 6,
    "start_time": "2024-02-13T02:04:36.621Z"
   },
   {
    "duration": 23,
    "start_time": "2024-02-13T02:04:36.629Z"
   },
   {
    "duration": 28,
    "start_time": "2024-02-13T02:04:36.654Z"
   },
   {
    "duration": 40,
    "start_time": "2024-02-13T02:04:36.684Z"
   },
   {
    "duration": 111,
    "start_time": "2024-02-13T02:04:36.725Z"
   },
   {
    "duration": 16,
    "start_time": "2024-02-13T02:04:36.837Z"
   },
   {
    "duration": 13,
    "start_time": "2024-02-13T02:04:36.855Z"
   },
   {
    "duration": 9,
    "start_time": "2024-02-13T02:04:36.869Z"
   },
   {
    "duration": 243,
    "start_time": "2024-02-13T02:04:36.880Z"
   },
   {
    "duration": 13,
    "start_time": "2024-02-13T02:04:37.124Z"
   },
   {
    "duration": 5,
    "start_time": "2024-02-13T02:13:23.350Z"
   },
   {
    "duration": 7,
    "start_time": "2024-02-13T02:28:53.661Z"
   },
   {
    "duration": 6,
    "start_time": "2024-02-13T02:57:26.466Z"
   },
   {
    "duration": 9,
    "start_time": "2024-02-13T03:31:37.681Z"
   },
   {
    "duration": 6,
    "start_time": "2024-02-13T03:47:12.331Z"
   },
   {
    "duration": 20,
    "start_time": "2024-02-13T03:47:29.912Z"
   },
   {
    "duration": 10,
    "start_time": "2024-02-13T03:48:20.641Z"
   },
   {
    "duration": 17,
    "start_time": "2024-02-13T03:49:20.792Z"
   },
   {
    "duration": 15,
    "start_time": "2024-02-13T03:52:23.998Z"
   },
   {
    "duration": 1242,
    "start_time": "2024-02-13T05:59:44.621Z"
   },
   {
    "duration": 114,
    "start_time": "2024-02-13T05:59:45.865Z"
   },
   {
    "duration": 178,
    "start_time": "2024-02-13T05:59:45.981Z"
   },
   {
    "duration": 68,
    "start_time": "2024-02-13T05:59:46.162Z"
   },
   {
    "duration": 18,
    "start_time": "2024-02-13T05:59:46.232Z"
   },
   {
    "duration": 13,
    "start_time": "2024-02-13T05:59:46.252Z"
   },
   {
    "duration": 8,
    "start_time": "2024-02-13T05:59:46.267Z"
   },
   {
    "duration": 9,
    "start_time": "2024-02-13T05:59:46.277Z"
   },
   {
    "duration": 9,
    "start_time": "2024-02-13T05:59:46.287Z"
   },
   {
    "duration": 9,
    "start_time": "2024-02-13T05:59:46.299Z"
   },
   {
    "duration": 13,
    "start_time": "2024-02-13T05:59:46.310Z"
   },
   {
    "duration": 165,
    "start_time": "2024-02-13T05:59:46.324Z"
   },
   {
    "duration": 6,
    "start_time": "2024-02-13T05:59:46.490Z"
   },
   {
    "duration": 119,
    "start_time": "2024-02-13T05:59:46.498Z"
   },
   {
    "duration": 6,
    "start_time": "2024-02-13T05:59:46.619Z"
   },
   {
    "duration": 7,
    "start_time": "2024-02-13T05:59:46.626Z"
   },
   {
    "duration": 204,
    "start_time": "2024-02-13T05:59:46.634Z"
   },
   {
    "duration": 4,
    "start_time": "2024-02-13T05:59:46.839Z"
   },
   {
    "duration": 232,
    "start_time": "2024-02-13T05:59:46.844Z"
   },
   {
    "duration": 8,
    "start_time": "2024-02-13T05:59:47.079Z"
   },
   {
    "duration": 239,
    "start_time": "2024-02-13T05:59:47.088Z"
   },
   {
    "duration": 27,
    "start_time": "2024-02-13T05:59:47.329Z"
   },
   {
    "duration": 27,
    "start_time": "2024-02-13T05:59:47.358Z"
   },
   {
    "duration": 17,
    "start_time": "2024-02-13T05:59:47.386Z"
   },
   {
    "duration": 14,
    "start_time": "2024-02-13T05:59:47.405Z"
   },
   {
    "duration": 4,
    "start_time": "2024-02-13T05:59:47.420Z"
   },
   {
    "duration": 350,
    "start_time": "2024-02-13T05:59:47.425Z"
   },
   {
    "duration": 364,
    "start_time": "2024-02-13T05:59:47.778Z"
   },
   {
    "duration": 6,
    "start_time": "2024-02-13T05:59:48.143Z"
   },
   {
    "duration": 41,
    "start_time": "2024-02-13T05:59:48.150Z"
   },
   {
    "duration": 9,
    "start_time": "2024-02-13T05:59:48.193Z"
   },
   {
    "duration": 27,
    "start_time": "2024-02-13T05:59:48.204Z"
   },
   {
    "duration": 122,
    "start_time": "2024-02-13T05:59:48.233Z"
   },
   {
    "duration": 9,
    "start_time": "2024-02-13T05:59:48.357Z"
   },
   {
    "duration": 16,
    "start_time": "2024-02-13T05:59:48.373Z"
   },
   {
    "duration": 12,
    "start_time": "2024-02-13T05:59:48.391Z"
   },
   {
    "duration": 213,
    "start_time": "2024-02-13T05:59:48.405Z"
   },
   {
    "duration": 14,
    "start_time": "2024-02-13T05:59:48.619Z"
   },
   {
    "duration": 10,
    "start_time": "2024-02-13T05:59:48.634Z"
   },
   {
    "duration": 10,
    "start_time": "2024-02-13T05:59:48.646Z"
   },
   {
    "duration": 27,
    "start_time": "2024-02-13T05:59:48.658Z"
   },
   {
    "duration": 3,
    "start_time": "2024-02-13T06:27:41.983Z"
   },
   {
    "duration": 103,
    "start_time": "2024-02-13T06:39:49.434Z"
   },
   {
    "duration": 69,
    "start_time": "2024-02-13T06:40:20.986Z"
   },
   {
    "duration": 71,
    "start_time": "2024-02-13T06:41:54.704Z"
   },
   {
    "duration": 72,
    "start_time": "2024-02-13T06:42:06.453Z"
   },
   {
    "duration": 77,
    "start_time": "2024-02-13T06:42:25.244Z"
   },
   {
    "duration": 105,
    "start_time": "2024-02-13T06:42:53.145Z"
   },
   {
    "duration": 12,
    "start_time": "2024-02-13T06:44:07.812Z"
   },
   {
    "duration": 10,
    "start_time": "2024-02-13T06:44:46.003Z"
   },
   {
    "duration": 3,
    "start_time": "2024-02-13T06:45:39.268Z"
   },
   {
    "duration": 9,
    "start_time": "2024-02-13T06:45:51.055Z"
   },
   {
    "duration": 1248,
    "start_time": "2024-02-13T06:46:10.576Z"
   },
   {
    "duration": 3,
    "start_time": "2024-02-13T06:50:43.066Z"
   },
   {
    "duration": 1480,
    "start_time": "2024-02-13T06:53:31.791Z"
   },
   {
    "duration": 1572,
    "start_time": "2024-02-13T06:53:51.120Z"
   },
   {
    "duration": 1589,
    "start_time": "2024-02-13T07:16:04.846Z"
   },
   {
    "duration": 189,
    "start_time": "2024-02-13T07:16:42.106Z"
   },
   {
    "duration": 1598,
    "start_time": "2024-02-13T07:16:54.290Z"
   },
   {
    "duration": 1616,
    "start_time": "2024-02-13T07:19:07.914Z"
   },
   {
    "duration": 317,
    "start_time": "2024-02-13T07:26:14.514Z"
   },
   {
    "duration": 1656,
    "start_time": "2024-02-13T07:26:23.774Z"
   },
   {
    "duration": 1755,
    "start_time": "2024-02-13T07:27:55.219Z"
   },
   {
    "duration": 207,
    "start_time": "2024-02-13T07:28:20.880Z"
   },
   {
    "duration": 1620,
    "start_time": "2024-02-13T07:29:56.937Z"
   },
   {
    "duration": 1648,
    "start_time": "2024-02-13T07:31:18.709Z"
   },
   {
    "duration": 1763,
    "start_time": "2024-02-13T07:32:53.995Z"
   },
   {
    "duration": 1687,
    "start_time": "2024-02-13T07:36:09.670Z"
   },
   {
    "duration": 1649,
    "start_time": "2024-02-13T07:37:04.182Z"
   },
   {
    "duration": 1624,
    "start_time": "2024-02-13T07:37:17.249Z"
   },
   {
    "duration": 1661,
    "start_time": "2024-02-13T07:37:31.059Z"
   },
   {
    "duration": 1627,
    "start_time": "2024-02-13T07:39:49.590Z"
   },
   {
    "duration": 1654,
    "start_time": "2024-02-13T07:40:52.089Z"
   },
   {
    "duration": 1609,
    "start_time": "2024-02-13T07:41:04.727Z"
   },
   {
    "duration": 1635,
    "start_time": "2024-02-13T07:41:30.923Z"
   },
   {
    "duration": 76,
    "start_time": "2024-02-13T07:43:58.962Z"
   },
   {
    "duration": 71,
    "start_time": "2024-02-13T07:44:19.294Z"
   },
   {
    "duration": 65,
    "start_time": "2024-02-13T07:44:44.324Z"
   },
   {
    "duration": 1193,
    "start_time": "2024-02-13T07:46:44.655Z"
   },
   {
    "duration": 44,
    "start_time": "2024-02-13T07:46:45.849Z"
   },
   {
    "duration": 42,
    "start_time": "2024-02-13T07:46:45.894Z"
   },
   {
    "duration": 25,
    "start_time": "2024-02-13T07:46:45.937Z"
   },
   {
    "duration": 18,
    "start_time": "2024-02-13T07:46:45.964Z"
   },
   {
    "duration": 17,
    "start_time": "2024-02-13T07:46:45.984Z"
   },
   {
    "duration": 16,
    "start_time": "2024-02-13T07:46:46.002Z"
   },
   {
    "duration": 16,
    "start_time": "2024-02-13T07:46:46.020Z"
   },
   {
    "duration": 8,
    "start_time": "2024-02-13T07:46:46.038Z"
   },
   {
    "duration": 4,
    "start_time": "2024-02-13T07:46:46.048Z"
   },
   {
    "duration": 7,
    "start_time": "2024-02-13T07:46:46.073Z"
   },
   {
    "duration": 161,
    "start_time": "2024-02-13T07:46:46.082Z"
   },
   {
    "duration": 6,
    "start_time": "2024-02-13T07:46:46.245Z"
   },
   {
    "duration": 127,
    "start_time": "2024-02-13T07:46:46.254Z"
   },
   {
    "duration": 7,
    "start_time": "2024-02-13T07:46:46.383Z"
   },
   {
    "duration": 12,
    "start_time": "2024-02-13T07:46:46.391Z"
   },
   {
    "duration": 218,
    "start_time": "2024-02-13T07:46:46.404Z"
   },
   {
    "duration": 5,
    "start_time": "2024-02-13T07:46:46.623Z"
   },
   {
    "duration": 229,
    "start_time": "2024-02-13T07:46:46.629Z"
   },
   {
    "duration": 4,
    "start_time": "2024-02-13T07:46:46.860Z"
   },
   {
    "duration": 255,
    "start_time": "2024-02-13T07:46:46.872Z"
   },
   {
    "duration": 29,
    "start_time": "2024-02-13T07:46:47.129Z"
   },
   {
    "duration": 26,
    "start_time": "2024-02-13T07:46:47.160Z"
   },
   {
    "duration": 18,
    "start_time": "2024-02-13T07:46:47.188Z"
   },
   {
    "duration": 14,
    "start_time": "2024-02-13T07:46:47.207Z"
   },
   {
    "duration": 4,
    "start_time": "2024-02-13T07:46:47.223Z"
   },
   {
    "duration": 364,
    "start_time": "2024-02-13T07:46:47.229Z"
   },
   {
    "duration": 377,
    "start_time": "2024-02-13T07:46:47.596Z"
   },
   {
    "duration": 5,
    "start_time": "2024-02-13T07:46:47.975Z"
   },
   {
    "duration": 24,
    "start_time": "2024-02-13T07:46:47.982Z"
   },
   {
    "duration": 9,
    "start_time": "2024-02-13T07:46:48.007Z"
   },
   {
    "duration": 14,
    "start_time": "2024-02-13T07:46:48.017Z"
   },
   {
    "duration": 137,
    "start_time": "2024-02-13T07:46:48.033Z"
   },
   {
    "duration": 9,
    "start_time": "2024-02-13T07:46:48.173Z"
   },
   {
    "duration": 11,
    "start_time": "2024-02-13T07:46:48.183Z"
   },
   {
    "duration": 5,
    "start_time": "2024-02-13T07:46:48.196Z"
   },
   {
    "duration": 223,
    "start_time": "2024-02-13T07:46:48.203Z"
   },
   {
    "duration": 13,
    "start_time": "2024-02-13T07:46:48.427Z"
   },
   {
    "duration": 12,
    "start_time": "2024-02-13T07:46:48.441Z"
   },
   {
    "duration": 23,
    "start_time": "2024-02-13T07:46:48.454Z"
   },
   {
    "duration": 12,
    "start_time": "2024-02-13T07:46:48.481Z"
   },
   {
    "duration": 1587,
    "start_time": "2024-02-13T07:47:03.481Z"
   },
   {
    "duration": 151,
    "start_time": "2024-02-13T07:47:14.360Z"
   },
   {
    "duration": 1629,
    "start_time": "2024-02-13T07:47:22.976Z"
   },
   {
    "duration": 4,
    "start_time": "2024-02-13T08:18:59.151Z"
   },
   {
    "duration": 128158,
    "start_time": "2024-02-13T08:23:22.021Z"
   },
   {
    "duration": 4,
    "start_time": "2024-02-13T08:25:40.567Z"
   },
   {
    "duration": 9,
    "start_time": "2024-02-13T08:41:44.178Z"
   },
   {
    "duration": 5,
    "start_time": "2024-02-13T08:44:24.815Z"
   },
   {
    "duration": 8,
    "start_time": "2024-02-13T08:47:38.584Z"
   },
   {
    "duration": 4,
    "start_time": "2024-02-13T08:57:38.262Z"
   },
   {
    "duration": 221,
    "start_time": "2024-02-13T09:01:24.919Z"
   },
   {
    "duration": 21,
    "start_time": "2024-02-13T09:04:19.636Z"
   },
   {
    "duration": 5,
    "start_time": "2024-02-13T09:04:33.678Z"
   },
   {
    "duration": 134,
    "start_time": "2024-02-13T09:07:53.077Z"
   },
   {
    "duration": 136,
    "start_time": "2024-02-13T09:08:49.777Z"
   },
   {
    "duration": 109,
    "start_time": "2024-02-13T09:16:29.880Z"
   },
   {
    "duration": 8,
    "start_time": "2024-02-13T09:17:56.802Z"
   },
   {
    "duration": 5,
    "start_time": "2024-02-13T09:18:12.720Z"
   },
   {
    "duration": 5,
    "start_time": "2024-02-13T09:18:44.028Z"
   },
   {
    "duration": 3,
    "start_time": "2024-02-13T09:29:46.808Z"
   },
   {
    "duration": 63,
    "start_time": "2024-02-13T09:29:46.813Z"
   },
   {
    "duration": 38,
    "start_time": "2024-02-13T09:29:46.877Z"
   },
   {
    "duration": 26,
    "start_time": "2024-02-13T09:29:46.917Z"
   },
   {
    "duration": 17,
    "start_time": "2024-02-13T09:29:46.944Z"
   },
   {
    "duration": 15,
    "start_time": "2024-02-13T09:29:46.963Z"
   },
   {
    "duration": 17,
    "start_time": "2024-02-13T09:29:46.980Z"
   },
   {
    "duration": 9,
    "start_time": "2024-02-13T09:29:46.999Z"
   },
   {
    "duration": 8,
    "start_time": "2024-02-13T09:29:47.010Z"
   },
   {
    "duration": 5,
    "start_time": "2024-02-13T09:29:47.021Z"
   },
   {
    "duration": 7,
    "start_time": "2024-02-13T09:29:47.028Z"
   },
   {
    "duration": 177,
    "start_time": "2024-02-13T09:29:47.037Z"
   },
   {
    "duration": 6,
    "start_time": "2024-02-13T09:29:47.217Z"
   },
   {
    "duration": 137,
    "start_time": "2024-02-13T09:29:47.225Z"
   },
   {
    "duration": 10,
    "start_time": "2024-02-13T09:29:47.363Z"
   },
   {
    "duration": 14,
    "start_time": "2024-02-13T09:29:47.374Z"
   },
   {
    "duration": 209,
    "start_time": "2024-02-13T09:29:47.389Z"
   },
   {
    "duration": 4,
    "start_time": "2024-02-13T09:29:47.600Z"
   },
   {
    "duration": 218,
    "start_time": "2024-02-13T09:29:47.606Z"
   },
   {
    "duration": 5,
    "start_time": "2024-02-13T09:29:47.825Z"
   },
   {
    "duration": 223,
    "start_time": "2024-02-13T09:29:47.832Z"
   },
   {
    "duration": 41,
    "start_time": "2024-02-13T09:29:48.057Z"
   },
   {
    "duration": 16,
    "start_time": "2024-02-13T09:29:48.100Z"
   },
   {
    "duration": 18,
    "start_time": "2024-02-13T09:29:48.118Z"
   },
   {
    "duration": 44,
    "start_time": "2024-02-13T09:29:48.138Z"
   },
   {
    "duration": 4,
    "start_time": "2024-02-13T09:29:48.183Z"
   },
   {
    "duration": 319,
    "start_time": "2024-02-13T09:29:48.189Z"
   },
   {
    "duration": 380,
    "start_time": "2024-02-13T09:29:48.511Z"
   },
   {
    "duration": 5,
    "start_time": "2024-02-13T09:29:48.893Z"
   },
   {
    "duration": 32,
    "start_time": "2024-02-13T09:29:48.900Z"
   },
   {
    "duration": 8,
    "start_time": "2024-02-13T09:29:48.934Z"
   },
   {
    "duration": 31,
    "start_time": "2024-02-13T09:29:48.944Z"
   },
   {
    "duration": 30,
    "start_time": "2024-02-13T09:29:48.976Z"
   },
   {
    "duration": 9,
    "start_time": "2024-02-13T09:29:49.008Z"
   },
   {
    "duration": 16,
    "start_time": "2024-02-13T09:29:49.018Z"
   },
   {
    "duration": 6,
    "start_time": "2024-02-13T09:29:49.036Z"
   },
   {
    "duration": 241,
    "start_time": "2024-02-13T09:29:49.044Z"
   },
   {
    "duration": 13,
    "start_time": "2024-02-13T09:29:49.287Z"
   },
   {
    "duration": 14,
    "start_time": "2024-02-13T09:29:49.302Z"
   },
   {
    "duration": 9,
    "start_time": "2024-02-13T09:29:49.318Z"
   },
   {
    "duration": 24,
    "start_time": "2024-02-13T09:29:49.329Z"
   },
   {
    "duration": 1562,
    "start_time": "2024-02-13T09:29:49.355Z"
   },
   {
    "duration": 4,
    "start_time": "2024-02-13T09:29:50.919Z"
   },
   {
    "duration": 807,
    "start_time": "2024-02-13T09:29:50.925Z"
   },
   {
    "duration": 6,
    "start_time": "2024-02-13T09:29:51.733Z"
   },
   {
    "duration": 669,
    "start_time": "2024-02-13T11:40:46.004Z"
   },
   {
    "duration": 615,
    "start_time": "2024-02-13T11:44:58.208Z"
   },
   {
    "duration": 163,
    "start_time": "2024-02-13T11:44:58.826Z"
   },
   {
    "duration": 177,
    "start_time": "2024-02-13T11:44:58.990Z"
   },
   {
    "duration": 68,
    "start_time": "2024-02-13T11:44:59.169Z"
   },
   {
    "duration": 18,
    "start_time": "2024-02-13T11:44:59.239Z"
   },
   {
    "duration": 13,
    "start_time": "2024-02-13T11:44:59.259Z"
   },
   {
    "duration": 9,
    "start_time": "2024-02-13T11:44:59.274Z"
   },
   {
    "duration": 12,
    "start_time": "2024-02-13T11:44:59.284Z"
   },
   {
    "duration": 8,
    "start_time": "2024-02-13T11:44:59.298Z"
   },
   {
    "duration": 8,
    "start_time": "2024-02-13T11:44:59.308Z"
   },
   {
    "duration": 20,
    "start_time": "2024-02-13T11:44:59.317Z"
   },
   {
    "duration": 163,
    "start_time": "2024-02-13T11:44:59.338Z"
   },
   {
    "duration": 6,
    "start_time": "2024-02-13T11:44:59.502Z"
   },
   {
    "duration": 124,
    "start_time": "2024-02-13T11:44:59.509Z"
   },
   {
    "duration": 6,
    "start_time": "2024-02-13T11:44:59.634Z"
   },
   {
    "duration": 5,
    "start_time": "2024-02-13T11:44:59.642Z"
   },
   {
    "duration": 203,
    "start_time": "2024-02-13T11:44:59.648Z"
   },
   {
    "duration": 4,
    "start_time": "2024-02-13T11:44:59.853Z"
   },
   {
    "duration": 236,
    "start_time": "2024-02-13T11:44:59.859Z"
   },
   {
    "duration": 4,
    "start_time": "2024-02-13T11:45:00.097Z"
   },
   {
    "duration": 255,
    "start_time": "2024-02-13T11:45:00.103Z"
   },
   {
    "duration": 32,
    "start_time": "2024-02-13T11:45:00.359Z"
   },
   {
    "duration": 15,
    "start_time": "2024-02-13T11:45:00.393Z"
   },
   {
    "duration": 49,
    "start_time": "2024-02-13T11:45:00.410Z"
   },
   {
    "duration": 23,
    "start_time": "2024-02-13T11:45:00.461Z"
   },
   {
    "duration": 24,
    "start_time": "2024-02-13T11:45:00.486Z"
   },
   {
    "duration": 348,
    "start_time": "2024-02-13T11:45:00.512Z"
   },
   {
    "duration": 363,
    "start_time": "2024-02-13T11:45:00.864Z"
   },
   {
    "duration": 6,
    "start_time": "2024-02-13T11:45:01.228Z"
   },
   {
    "duration": 71,
    "start_time": "2024-02-13T11:45:01.236Z"
   },
   {
    "duration": 115,
    "start_time": "2024-02-13T11:45:01.309Z"
   },
   {
    "duration": 103,
    "start_time": "2024-02-13T11:45:01.426Z"
   },
   {
    "duration": 70,
    "start_time": "2024-02-13T11:45:01.530Z"
   },
   {
    "duration": 59,
    "start_time": "2024-02-13T11:45:01.602Z"
   },
   {
    "duration": 64,
    "start_time": "2024-02-13T11:45:01.663Z"
   },
   {
    "duration": 104,
    "start_time": "2024-02-13T11:45:01.729Z"
   },
   {
    "duration": 473,
    "start_time": "2024-02-13T11:45:01.834Z"
   },
   {
    "duration": 13,
    "start_time": "2024-02-13T11:45:02.309Z"
   },
   {
    "duration": 81,
    "start_time": "2024-02-13T11:45:02.324Z"
   },
   {
    "duration": 101,
    "start_time": "2024-02-13T11:45:02.407Z"
   },
   {
    "duration": 64,
    "start_time": "2024-02-13T11:45:02.510Z"
   },
   {
    "duration": 168,
    "start_time": "2024-02-13T11:45:11.129Z"
   },
   {
    "duration": 1572,
    "start_time": "2024-02-13T11:45:26.920Z"
   },
   {
    "duration": 1577,
    "start_time": "2024-02-13T11:45:41.189Z"
   },
   {
    "duration": 3,
    "start_time": "2024-02-13T14:45:17.373Z"
   },
   {
    "duration": 53,
    "start_time": "2024-02-13T14:45:17.378Z"
   },
   {
    "duration": 40,
    "start_time": "2024-02-13T14:45:17.432Z"
   },
   {
    "duration": 25,
    "start_time": "2024-02-13T14:45:17.474Z"
   },
   {
    "duration": 16,
    "start_time": "2024-02-13T14:45:17.501Z"
   },
   {
    "duration": 11,
    "start_time": "2024-02-13T14:45:17.518Z"
   },
   {
    "duration": 8,
    "start_time": "2024-02-13T14:45:17.531Z"
   },
   {
    "duration": 33,
    "start_time": "2024-02-13T14:45:17.540Z"
   },
   {
    "duration": 17,
    "start_time": "2024-02-13T14:45:17.575Z"
   },
   {
    "duration": 39,
    "start_time": "2024-02-13T14:45:17.593Z"
   },
   {
    "duration": 8,
    "start_time": "2024-02-13T14:45:17.634Z"
   },
   {
    "duration": 131,
    "start_time": "2024-02-13T14:45:17.643Z"
   },
   {
    "duration": 5,
    "start_time": "2024-02-13T14:45:17.776Z"
   },
   {
    "duration": 122,
    "start_time": "2024-02-13T14:45:17.783Z"
   },
   {
    "duration": 6,
    "start_time": "2024-02-13T14:45:17.907Z"
   },
   {
    "duration": 4,
    "start_time": "2024-02-13T14:45:17.915Z"
   },
   {
    "duration": 210,
    "start_time": "2024-02-13T14:45:17.921Z"
   },
   {
    "duration": 5,
    "start_time": "2024-02-13T14:45:18.133Z"
   },
   {
    "duration": 235,
    "start_time": "2024-02-13T14:45:18.140Z"
   },
   {
    "duration": 5,
    "start_time": "2024-02-13T14:45:18.377Z"
   },
   {
    "duration": 227,
    "start_time": "2024-02-13T14:45:18.383Z"
   },
   {
    "duration": 28,
    "start_time": "2024-02-13T14:45:18.611Z"
   },
   {
    "duration": 32,
    "start_time": "2024-02-13T14:45:18.641Z"
   },
   {
    "duration": 18,
    "start_time": "2024-02-13T14:45:18.674Z"
   },
   {
    "duration": 15,
    "start_time": "2024-02-13T14:45:18.694Z"
   },
   {
    "duration": 10,
    "start_time": "2024-02-13T14:45:18.710Z"
   },
   {
    "duration": 344,
    "start_time": "2024-02-13T14:45:18.721Z"
   },
   {
    "duration": 526,
    "start_time": "2024-02-13T14:45:19.067Z"
   },
   {
    "duration": 7,
    "start_time": "2024-02-13T14:45:19.596Z"
   },
   {
    "duration": 50,
    "start_time": "2024-02-13T14:45:19.604Z"
   },
   {
    "duration": 8,
    "start_time": "2024-02-13T14:45:19.656Z"
   },
   {
    "duration": 25,
    "start_time": "2024-02-13T14:45:19.666Z"
   },
   {
    "duration": 26,
    "start_time": "2024-02-13T14:45:19.693Z"
   },
   {
    "duration": 9,
    "start_time": "2024-02-13T14:45:19.721Z"
   },
   {
    "duration": 15,
    "start_time": "2024-02-13T14:45:19.732Z"
   },
   {
    "duration": 12,
    "start_time": "2024-02-13T14:45:19.749Z"
   },
   {
    "duration": 222,
    "start_time": "2024-02-13T14:45:19.763Z"
   },
   {
    "duration": 13,
    "start_time": "2024-02-13T14:45:19.987Z"
   },
   {
    "duration": 38,
    "start_time": "2024-02-13T14:45:20.002Z"
   },
   {
    "duration": 28,
    "start_time": "2024-02-13T14:45:20.042Z"
   },
   {
    "duration": 20,
    "start_time": "2024-02-13T14:45:20.072Z"
   },
   {
    "duration": 1542,
    "start_time": "2024-02-13T14:45:20.094Z"
   },
   {
    "duration": 4,
    "start_time": "2024-02-13T14:45:51.642Z"
   },
   {
    "duration": 142,
    "start_time": "2024-02-13T14:46:12.435Z"
   },
   {
    "duration": 5,
    "start_time": "2024-02-13T14:46:19.089Z"
   },
   {
    "duration": 1069,
    "start_time": "2024-02-14T00:58:15.135Z"
   },
   {
    "duration": 86,
    "start_time": "2024-02-14T00:58:16.206Z"
   },
   {
    "duration": 73,
    "start_time": "2024-02-14T00:58:16.293Z"
   },
   {
    "duration": 58,
    "start_time": "2024-02-14T00:58:16.368Z"
   },
   {
    "duration": 14,
    "start_time": "2024-02-14T00:58:16.427Z"
   },
   {
    "duration": 10,
    "start_time": "2024-02-14T00:58:16.442Z"
   },
   {
    "duration": 6,
    "start_time": "2024-02-14T00:58:16.453Z"
   },
   {
    "duration": 7,
    "start_time": "2024-02-14T00:58:16.460Z"
   },
   {
    "duration": 6,
    "start_time": "2024-02-14T00:58:16.469Z"
   },
   {
    "duration": 3,
    "start_time": "2024-02-14T00:58:16.477Z"
   },
   {
    "duration": 5,
    "start_time": "2024-02-14T00:58:16.481Z"
   },
   {
    "duration": 110,
    "start_time": "2024-02-14T00:58:16.501Z"
   },
   {
    "duration": 5,
    "start_time": "2024-02-14T00:58:16.612Z"
   },
   {
    "duration": 93,
    "start_time": "2024-02-14T00:58:16.618Z"
   },
   {
    "duration": 5,
    "start_time": "2024-02-14T00:58:16.712Z"
   },
   {
    "duration": 3,
    "start_time": "2024-02-14T00:58:16.719Z"
   },
   {
    "duration": 159,
    "start_time": "2024-02-14T00:58:16.723Z"
   },
   {
    "duration": 4,
    "start_time": "2024-02-14T00:58:16.884Z"
   },
   {
    "duration": 171,
    "start_time": "2024-02-14T00:58:16.889Z"
   },
   {
    "duration": 4,
    "start_time": "2024-02-14T00:58:17.061Z"
   },
   {
    "duration": 175,
    "start_time": "2024-02-14T00:58:17.066Z"
   },
   {
    "duration": 23,
    "start_time": "2024-02-14T00:58:17.242Z"
   },
   {
    "duration": 11,
    "start_time": "2024-02-14T00:58:17.266Z"
   },
   {
    "duration": 31,
    "start_time": "2024-02-14T00:58:17.278Z"
   },
   {
    "duration": 12,
    "start_time": "2024-02-14T00:58:17.310Z"
   },
   {
    "duration": 3,
    "start_time": "2024-02-14T00:58:17.323Z"
   },
   {
    "duration": 257,
    "start_time": "2024-02-14T00:58:17.327Z"
   },
   {
    "duration": 267,
    "start_time": "2024-02-14T00:58:17.587Z"
   },
   {
    "duration": 5,
    "start_time": "2024-02-14T00:58:17.856Z"
   },
   {
    "duration": 18,
    "start_time": "2024-02-14T00:58:17.862Z"
   },
   {
    "duration": 22,
    "start_time": "2024-02-14T00:58:17.881Z"
   },
   {
    "duration": 12,
    "start_time": "2024-02-14T00:58:17.904Z"
   },
   {
    "duration": 68,
    "start_time": "2024-02-14T00:58:17.918Z"
   },
   {
    "duration": 19,
    "start_time": "2024-02-14T00:58:17.987Z"
   },
   {
    "duration": 8,
    "start_time": "2024-02-14T00:58:18.007Z"
   },
   {
    "duration": 4,
    "start_time": "2024-02-14T00:58:18.016Z"
   },
   {
    "duration": 180,
    "start_time": "2024-02-14T00:58:18.021Z"
   },
   {
    "duration": 10,
    "start_time": "2024-02-14T00:58:18.203Z"
   },
   {
    "duration": 6,
    "start_time": "2024-02-14T00:58:18.214Z"
   },
   {
    "duration": 5,
    "start_time": "2024-02-14T00:58:18.222Z"
   },
   {
    "duration": 16,
    "start_time": "2024-02-14T00:58:18.229Z"
   },
   {
    "duration": 1100,
    "start_time": "2024-02-14T00:58:18.247Z"
   },
   {
    "duration": 1093,
    "start_time": "2024-02-14T00:58:24.144Z"
   },
   {
    "duration": 1105,
    "start_time": "2024-02-14T00:59:49.660Z"
   },
   {
    "duration": 3,
    "start_time": "2024-02-14T01:30:41.758Z"
   },
   {
    "duration": 4,
    "start_time": "2024-02-14T01:30:54.381Z"
   },
   {
    "duration": 4,
    "start_time": "2024-02-14T01:31:20.268Z"
   },
   {
    "duration": 3,
    "start_time": "2024-02-14T01:31:28.494Z"
   },
   {
    "duration": 4,
    "start_time": "2024-02-14T01:31:37.183Z"
   },
   {
    "duration": 4,
    "start_time": "2024-02-14T01:31:41.997Z"
   },
   {
    "duration": 4,
    "start_time": "2024-02-14T01:31:47.593Z"
   },
   {
    "duration": 3,
    "start_time": "2024-02-14T01:31:56.052Z"
   },
   {
    "duration": 3,
    "start_time": "2024-02-14T01:32:01.482Z"
   },
   {
    "duration": 4,
    "start_time": "2024-02-14T01:32:09.192Z"
   },
   {
    "duration": 112,
    "start_time": "2024-02-14T01:33:11.842Z"
   },
   {
    "duration": 53,
    "start_time": "2024-02-14T01:34:43.295Z"
   },
   {
    "duration": 24,
    "start_time": "2024-02-14T01:36:00.591Z"
   },
   {
    "duration": 111,
    "start_time": "2024-02-14T01:36:27.314Z"
   },
   {
    "duration": 1132,
    "start_time": "2024-02-14T01:36:35.524Z"
   },
   {
    "duration": 8,
    "start_time": "2024-02-14T01:55:43.678Z"
   },
   {
    "duration": 38,
    "start_time": "2024-02-14T01:57:56.478Z"
   },
   {
    "duration": 1312,
    "start_time": "2024-02-14T01:58:50.285Z"
   },
   {
    "duration": 1287,
    "start_time": "2024-02-14T02:00:25.730Z"
   },
   {
    "duration": 1384,
    "start_time": "2024-02-14T02:00:49.940Z"
   },
   {
    "duration": 1334,
    "start_time": "2024-02-14T02:03:11.451Z"
   },
   {
    "duration": 1498,
    "start_time": "2024-02-14T02:03:24.871Z"
   },
   {
    "duration": 1163,
    "start_time": "2024-02-14T02:03:51.146Z"
   },
   {
    "duration": 3,
    "start_time": "2024-02-14T02:49:27.693Z"
   },
   {
    "duration": 101,
    "start_time": "2024-02-14T03:48:28.700Z"
   },
   {
    "duration": 22,
    "start_time": "2024-02-14T03:48:44.023Z"
   },
   {
    "duration": 1174,
    "start_time": "2024-02-14T11:29:49.761Z"
   },
   {
    "duration": 43,
    "start_time": "2024-02-14T11:29:50.937Z"
   },
   {
    "duration": 41,
    "start_time": "2024-02-14T11:29:50.982Z"
   },
   {
    "duration": 31,
    "start_time": "2024-02-14T11:29:51.025Z"
   },
   {
    "duration": 25,
    "start_time": "2024-02-14T11:29:51.059Z"
   },
   {
    "duration": 16,
    "start_time": "2024-02-14T11:29:51.086Z"
   },
   {
    "duration": 38,
    "start_time": "2024-02-14T11:29:51.103Z"
   },
   {
    "duration": 22,
    "start_time": "2024-02-14T11:29:51.143Z"
   },
   {
    "duration": 15,
    "start_time": "2024-02-14T11:29:51.167Z"
   },
   {
    "duration": 28,
    "start_time": "2024-02-14T11:29:51.183Z"
   },
   {
    "duration": 20,
    "start_time": "2024-02-14T11:29:51.213Z"
   },
   {
    "duration": 181,
    "start_time": "2024-02-14T11:29:51.236Z"
   },
   {
    "duration": 7,
    "start_time": "2024-02-14T11:29:51.419Z"
   },
   {
    "duration": 122,
    "start_time": "2024-02-14T11:29:51.430Z"
   },
   {
    "duration": 10,
    "start_time": "2024-02-14T11:29:51.554Z"
   },
   {
    "duration": 28,
    "start_time": "2024-02-14T11:29:51.566Z"
   },
   {
    "duration": 209,
    "start_time": "2024-02-14T11:29:51.596Z"
   },
   {
    "duration": 6,
    "start_time": "2024-02-14T11:29:51.807Z"
   },
   {
    "duration": 232,
    "start_time": "2024-02-14T11:29:51.814Z"
   },
   {
    "duration": 12,
    "start_time": "2024-02-14T11:29:52.048Z"
   },
   {
    "duration": 247,
    "start_time": "2024-02-14T11:29:52.062Z"
   },
   {
    "duration": 29,
    "start_time": "2024-02-14T11:29:52.311Z"
   },
   {
    "duration": 29,
    "start_time": "2024-02-14T11:29:52.342Z"
   },
   {
    "duration": 59,
    "start_time": "2024-02-14T11:29:52.373Z"
   },
   {
    "duration": 29,
    "start_time": "2024-02-14T11:29:52.434Z"
   },
   {
    "duration": 60,
    "start_time": "2024-02-14T11:29:52.465Z"
   },
   {
    "duration": 374,
    "start_time": "2024-02-14T11:29:52.527Z"
   },
   {
    "duration": 378,
    "start_time": "2024-02-14T11:29:52.903Z"
   },
   {
    "duration": 7,
    "start_time": "2024-02-14T11:29:53.283Z"
   },
   {
    "duration": 57,
    "start_time": "2024-02-14T11:29:53.292Z"
   },
   {
    "duration": 21,
    "start_time": "2024-02-14T11:29:53.351Z"
   },
   {
    "duration": 38,
    "start_time": "2024-02-14T11:29:53.374Z"
   },
   {
    "duration": 122,
    "start_time": "2024-02-14T11:29:53.413Z"
   },
   {
    "duration": 10,
    "start_time": "2024-02-14T11:29:53.537Z"
   },
   {
    "duration": 4,
    "start_time": "2024-02-14T11:29:53.559Z"
   },
   {
    "duration": 17,
    "start_time": "2024-02-14T11:29:53.565Z"
   },
   {
    "duration": 226,
    "start_time": "2024-02-14T11:29:53.584Z"
   },
   {
    "duration": 13,
    "start_time": "2024-02-14T11:29:53.812Z"
   },
   {
    "duration": 10,
    "start_time": "2024-02-14T11:29:53.827Z"
   },
   {
    "duration": 24,
    "start_time": "2024-02-14T11:29:53.839Z"
   },
   {
    "duration": 48,
    "start_time": "2024-02-14T11:29:53.867Z"
   },
   {
    "duration": 1565,
    "start_time": "2024-02-14T11:29:53.917Z"
   },
   {
    "duration": 26,
    "start_time": "2024-02-14T11:29:55.484Z"
   },
   {
    "duration": 1908,
    "start_time": "2024-02-14T11:29:55.512Z"
   },
   {
    "duration": 4,
    "start_time": "2024-02-14T11:29:57.421Z"
   },
   {
    "duration": 167,
    "start_time": "2024-02-14T11:29:57.427Z"
   },
   {
    "duration": 6,
    "start_time": "2024-02-14T11:29:57.596Z"
   },
   {
    "duration": 37,
    "start_time": "2024-02-14T12:35:36.891Z"
   },
   {
    "duration": 26,
    "start_time": "2024-02-14T12:35:40.962Z"
   },
   {
    "duration": 28,
    "start_time": "2024-02-14T12:35:45.683Z"
   },
   {
    "duration": 25,
    "start_time": "2024-02-14T12:46:00.761Z"
   },
   {
    "duration": 5,
    "start_time": "2024-02-14T12:50:19.185Z"
   },
   {
    "duration": 1330,
    "start_time": "2024-02-14T13:03:08.139Z"
   },
   {
    "duration": 44,
    "start_time": "2024-02-14T13:03:09.471Z"
   },
   {
    "duration": 42,
    "start_time": "2024-02-14T13:03:09.558Z"
   },
   {
    "duration": 70,
    "start_time": "2024-02-14T13:03:09.603Z"
   },
   {
    "duration": 28,
    "start_time": "2024-02-14T13:03:09.676Z"
   },
   {
    "duration": 21,
    "start_time": "2024-02-14T13:03:09.758Z"
   },
   {
    "duration": 13,
    "start_time": "2024-02-14T13:03:09.781Z"
   },
   {
    "duration": 69,
    "start_time": "2024-02-14T13:03:09.795Z"
   },
   {
    "duration": 11,
    "start_time": "2024-02-14T13:03:09.866Z"
   },
   {
    "duration": 5,
    "start_time": "2024-02-14T13:03:09.880Z"
   },
   {
    "duration": 10,
    "start_time": "2024-02-14T13:03:09.887Z"
   },
   {
    "duration": 361,
    "start_time": "2024-02-14T13:03:09.899Z"
   },
   {
    "duration": 6,
    "start_time": "2024-02-14T13:03:10.262Z"
   },
   {
    "duration": 234,
    "start_time": "2024-02-14T13:03:10.270Z"
   },
   {
    "duration": 60,
    "start_time": "2024-02-14T13:03:10.505Z"
   },
   {
    "duration": 18,
    "start_time": "2024-02-14T13:03:10.567Z"
   },
   {
    "duration": 431,
    "start_time": "2024-02-14T13:03:10.587Z"
   },
   {
    "duration": 4,
    "start_time": "2024-02-14T13:03:11.020Z"
   },
   {
    "duration": 268,
    "start_time": "2024-02-14T13:03:11.026Z"
   },
   {
    "duration": 5,
    "start_time": "2024-02-14T13:03:11.296Z"
   },
   {
    "duration": 243,
    "start_time": "2024-02-14T13:03:11.302Z"
   },
   {
    "duration": 34,
    "start_time": "2024-02-14T13:03:11.547Z"
   },
   {
    "duration": 17,
    "start_time": "2024-02-14T13:03:11.582Z"
   },
   {
    "duration": 23,
    "start_time": "2024-02-14T13:03:11.600Z"
   },
   {
    "duration": 46,
    "start_time": "2024-02-14T13:03:11.624Z"
   },
   {
    "duration": 16,
    "start_time": "2024-02-14T13:03:11.672Z"
   },
   {
    "duration": 355,
    "start_time": "2024-02-14T13:03:11.690Z"
   },
   {
    "duration": 477,
    "start_time": "2024-02-14T13:03:12.049Z"
   },
   {
    "duration": 6,
    "start_time": "2024-02-14T13:03:12.528Z"
   },
   {
    "duration": 45,
    "start_time": "2024-02-14T13:03:12.536Z"
   },
   {
    "duration": 12,
    "start_time": "2024-02-14T13:03:12.583Z"
   },
   {
    "duration": 21,
    "start_time": "2024-02-14T13:03:12.598Z"
   },
   {
    "duration": 138,
    "start_time": "2024-02-14T13:03:12.621Z"
   },
   {
    "duration": 10,
    "start_time": "2024-02-14T13:03:12.761Z"
   },
   {
    "duration": 16,
    "start_time": "2024-02-14T13:03:12.773Z"
   },
   {
    "duration": 34,
    "start_time": "2024-02-14T13:03:12.791Z"
   },
   {
    "duration": 439,
    "start_time": "2024-02-14T13:03:12.827Z"
   },
   {
    "duration": 15,
    "start_time": "2024-02-14T13:03:13.268Z"
   },
   {
    "duration": 9,
    "start_time": "2024-02-14T13:03:13.284Z"
   },
   {
    "duration": 8,
    "start_time": "2024-02-14T13:03:13.294Z"
   },
   {
    "duration": 60,
    "start_time": "2024-02-14T13:03:13.304Z"
   },
   {
    "duration": 21,
    "start_time": "2024-02-14T13:03:13.366Z"
   },
   {
    "duration": 2217,
    "start_time": "2024-02-14T13:03:13.389Z"
   },
   {
    "duration": 28,
    "start_time": "2024-02-14T13:03:15.608Z"
   },
   {
    "duration": 2022,
    "start_time": "2024-02-14T13:03:15.638Z"
   },
   {
    "duration": 4,
    "start_time": "2024-02-14T13:03:17.663Z"
   },
   {
    "duration": 172,
    "start_time": "2024-02-14T13:03:17.669Z"
   },
   {
    "duration": 6,
    "start_time": "2024-02-14T13:03:17.843Z"
   },
   {
    "duration": 120,
    "start_time": "2024-02-14T13:03:17.851Z"
   },
   {
    "duration": 1215,
    "start_time": "2024-02-14T13:05:07.848Z"
   },
   {
    "duration": 51,
    "start_time": "2024-02-14T13:05:09.065Z"
   },
   {
    "duration": 50,
    "start_time": "2024-02-14T13:05:09.119Z"
   },
   {
    "duration": 27,
    "start_time": "2024-02-14T13:05:09.172Z"
   },
   {
    "duration": 20,
    "start_time": "2024-02-14T13:05:09.202Z"
   },
   {
    "duration": 35,
    "start_time": "2024-02-14T13:05:09.224Z"
   },
   {
    "duration": 11,
    "start_time": "2024-02-14T13:05:09.262Z"
   },
   {
    "duration": 11,
    "start_time": "2024-02-14T13:05:09.275Z"
   },
   {
    "duration": 10,
    "start_time": "2024-02-14T13:05:09.288Z"
   },
   {
    "duration": 4,
    "start_time": "2024-02-14T13:05:09.301Z"
   },
   {
    "duration": 51,
    "start_time": "2024-02-14T13:05:09.307Z"
   },
   {
    "duration": 160,
    "start_time": "2024-02-14T13:05:09.360Z"
   },
   {
    "duration": 6,
    "start_time": "2024-02-14T13:05:09.522Z"
   },
   {
    "duration": 135,
    "start_time": "2024-02-14T13:05:09.531Z"
   },
   {
    "duration": 8,
    "start_time": "2024-02-14T13:05:09.667Z"
   },
   {
    "duration": 6,
    "start_time": "2024-02-14T13:05:09.677Z"
   },
   {
    "duration": 224,
    "start_time": "2024-02-14T13:05:09.685Z"
   },
   {
    "duration": 5,
    "start_time": "2024-02-14T13:05:09.910Z"
   },
   {
    "duration": 244,
    "start_time": "2024-02-14T13:05:09.917Z"
   },
   {
    "duration": 4,
    "start_time": "2024-02-14T13:05:10.163Z"
   },
   {
    "duration": 241,
    "start_time": "2024-02-14T13:05:10.169Z"
   },
   {
    "duration": 30,
    "start_time": "2024-02-14T13:05:10.412Z"
   },
   {
    "duration": 16,
    "start_time": "2024-02-14T13:05:10.459Z"
   },
   {
    "duration": 20,
    "start_time": "2024-02-14T13:05:10.477Z"
   },
   {
    "duration": 16,
    "start_time": "2024-02-14T13:05:10.498Z"
   },
   {
    "duration": 13,
    "start_time": "2024-02-14T13:05:10.516Z"
   },
   {
    "duration": 344,
    "start_time": "2024-02-14T13:05:10.559Z"
   },
   {
    "duration": 387,
    "start_time": "2024-02-14T13:05:10.905Z"
   },
   {
    "duration": 7,
    "start_time": "2024-02-14T13:05:11.293Z"
   },
   {
    "duration": 30,
    "start_time": "2024-02-14T13:05:11.302Z"
   },
   {
    "duration": 9,
    "start_time": "2024-02-14T13:05:11.334Z"
   },
   {
    "duration": 14,
    "start_time": "2024-02-14T13:05:11.359Z"
   },
   {
    "duration": 130,
    "start_time": "2024-02-14T13:05:11.375Z"
   },
   {
    "duration": 11,
    "start_time": "2024-02-14T13:05:11.507Z"
   },
   {
    "duration": 18,
    "start_time": "2024-02-14T13:05:11.520Z"
   },
   {
    "duration": 20,
    "start_time": "2024-02-14T13:05:11.540Z"
   },
   {
    "duration": 222,
    "start_time": "2024-02-14T13:05:11.562Z"
   },
   {
    "duration": 15,
    "start_time": "2024-02-14T13:05:11.785Z"
   },
   {
    "duration": 6,
    "start_time": "2024-02-14T13:05:11.801Z"
   },
   {
    "duration": 20,
    "start_time": "2024-02-14T13:05:11.809Z"
   },
   {
    "duration": 28,
    "start_time": "2024-02-14T13:05:11.833Z"
   },
   {
    "duration": 17,
    "start_time": "2024-02-14T13:05:11.863Z"
   },
   {
    "duration": 1619,
    "start_time": "2024-02-14T13:05:11.882Z"
   },
   {
    "duration": 27,
    "start_time": "2024-02-14T13:05:13.503Z"
   },
   {
    "duration": 1976,
    "start_time": "2024-02-14T13:05:13.532Z"
   },
   {
    "duration": 4,
    "start_time": "2024-02-14T13:05:15.510Z"
   },
   {
    "duration": 168,
    "start_time": "2024-02-14T13:05:15.515Z"
   },
   {
    "duration": 5,
    "start_time": "2024-02-14T13:05:15.685Z"
   },
   {
    "duration": 1093,
    "start_time": "2024-02-15T01:52:50.313Z"
   },
   {
    "duration": 92,
    "start_time": "2024-02-15T01:53:18.991Z"
   },
   {
    "duration": 3,
    "start_time": "2024-02-15T02:00:33.936Z"
   },
   {
    "duration": 2,
    "start_time": "2024-02-15T02:01:02.884Z"
   },
   {
    "duration": 39,
    "start_time": "2024-02-15T02:01:57.235Z"
   },
   {
    "duration": 87,
    "start_time": "2024-02-15T02:04:05.986Z"
   },
   {
    "duration": 81,
    "start_time": "2024-02-15T02:06:09.724Z"
   },
   {
    "duration": 51,
    "start_time": "2024-02-15T02:06:28.804Z"
   },
   {
    "duration": 37,
    "start_time": "2024-02-15T02:12:29.364Z"
   },
   {
    "duration": 50,
    "start_time": "2024-02-15T02:14:13.793Z"
   },
   {
    "duration": 74,
    "start_time": "2024-02-15T02:17:46.081Z"
   },
   {
    "duration": 13,
    "start_time": "2024-02-15T02:20:40.272Z"
   },
   {
    "duration": 4,
    "start_time": "2024-02-15T02:32:30.563Z"
   },
   {
    "duration": 5,
    "start_time": "2024-02-15T02:33:17.393Z"
   },
   {
    "duration": 3,
    "start_time": "2024-02-15T02:39:27.441Z"
   },
   {
    "duration": 2,
    "start_time": "2024-02-15T02:39:27.449Z"
   },
   {
    "duration": 51,
    "start_time": "2024-02-15T02:39:27.453Z"
   },
   {
    "duration": 45,
    "start_time": "2024-02-15T02:39:27.506Z"
   },
   {
    "duration": 26,
    "start_time": "2024-02-15T02:39:27.553Z"
   },
   {
    "duration": 5,
    "start_time": "2024-02-15T02:39:27.580Z"
   },
   {
    "duration": 22,
    "start_time": "2024-02-15T02:39:27.587Z"
   },
   {
    "duration": 6,
    "start_time": "2024-02-15T02:39:27.610Z"
   },
   {
    "duration": 7,
    "start_time": "2024-02-15T02:39:27.617Z"
   },
   {
    "duration": 8,
    "start_time": "2024-02-15T02:39:27.626Z"
   },
   {
    "duration": 8,
    "start_time": "2024-02-15T02:39:27.635Z"
   },
   {
    "duration": 7,
    "start_time": "2024-02-15T02:39:36.831Z"
   },
   {
    "duration": 4,
    "start_time": "2024-02-15T02:42:55.091Z"
   },
   {
    "duration": 102,
    "start_time": "2024-02-15T02:43:10.590Z"
   },
   {
    "duration": 190,
    "start_time": "2024-02-15T02:45:46.991Z"
   },
   {
    "duration": 111,
    "start_time": "2024-02-15T02:45:54.490Z"
   },
   {
    "duration": 87,
    "start_time": "2024-02-15T02:46:18.566Z"
   },
   {
    "duration": 98,
    "start_time": "2024-02-15T02:47:42.410Z"
   },
   {
    "duration": 114,
    "start_time": "2024-02-15T02:51:30.913Z"
   },
   {
    "duration": 125,
    "start_time": "2024-02-15T02:55:11.384Z"
   },
   {
    "duration": 115,
    "start_time": "2024-02-15T02:55:20.196Z"
   },
   {
    "duration": 126,
    "start_time": "2024-02-15T02:57:11.095Z"
   },
   {
    "duration": 160,
    "start_time": "2024-02-15T02:57:32.225Z"
   },
   {
    "duration": 113,
    "start_time": "2024-02-15T02:58:13.840Z"
   },
   {
    "duration": 123,
    "start_time": "2024-02-15T02:59:20.707Z"
   },
   {
    "duration": 6,
    "start_time": "2024-02-15T03:04:02.701Z"
   },
   {
    "duration": 6,
    "start_time": "2024-02-15T03:04:29.980Z"
   },
   {
    "duration": 54,
    "start_time": "2024-02-15T03:17:28.126Z"
   },
   {
    "duration": 55,
    "start_time": "2024-02-15T03:21:03.898Z"
   },
   {
    "duration": 9,
    "start_time": "2024-02-15T04:01:05.559Z"
   },
   {
    "duration": 81,
    "start_time": "2024-02-15T04:06:49.213Z"
   },
   {
    "duration": 10,
    "start_time": "2024-02-15T04:07:14.963Z"
   },
   {
    "duration": 9,
    "start_time": "2024-02-15T04:11:58.932Z"
   },
   {
    "duration": 3,
    "start_time": "2024-02-15T04:13:09.552Z"
   },
   {
    "duration": 3,
    "start_time": "2024-02-15T04:13:09.560Z"
   },
   {
    "duration": 43,
    "start_time": "2024-02-15T04:13:09.564Z"
   },
   {
    "duration": 37,
    "start_time": "2024-02-15T04:13:09.608Z"
   },
   {
    "duration": 24,
    "start_time": "2024-02-15T04:13:09.646Z"
   },
   {
    "duration": 6,
    "start_time": "2024-02-15T04:13:09.672Z"
   },
   {
    "duration": 8,
    "start_time": "2024-02-15T04:13:09.679Z"
   },
   {
    "duration": 16,
    "start_time": "2024-02-15T04:13:09.689Z"
   },
   {
    "duration": 7,
    "start_time": "2024-02-15T04:13:09.706Z"
   },
   {
    "duration": 6,
    "start_time": "2024-02-15T04:13:09.714Z"
   },
   {
    "duration": 3,
    "start_time": "2024-02-15T04:13:09.722Z"
   },
   {
    "duration": 7,
    "start_time": "2024-02-15T04:13:09.726Z"
   },
   {
    "duration": 138,
    "start_time": "2024-02-15T04:13:09.734Z"
   },
   {
    "duration": 5,
    "start_time": "2024-02-15T04:13:09.873Z"
   },
   {
    "duration": 6,
    "start_time": "2024-02-15T04:13:09.880Z"
   },
   {
    "duration": 10,
    "start_time": "2024-02-15T04:13:29.529Z"
   },
   {
    "duration": 11,
    "start_time": "2024-02-15T04:14:11.330Z"
   },
   {
    "duration": 10,
    "start_time": "2024-02-15T04:14:54.646Z"
   },
   {
    "duration": 10,
    "start_time": "2024-02-15T04:15:24.080Z"
   },
   {
    "duration": 3,
    "start_time": "2024-02-15T04:24:57.431Z"
   },
   {
    "duration": 12,
    "start_time": "2024-02-15T04:26:29.072Z"
   },
   {
    "duration": 12,
    "start_time": "2024-02-15T04:26:49.272Z"
   },
   {
    "duration": 7,
    "start_time": "2024-02-15T04:29:57.689Z"
   },
   {
    "duration": 1262,
    "start_time": "2024-02-15T06:51:10.875Z"
   },
   {
    "duration": 3,
    "start_time": "2024-02-15T06:51:12.139Z"
   },
   {
    "duration": 109,
    "start_time": "2024-02-15T06:51:12.143Z"
   },
   {
    "duration": 88,
    "start_time": "2024-02-15T06:51:12.254Z"
   },
   {
    "duration": 65,
    "start_time": "2024-02-15T06:51:12.344Z"
   },
   {
    "duration": 6,
    "start_time": "2024-02-15T06:51:12.410Z"
   },
   {
    "duration": 21,
    "start_time": "2024-02-15T06:51:12.417Z"
   },
   {
    "duration": 15,
    "start_time": "2024-02-15T06:51:12.439Z"
   },
   {
    "duration": 9,
    "start_time": "2024-02-15T06:51:12.455Z"
   },
   {
    "duration": 8,
    "start_time": "2024-02-15T06:51:12.465Z"
   },
   {
    "duration": 4,
    "start_time": "2024-02-15T06:51:12.474Z"
   },
   {
    "duration": 7,
    "start_time": "2024-02-15T06:51:12.479Z"
   },
   {
    "duration": 178,
    "start_time": "2024-02-15T06:51:12.487Z"
   },
   {
    "duration": 8,
    "start_time": "2024-02-15T06:51:12.668Z"
   },
   {
    "duration": 11,
    "start_time": "2024-02-15T06:51:12.677Z"
   },
   {
    "duration": 4,
    "start_time": "2024-02-15T06:51:12.690Z"
   },
   {
    "duration": 14,
    "start_time": "2024-02-15T06:51:17.908Z"
   },
   {
    "duration": 7,
    "start_time": "2024-02-15T06:51:20.293Z"
   },
   {
    "duration": 5,
    "start_time": "2024-02-15T07:01:42.857Z"
   },
   {
    "duration": 185,
    "start_time": "2024-02-15T07:05:22.144Z"
   },
   {
    "duration": 8,
    "start_time": "2024-02-15T07:06:00.222Z"
   },
   {
    "duration": 11,
    "start_time": "2024-02-15T07:06:46.962Z"
   },
   {
    "duration": 104,
    "start_time": "2024-02-15T07:08:30.972Z"
   },
   {
    "duration": 3,
    "start_time": "2024-02-15T07:08:39.962Z"
   },
   {
    "duration": 3,
    "start_time": "2024-02-15T07:08:39.976Z"
   },
   {
    "duration": 43,
    "start_time": "2024-02-15T07:08:39.981Z"
   },
   {
    "duration": 45,
    "start_time": "2024-02-15T07:08:40.025Z"
   },
   {
    "duration": 27,
    "start_time": "2024-02-15T07:08:40.072Z"
   },
   {
    "duration": 6,
    "start_time": "2024-02-15T07:08:40.101Z"
   },
   {
    "duration": 11,
    "start_time": "2024-02-15T07:08:40.108Z"
   },
   {
    "duration": 8,
    "start_time": "2024-02-15T07:08:40.120Z"
   },
   {
    "duration": 35,
    "start_time": "2024-02-15T07:08:40.130Z"
   },
   {
    "duration": 8,
    "start_time": "2024-02-15T07:08:40.167Z"
   },
   {
    "duration": 6,
    "start_time": "2024-02-15T07:08:40.176Z"
   },
   {
    "duration": 10,
    "start_time": "2024-02-15T07:08:40.183Z"
   },
   {
    "duration": 168,
    "start_time": "2024-02-15T07:08:40.194Z"
   },
   {
    "duration": 6,
    "start_time": "2024-02-15T07:08:40.364Z"
   },
   {
    "duration": 7,
    "start_time": "2024-02-15T07:08:40.372Z"
   },
   {
    "duration": 102,
    "start_time": "2024-02-15T07:08:43.902Z"
   },
   {
    "duration": 106,
    "start_time": "2024-02-15T07:08:55.992Z"
   },
   {
    "duration": 4,
    "start_time": "2024-02-15T07:10:38.755Z"
   },
   {
    "duration": 6,
    "start_time": "2024-02-15T07:10:47.988Z"
   },
   {
    "duration": 4,
    "start_time": "2024-02-15T07:11:11.394Z"
   },
   {
    "duration": 8,
    "start_time": "2024-02-15T07:11:33.738Z"
   },
   {
    "duration": 3,
    "start_time": "2024-02-15T07:12:11.255Z"
   },
   {
    "duration": 9,
    "start_time": "2024-02-15T07:12:59.006Z"
   },
   {
    "duration": 92,
    "start_time": "2024-02-15T07:16:25.439Z"
   },
   {
    "duration": 97,
    "start_time": "2024-02-15T07:17:13.207Z"
   },
   {
    "duration": 142,
    "start_time": "2024-02-15T07:18:30.114Z"
   },
   {
    "duration": 153,
    "start_time": "2024-02-15T07:18:58.335Z"
   },
   {
    "duration": 102,
    "start_time": "2024-02-15T07:23:00.645Z"
   },
   {
    "duration": 6,
    "start_time": "2024-02-15T07:24:19.693Z"
   },
   {
    "duration": 137,
    "start_time": "2024-02-15T07:24:47.123Z"
   },
   {
    "duration": 4,
    "start_time": "2024-02-15T07:25:20.796Z"
   },
   {
    "duration": 4,
    "start_time": "2024-02-15T07:25:29.162Z"
   },
   {
    "duration": 99,
    "start_time": "2024-02-15T07:25:40.046Z"
   },
   {
    "duration": 105,
    "start_time": "2024-02-15T07:25:49.007Z"
   },
   {
    "duration": 9,
    "start_time": "2024-02-15T07:28:16.270Z"
   },
   {
    "duration": 8,
    "start_time": "2024-02-15T07:29:47.070Z"
   },
   {
    "duration": 103,
    "start_time": "2024-02-15T07:36:46.789Z"
   },
   {
    "duration": 105,
    "start_time": "2024-02-15T07:36:54.739Z"
   },
   {
    "duration": 125,
    "start_time": "2024-02-15T07:45:52.391Z"
   },
   {
    "duration": 134,
    "start_time": "2024-02-15T07:46:06.222Z"
   },
   {
    "duration": 8,
    "start_time": "2024-02-15T07:52:46.731Z"
   },
   {
    "duration": 145,
    "start_time": "2024-02-15T08:04:58.676Z"
   },
   {
    "duration": 13,
    "start_time": "2024-02-15T09:10:05.944Z"
   },
   {
    "duration": 3,
    "start_time": "2024-02-15T09:10:15.508Z"
   },
   {
    "duration": 26,
    "start_time": "2024-02-15T09:10:15.516Z"
   },
   {
    "duration": 77,
    "start_time": "2024-02-15T09:10:15.544Z"
   },
   {
    "duration": 46,
    "start_time": "2024-02-15T09:10:15.623Z"
   },
   {
    "duration": 28,
    "start_time": "2024-02-15T09:10:15.670Z"
   },
   {
    "duration": 22,
    "start_time": "2024-02-15T09:10:15.700Z"
   },
   {
    "duration": 52,
    "start_time": "2024-02-15T09:10:15.724Z"
   },
   {
    "duration": 52,
    "start_time": "2024-02-15T09:10:15.777Z"
   },
   {
    "duration": 27,
    "start_time": "2024-02-15T09:10:15.830Z"
   },
   {
    "duration": 50,
    "start_time": "2024-02-15T09:10:15.858Z"
   },
   {
    "duration": 18,
    "start_time": "2024-02-15T09:10:15.910Z"
   },
   {
    "duration": 46,
    "start_time": "2024-02-15T09:10:15.930Z"
   },
   {
    "duration": 178,
    "start_time": "2024-02-15T09:10:15.978Z"
   },
   {
    "duration": 9,
    "start_time": "2024-02-15T09:10:16.157Z"
   },
   {
    "duration": 36,
    "start_time": "2024-02-15T09:10:16.169Z"
   },
   {
    "duration": 38,
    "start_time": "2024-02-15T09:10:16.207Z"
   },
   {
    "duration": 217,
    "start_time": "2024-02-15T09:10:16.246Z"
   },
   {
    "duration": 68,
    "start_time": "2024-02-15T09:10:16.465Z"
   },
   {
    "duration": 6,
    "start_time": "2024-02-15T09:10:16.534Z"
   },
   {
    "duration": 28,
    "start_time": "2024-02-15T09:10:16.541Z"
   },
   {
    "duration": 218,
    "start_time": "2024-02-15T09:10:16.570Z"
   },
   {
    "duration": 111,
    "start_time": "2024-02-15T09:10:16.789Z"
   },
   {
    "duration": 4,
    "start_time": "2024-02-15T09:10:16.901Z"
   },
   {
    "duration": 224,
    "start_time": "2024-02-15T09:10:16.906Z"
   },
   {
    "duration": 134,
    "start_time": "2024-02-15T09:10:17.131Z"
   },
   {
    "duration": 8,
    "start_time": "2024-02-15T09:10:17.267Z"
   },
   {
    "duration": 27,
    "start_time": "2024-02-15T09:10:17.276Z"
   },
   {
    "duration": 195,
    "start_time": "2024-02-15T09:10:17.304Z"
   },
   {
    "duration": 25,
    "start_time": "2024-02-15T09:10:17.500Z"
   },
   {
    "duration": 13,
    "start_time": "2024-02-15T09:10:17.527Z"
   },
   {
    "duration": 35,
    "start_time": "2024-02-15T09:10:17.541Z"
   },
   {
    "duration": 22,
    "start_time": "2024-02-15T09:10:17.577Z"
   },
   {
    "duration": 4,
    "start_time": "2024-02-15T09:10:17.600Z"
   },
   {
    "duration": 327,
    "start_time": "2024-02-15T09:10:17.606Z"
   },
   {
    "duration": 172,
    "start_time": "2024-02-15T09:10:20.206Z"
   },
   {
    "duration": 150,
    "start_time": "2024-02-15T09:10:39.755Z"
   },
   {
    "duration": 221,
    "start_time": "2024-02-15T09:10:55.577Z"
   },
   {
    "duration": 81,
    "start_time": "2024-02-15T09:11:54.026Z"
   },
   {
    "duration": 175,
    "start_time": "2024-02-15T09:12:07.705Z"
   },
   {
    "duration": 167,
    "start_time": "2024-02-15T09:12:18.147Z"
   },
   {
    "duration": 172,
    "start_time": "2024-02-15T09:12:59.656Z"
   },
   {
    "duration": 190,
    "start_time": "2024-02-15T09:24:20.185Z"
   },
   {
    "duration": 173,
    "start_time": "2024-02-15T09:24:45.354Z"
   },
   {
    "duration": 172,
    "start_time": "2024-02-15T09:25:36.237Z"
   },
   {
    "duration": 188,
    "start_time": "2024-02-15T09:27:08.308Z"
   },
   {
    "duration": 200,
    "start_time": "2024-02-15T09:27:50.034Z"
   },
   {
    "duration": 169,
    "start_time": "2024-02-15T09:30:30.655Z"
   },
   {
    "duration": 1289,
    "start_time": "2024-02-15T12:38:59.262Z"
   },
   {
    "duration": 3,
    "start_time": "2024-02-15T12:39:00.553Z"
   },
   {
    "duration": 162,
    "start_time": "2024-02-15T12:39:00.557Z"
   },
   {
    "duration": 173,
    "start_time": "2024-02-15T12:39:00.721Z"
   },
   {
    "duration": 66,
    "start_time": "2024-02-15T12:39:00.896Z"
   },
   {
    "duration": 6,
    "start_time": "2024-02-15T12:39:00.963Z"
   },
   {
    "duration": 81,
    "start_time": "2024-02-15T12:39:00.971Z"
   },
   {
    "duration": 74,
    "start_time": "2024-02-15T12:39:01.054Z"
   },
   {
    "duration": 43,
    "start_time": "2024-02-15T12:39:01.129Z"
   },
   {
    "duration": 46,
    "start_time": "2024-02-15T12:39:01.175Z"
   },
   {
    "duration": 54,
    "start_time": "2024-02-15T12:39:01.222Z"
   },
   {
    "duration": 35,
    "start_time": "2024-02-15T12:39:01.277Z"
   },
   {
    "duration": 201,
    "start_time": "2024-02-15T12:39:01.313Z"
   },
   {
    "duration": 4,
    "start_time": "2024-02-15T12:39:01.516Z"
   },
   {
    "duration": 65,
    "start_time": "2024-02-15T12:39:01.521Z"
   },
   {
    "duration": 78,
    "start_time": "2024-02-15T12:39:01.588Z"
   },
   {
    "duration": 121,
    "start_time": "2024-02-15T12:39:01.667Z"
   },
   {
    "duration": 68,
    "start_time": "2024-02-15T12:39:01.789Z"
   },
   {
    "duration": 7,
    "start_time": "2024-02-15T12:39:01.859Z"
   },
   {
    "duration": 64,
    "start_time": "2024-02-15T12:39:01.867Z"
   },
   {
    "duration": 242,
    "start_time": "2024-02-15T12:39:01.933Z"
   },
   {
    "duration": 118,
    "start_time": "2024-02-15T12:39:02.177Z"
   },
   {
    "duration": 5,
    "start_time": "2024-02-15T12:39:02.297Z"
   },
   {
    "duration": 255,
    "start_time": "2024-02-15T12:39:02.304Z"
   },
   {
    "duration": 134,
    "start_time": "2024-02-15T12:39:02.561Z"
   },
   {
    "duration": 9,
    "start_time": "2024-02-15T12:39:02.697Z"
   },
   {
    "duration": 79,
    "start_time": "2024-02-15T12:39:02.708Z"
   },
   {
    "duration": 315,
    "start_time": "2024-02-15T12:39:02.790Z"
   },
   {
    "duration": 121,
    "start_time": "2024-02-15T12:40:41.641Z"
   },
   {
    "duration": 193,
    "start_time": "2024-02-15T12:41:04.514Z"
   },
   {
    "duration": 105,
    "start_time": "2024-02-15T12:42:46.671Z"
   },
   {
    "duration": 122,
    "start_time": "2024-02-15T12:43:13.046Z"
   },
   {
    "duration": 26,
    "start_time": "2024-02-15T12:50:28.239Z"
   },
   {
    "duration": 15,
    "start_time": "2024-02-15T12:50:33.107Z"
   },
   {
    "duration": 15,
    "start_time": "2024-02-15T12:50:38.019Z"
   },
   {
    "duration": 14,
    "start_time": "2024-02-15T12:50:40.437Z"
   },
   {
    "duration": 4,
    "start_time": "2024-02-15T12:50:43.479Z"
   },
   {
    "duration": 280,
    "start_time": "2024-02-15T12:50:53.472Z"
   },
   {
    "duration": 183,
    "start_time": "2024-02-15T12:50:57.290Z"
   },
   {
    "duration": 292,
    "start_time": "2024-02-15T12:54:09.114Z"
   },
   {
    "duration": 293,
    "start_time": "2024-02-15T12:54:23.480Z"
   },
   {
    "duration": 388,
    "start_time": "2024-02-15T12:54:34.249Z"
   },
   {
    "duration": 322,
    "start_time": "2024-02-15T12:56:25.456Z"
   },
   {
    "duration": 16,
    "start_time": "2024-02-15T12:58:42.937Z"
   },
   {
    "duration": 12,
    "start_time": "2024-02-15T12:59:07.312Z"
   },
   {
    "duration": 15,
    "start_time": "2024-02-15T13:00:06.637Z"
   },
   {
    "duration": 6,
    "start_time": "2024-02-15T13:00:24.065Z"
   },
   {
    "duration": 5,
    "start_time": "2024-02-15T13:00:48.724Z"
   },
   {
    "duration": 6,
    "start_time": "2024-02-15T13:00:57.264Z"
   },
   {
    "duration": 8,
    "start_time": "2024-02-15T13:01:07.830Z"
   },
   {
    "duration": 6,
    "start_time": "2024-02-15T13:01:17.128Z"
   },
   {
    "duration": 13,
    "start_time": "2024-02-15T13:06:30.099Z"
   },
   {
    "duration": 92,
    "start_time": "2024-02-15T13:20:06.243Z"
   },
   {
    "duration": 72,
    "start_time": "2024-02-15T13:20:25.912Z"
   },
   {
    "duration": 4,
    "start_time": "2024-02-15T13:20:33.616Z"
   },
   {
    "duration": 13,
    "start_time": "2024-02-15T13:28:41.791Z"
   },
   {
    "duration": 4,
    "start_time": "2024-02-15T14:04:57.508Z"
   },
   {
    "duration": 38,
    "start_time": "2024-02-15T14:04:57.513Z"
   },
   {
    "duration": 80,
    "start_time": "2024-02-15T14:04:57.553Z"
   },
   {
    "duration": 43,
    "start_time": "2024-02-15T14:04:57.634Z"
   },
   {
    "duration": 27,
    "start_time": "2024-02-15T14:04:57.679Z"
   },
   {
    "duration": 12,
    "start_time": "2024-02-15T14:04:57.707Z"
   },
   {
    "duration": 19,
    "start_time": "2024-02-15T14:04:57.721Z"
   },
   {
    "duration": 42,
    "start_time": "2024-02-15T14:04:57.741Z"
   },
   {
    "duration": 18,
    "start_time": "2024-02-15T14:04:57.785Z"
   },
   {
    "duration": 18,
    "start_time": "2024-02-15T14:04:57.804Z"
   },
   {
    "duration": 4,
    "start_time": "2024-02-15T14:04:57.825Z"
   },
   {
    "duration": 18,
    "start_time": "2024-02-15T14:04:57.830Z"
   },
   {
    "duration": 165,
    "start_time": "2024-02-15T14:04:57.849Z"
   },
   {
    "duration": 4,
    "start_time": "2024-02-15T14:04:58.015Z"
   },
   {
    "duration": 14,
    "start_time": "2024-02-15T14:04:58.021Z"
   },
   {
    "duration": 47,
    "start_time": "2024-02-15T14:04:58.036Z"
   },
   {
    "duration": 106,
    "start_time": "2024-02-15T14:04:58.085Z"
   },
   {
    "duration": 65,
    "start_time": "2024-02-15T14:04:58.192Z"
   },
   {
    "duration": 6,
    "start_time": "2024-02-15T14:04:58.259Z"
   },
   {
    "duration": 51,
    "start_time": "2024-02-15T14:04:58.267Z"
   },
   {
    "duration": 193,
    "start_time": "2024-02-15T14:04:58.320Z"
   },
   {
    "duration": 124,
    "start_time": "2024-02-15T14:04:58.515Z"
   },
   {
    "duration": 5,
    "start_time": "2024-02-15T14:04:58.641Z"
   },
   {
    "duration": 214,
    "start_time": "2024-02-15T14:04:58.648Z"
   },
   {
    "duration": 146,
    "start_time": "2024-02-15T14:04:58.864Z"
   },
   {
    "duration": 9,
    "start_time": "2024-02-15T14:04:59.012Z"
   },
   {
    "duration": 68,
    "start_time": "2024-02-15T14:04:59.022Z"
   },
   {
    "duration": 225,
    "start_time": "2024-02-15T14:04:59.091Z"
   },
   {
    "duration": 225,
    "start_time": "2024-02-15T14:04:59.319Z"
   },
   {
    "duration": 26,
    "start_time": "2024-02-15T14:04:59.545Z"
   },
   {
    "duration": 26,
    "start_time": "2024-02-15T14:04:59.572Z"
   },
   {
    "duration": 15,
    "start_time": "2024-02-15T14:04:59.600Z"
   },
   {
    "duration": 29,
    "start_time": "2024-02-15T14:04:59.616Z"
   },
   {
    "duration": 13,
    "start_time": "2024-02-15T14:04:59.647Z"
   },
   {
    "duration": 332,
    "start_time": "2024-02-15T14:04:59.661Z"
   },
   {
    "duration": 194,
    "start_time": "2024-02-15T14:04:59.994Z"
   },
   {
    "duration": 348,
    "start_time": "2024-02-15T14:05:00.189Z"
   },
   {
    "duration": 166,
    "start_time": "2024-02-15T14:05:00.539Z"
   },
   {
    "duration": 22,
    "start_time": "2024-02-15T14:05:00.707Z"
   },
   {
    "duration": 74,
    "start_time": "2024-02-15T14:05:00.730Z"
   },
   {
    "duration": 49,
    "start_time": "2024-02-15T14:05:00.806Z"
   },
   {
    "duration": 50,
    "start_time": "2024-02-15T14:05:00.857Z"
   },
   {
    "duration": 3,
    "start_time": "2024-02-15T14:05:04.835Z"
   },
   {
    "duration": 18,
    "start_time": "2024-02-15T14:06:24.018Z"
   },
   {
    "duration": 7,
    "start_time": "2024-02-15T14:09:29.340Z"
   },
   {
    "duration": 18,
    "start_time": "2024-02-15T14:13:30.059Z"
   },
   {
    "duration": 20,
    "start_time": "2024-02-15T14:14:35.618Z"
   },
   {
    "duration": 18,
    "start_time": "2024-02-15T14:16:14.224Z"
   },
   {
    "duration": 19,
    "start_time": "2024-02-15T14:17:04.853Z"
   },
   {
    "duration": 19,
    "start_time": "2024-02-15T14:17:51.999Z"
   },
   {
    "duration": 201,
    "start_time": "2024-02-15T14:18:24.977Z"
   },
   {
    "duration": 207,
    "start_time": "2024-02-15T14:20:07.746Z"
   },
   {
    "duration": 249,
    "start_time": "2024-02-15T14:21:02.077Z"
   },
   {
    "duration": 232,
    "start_time": "2024-02-15T14:26:16.312Z"
   },
   {
    "duration": 324,
    "start_time": "2024-02-15T14:26:58.520Z"
   },
   {
    "duration": 248,
    "start_time": "2024-02-15T14:27:08.299Z"
   },
   {
    "duration": 238,
    "start_time": "2024-02-15T14:28:10.948Z"
   },
   {
    "duration": 254,
    "start_time": "2024-02-15T14:28:50.468Z"
   },
   {
    "duration": 1354,
    "start_time": "2024-02-16T06:27:11.895Z"
   },
   {
    "duration": 3,
    "start_time": "2024-02-16T06:27:13.251Z"
   },
   {
    "duration": 111,
    "start_time": "2024-02-16T06:27:13.255Z"
   },
   {
    "duration": 182,
    "start_time": "2024-02-16T06:27:13.368Z"
   },
   {
    "duration": 69,
    "start_time": "2024-02-16T06:27:13.552Z"
   },
   {
    "duration": 5,
    "start_time": "2024-02-16T06:27:13.623Z"
   },
   {
    "duration": 11,
    "start_time": "2024-02-16T06:27:13.629Z"
   },
   {
    "duration": 21,
    "start_time": "2024-02-16T06:27:13.642Z"
   },
   {
    "duration": 16,
    "start_time": "2024-02-16T06:27:13.665Z"
   },
   {
    "duration": 8,
    "start_time": "2024-02-16T06:27:13.683Z"
   },
   {
    "duration": 9,
    "start_time": "2024-02-16T06:27:13.693Z"
   },
   {
    "duration": 9,
    "start_time": "2024-02-16T06:27:13.704Z"
   },
   {
    "duration": 176,
    "start_time": "2024-02-16T06:27:13.715Z"
   },
   {
    "duration": 4,
    "start_time": "2024-02-16T06:27:13.893Z"
   },
   {
    "duration": 37,
    "start_time": "2024-02-16T06:27:13.899Z"
   },
   {
    "duration": 11,
    "start_time": "2024-02-16T06:27:13.938Z"
   },
   {
    "duration": 125,
    "start_time": "2024-02-16T06:27:13.951Z"
   },
   {
    "duration": 95,
    "start_time": "2024-02-16T06:27:14.078Z"
   },
   {
    "duration": 7,
    "start_time": "2024-02-16T06:27:14.175Z"
   },
   {
    "duration": 41,
    "start_time": "2024-02-16T06:27:14.183Z"
   },
   {
    "duration": 205,
    "start_time": "2024-02-16T06:27:14.226Z"
   },
   {
    "duration": 125,
    "start_time": "2024-02-16T06:27:14.433Z"
   },
   {
    "duration": 14,
    "start_time": "2024-02-16T06:27:14.559Z"
   },
   {
    "duration": 239,
    "start_time": "2024-02-16T06:27:14.575Z"
   },
   {
    "duration": 148,
    "start_time": "2024-02-16T06:27:14.816Z"
   },
   {
    "duration": 14,
    "start_time": "2024-02-16T06:27:14.965Z"
   },
   {
    "duration": 4,
    "start_time": "2024-02-16T06:27:14.981Z"
   },
   {
    "duration": 223,
    "start_time": "2024-02-16T06:27:14.988Z"
   },
   {
    "duration": 146,
    "start_time": "2024-02-16T06:27:15.213Z"
   },
   {
    "duration": 37,
    "start_time": "2024-02-16T06:27:15.361Z"
   },
   {
    "duration": 13,
    "start_time": "2024-02-16T06:27:15.399Z"
   },
   {
    "duration": 101,
    "start_time": "2024-02-16T06:27:15.414Z"
   },
   {
    "duration": 14,
    "start_time": "2024-02-16T06:27:15.517Z"
   },
   {
    "duration": 4,
    "start_time": "2024-02-16T06:27:15.533Z"
   },
   {
    "duration": 344,
    "start_time": "2024-02-16T06:27:15.538Z"
   },
   {
    "duration": 215,
    "start_time": "2024-02-16T06:27:15.884Z"
   },
   {
    "duration": 366,
    "start_time": "2024-02-16T06:27:16.101Z"
   },
   {
    "duration": 192,
    "start_time": "2024-02-16T06:27:16.468Z"
   },
   {
    "duration": 5,
    "start_time": "2024-02-16T06:27:16.662Z"
   },
   {
    "duration": 13,
    "start_time": "2024-02-16T06:27:16.673Z"
   },
   {
    "duration": 4,
    "start_time": "2024-02-16T06:27:16.687Z"
   },
   {
    "duration": 15,
    "start_time": "2024-02-16T06:27:16.693Z"
   },
   {
    "duration": 3,
    "start_time": "2024-02-16T06:27:16.710Z"
   },
   {
    "duration": 19,
    "start_time": "2024-02-16T06:27:16.715Z"
   },
   {
    "duration": 41,
    "start_time": "2024-02-16T06:27:16.735Z"
   },
   {
    "duration": 318,
    "start_time": "2024-02-16T06:27:16.778Z"
   },
   {
    "duration": 34,
    "start_time": "2024-02-16T06:27:17.098Z"
   },
   {
    "duration": 9,
    "start_time": "2024-02-16T06:27:17.134Z"
   },
   {
    "duration": 9,
    "start_time": "2024-02-16T06:28:15.134Z"
   },
   {
    "duration": 1231,
    "start_time": "2024-02-16T06:28:16.738Z"
   },
   {
    "duration": 17,
    "start_time": "2024-02-16T06:28:33.092Z"
   },
   {
    "duration": 10,
    "start_time": "2024-02-16T07:05:26.744Z"
   },
   {
    "duration": 3,
    "start_time": "2024-02-16T07:05:32.951Z"
   },
   {
    "duration": 7,
    "start_time": "2024-02-16T07:05:32.955Z"
   },
   {
    "duration": 46,
    "start_time": "2024-02-16T07:05:32.964Z"
   },
   {
    "duration": 47,
    "start_time": "2024-02-16T07:05:33.011Z"
   },
   {
    "duration": 28,
    "start_time": "2024-02-16T07:05:33.059Z"
   },
   {
    "duration": 6,
    "start_time": "2024-02-16T07:05:33.089Z"
   },
   {
    "duration": 19,
    "start_time": "2024-02-16T07:05:33.096Z"
   },
   {
    "duration": 13,
    "start_time": "2024-02-16T07:05:33.117Z"
   },
   {
    "duration": 11,
    "start_time": "2024-02-16T07:05:33.132Z"
   },
   {
    "duration": 8,
    "start_time": "2024-02-16T07:05:33.144Z"
   },
   {
    "duration": 10,
    "start_time": "2024-02-16T07:05:33.173Z"
   },
   {
    "duration": 11,
    "start_time": "2024-02-16T07:05:33.185Z"
   },
   {
    "duration": 165,
    "start_time": "2024-02-16T07:05:33.197Z"
   },
   {
    "duration": 5,
    "start_time": "2024-02-16T07:05:33.373Z"
   },
   {
    "duration": 21,
    "start_time": "2024-02-16T07:05:33.380Z"
   },
   {
    "duration": 18,
    "start_time": "2024-02-16T07:05:33.403Z"
   },
   {
    "duration": 135,
    "start_time": "2024-02-16T07:05:33.423Z"
   },
   {
    "duration": 72,
    "start_time": "2024-02-16T07:05:33.560Z"
   },
   {
    "duration": 6,
    "start_time": "2024-02-16T07:05:33.633Z"
   },
   {
    "duration": 11,
    "start_time": "2024-02-16T07:05:33.640Z"
   },
   {
    "duration": 217,
    "start_time": "2024-02-16T07:05:33.652Z"
   },
   {
    "duration": 215,
    "start_time": "2024-02-16T07:05:33.870Z"
   },
   {
    "duration": 5,
    "start_time": "2024-02-16T07:05:34.087Z"
   },
   {
    "duration": 241,
    "start_time": "2024-02-16T07:05:34.094Z"
   },
   {
    "duration": 150,
    "start_time": "2024-02-16T07:05:34.337Z"
   },
   {
    "duration": 8,
    "start_time": "2024-02-16T07:05:34.489Z"
   },
   {
    "duration": 4,
    "start_time": "2024-02-16T07:05:34.499Z"
   },
   {
    "duration": 229,
    "start_time": "2024-02-16T07:05:34.505Z"
   },
   {
    "duration": 162,
    "start_time": "2024-02-16T07:05:34.736Z"
   },
   {
    "duration": 28,
    "start_time": "2024-02-16T07:05:34.901Z"
   },
   {
    "duration": 14,
    "start_time": "2024-02-16T07:05:34.930Z"
   },
   {
    "duration": 37,
    "start_time": "2024-02-16T07:05:34.946Z"
   },
   {
    "duration": 15,
    "start_time": "2024-02-16T07:05:34.984Z"
   },
   {
    "duration": 7,
    "start_time": "2024-02-16T07:05:35.000Z"
   },
   {
    "duration": 377,
    "start_time": "2024-02-16T07:05:35.009Z"
   },
   {
    "duration": 199,
    "start_time": "2024-02-16T07:05:35.388Z"
   },
   {
    "duration": 362,
    "start_time": "2024-02-16T07:05:35.589Z"
   },
   {
    "duration": 196,
    "start_time": "2024-02-16T07:05:35.953Z"
   },
   {
    "duration": 7,
    "start_time": "2024-02-16T07:05:36.151Z"
   },
   {
    "duration": 23,
    "start_time": "2024-02-16T07:05:36.159Z"
   },
   {
    "duration": 4,
    "start_time": "2024-02-16T07:05:36.183Z"
   },
   {
    "duration": 29,
    "start_time": "2024-02-16T07:05:36.188Z"
   },
   {
    "duration": 4,
    "start_time": "2024-02-16T07:05:36.219Z"
   },
   {
    "duration": 21,
    "start_time": "2024-02-16T07:05:36.224Z"
   },
   {
    "duration": 10,
    "start_time": "2024-02-16T07:05:36.247Z"
   },
   {
    "duration": 382,
    "start_time": "2024-02-16T07:05:36.258Z"
   },
   {
    "duration": 15,
    "start_time": "2024-02-16T07:05:36.641Z"
   },
   {
    "duration": 39,
    "start_time": "2024-02-16T07:05:36.658Z"
   },
   {
    "duration": 9,
    "start_time": "2024-02-16T07:05:36.698Z"
   },
   {
    "duration": 6,
    "start_time": "2024-02-16T07:05:43.849Z"
   },
   {
    "duration": 7,
    "start_time": "2024-02-16T07:06:15.506Z"
   },
   {
    "duration": 11,
    "start_time": "2024-02-16T07:08:07.650Z"
   },
   {
    "duration": 3,
    "start_time": "2024-02-16T07:08:15.594Z"
   },
   {
    "duration": 5,
    "start_time": "2024-02-16T07:08:18.878Z"
   },
   {
    "duration": 210,
    "start_time": "2024-02-16T07:08:21.550Z"
   },
   {
    "duration": 13,
    "start_time": "2024-02-16T07:08:25.176Z"
   },
   {
    "duration": 4,
    "start_time": "2024-02-16T07:08:28.491Z"
   },
   {
    "duration": 9,
    "start_time": "2024-02-16T07:13:59.971Z"
   },
   {
    "duration": 8,
    "start_time": "2024-02-16T07:14:33.536Z"
   },
   {
    "duration": 7,
    "start_time": "2024-02-16T07:14:53.616Z"
   },
   {
    "duration": 15,
    "start_time": "2024-02-16T07:18:36.562Z"
   },
   {
    "duration": 10,
    "start_time": "2024-02-16T07:18:59.751Z"
   },
   {
    "duration": 4,
    "start_time": "2024-02-16T07:21:41.337Z"
   },
   {
    "duration": 10,
    "start_time": "2024-02-16T07:21:42.934Z"
   },
   {
    "duration": 4,
    "start_time": "2024-02-16T07:30:07.911Z"
   },
   {
    "duration": 5,
    "start_time": "2024-02-16T07:32:36.797Z"
   },
   {
    "duration": 9,
    "start_time": "2024-02-16T07:33:25.880Z"
   },
   {
    "duration": 9,
    "start_time": "2024-02-16T07:34:08.528Z"
   },
   {
    "duration": 4,
    "start_time": "2024-02-16T08:00:11.110Z"
   },
   {
    "duration": 31,
    "start_time": "2024-02-16T08:00:11.117Z"
   },
   {
    "duration": 56,
    "start_time": "2024-02-16T08:00:11.150Z"
   },
   {
    "duration": 46,
    "start_time": "2024-02-16T08:00:11.207Z"
   },
   {
    "duration": 29,
    "start_time": "2024-02-16T08:00:11.255Z"
   },
   {
    "duration": 8,
    "start_time": "2024-02-16T08:00:11.286Z"
   },
   {
    "duration": 20,
    "start_time": "2024-02-16T08:00:11.296Z"
   },
   {
    "duration": 16,
    "start_time": "2024-02-16T08:00:11.318Z"
   },
   {
    "duration": 23,
    "start_time": "2024-02-16T08:00:11.336Z"
   },
   {
    "duration": 12,
    "start_time": "2024-02-16T08:00:11.374Z"
   },
   {
    "duration": 17,
    "start_time": "2024-02-16T08:00:11.387Z"
   },
   {
    "duration": 10,
    "start_time": "2024-02-16T08:00:11.408Z"
   },
   {
    "duration": 215,
    "start_time": "2024-02-16T08:00:11.420Z"
   },
   {
    "duration": 4,
    "start_time": "2024-02-16T08:00:11.636Z"
   },
   {
    "duration": 21,
    "start_time": "2024-02-16T08:00:11.642Z"
   },
   {
    "duration": 16,
    "start_time": "2024-02-16T08:00:11.665Z"
   },
   {
    "duration": 112,
    "start_time": "2024-02-16T08:00:11.683Z"
   },
   {
    "duration": 97,
    "start_time": "2024-02-16T08:00:11.797Z"
   },
   {
    "duration": 8,
    "start_time": "2024-02-16T08:00:11.896Z"
   },
   {
    "duration": 23,
    "start_time": "2024-02-16T08:00:11.906Z"
   },
   {
    "duration": 242,
    "start_time": "2024-02-16T08:00:11.931Z"
   },
   {
    "duration": 128,
    "start_time": "2024-02-16T08:00:12.174Z"
   },
   {
    "duration": 4,
    "start_time": "2024-02-16T08:00:12.304Z"
   },
   {
    "duration": 227,
    "start_time": "2024-02-16T08:00:12.311Z"
   },
   {
    "duration": 175,
    "start_time": "2024-02-16T08:00:12.540Z"
   },
   {
    "duration": 9,
    "start_time": "2024-02-16T08:00:12.716Z"
   },
   {
    "duration": 4,
    "start_time": "2024-02-16T08:00:12.727Z"
   },
   {
    "duration": 242,
    "start_time": "2024-02-16T08:00:12.733Z"
   },
   {
    "duration": 237,
    "start_time": "2024-02-16T08:00:12.976Z"
   },
   {
    "duration": 27,
    "start_time": "2024-02-16T08:00:13.214Z"
   },
   {
    "duration": 32,
    "start_time": "2024-02-16T08:00:13.243Z"
   },
   {
    "duration": 23,
    "start_time": "2024-02-16T08:00:13.276Z"
   },
   {
    "duration": 15,
    "start_time": "2024-02-16T08:00:13.301Z"
   },
   {
    "duration": 6,
    "start_time": "2024-02-16T08:00:13.318Z"
   },
   {
    "duration": 357,
    "start_time": "2024-02-16T08:00:13.325Z"
   },
   {
    "duration": 207,
    "start_time": "2024-02-16T08:00:13.684Z"
   },
   {
    "duration": 387,
    "start_time": "2024-02-16T08:00:13.893Z"
   },
   {
    "duration": 191,
    "start_time": "2024-02-16T08:00:14.282Z"
   },
   {
    "duration": 6,
    "start_time": "2024-02-16T08:00:14.474Z"
   },
   {
    "duration": 13,
    "start_time": "2024-02-16T08:00:14.481Z"
   },
   {
    "duration": 4,
    "start_time": "2024-02-16T08:00:14.495Z"
   },
   {
    "duration": 13,
    "start_time": "2024-02-16T08:00:14.500Z"
   },
   {
    "duration": 4,
    "start_time": "2024-02-16T08:00:14.514Z"
   },
   {
    "duration": 60,
    "start_time": "2024-02-16T08:00:14.519Z"
   },
   {
    "duration": 6,
    "start_time": "2024-02-16T08:00:14.581Z"
   },
   {
    "duration": 290,
    "start_time": "2024-02-16T08:00:14.589Z"
   },
   {
    "duration": 15,
    "start_time": "2024-02-16T08:00:14.881Z"
   },
   {
    "duration": 45,
    "start_time": "2024-02-16T08:00:14.897Z"
   },
   {
    "duration": 19,
    "start_time": "2024-02-16T08:00:14.943Z"
   },
   {
    "duration": 10,
    "start_time": "2024-02-16T08:00:14.963Z"
   },
   {
    "duration": 3,
    "start_time": "2024-02-16T08:00:14.975Z"
   },
   {
    "duration": 11,
    "start_time": "2024-02-16T08:00:14.979Z"
   },
   {
    "duration": 237,
    "start_time": "2024-02-16T08:00:14.991Z"
   },
   {
    "duration": 12,
    "start_time": "2024-02-16T08:00:15.230Z"
   },
   {
    "duration": 29,
    "start_time": "2024-02-16T08:00:15.244Z"
   },
   {
    "duration": 37,
    "start_time": "2024-02-16T08:00:15.274Z"
   },
   {
    "duration": 25,
    "start_time": "2024-02-16T08:00:15.313Z"
   },
   {
    "duration": 34,
    "start_time": "2024-02-16T08:00:15.340Z"
   },
   {
    "duration": 25,
    "start_time": "2024-02-16T08:00:15.379Z"
   },
   {
    "duration": 10,
    "start_time": "2024-02-16T08:00:15.406Z"
   },
   {
    "duration": 38,
    "start_time": "2024-02-16T08:00:15.418Z"
   },
   {
    "duration": 24,
    "start_time": "2024-02-16T08:00:15.458Z"
   },
   {
    "duration": 1578,
    "start_time": "2024-02-16T08:04:10.448Z"
   },
   {
    "duration": 40,
    "start_time": "2024-02-16T08:04:52.352Z"
   },
   {
    "duration": 1629,
    "start_time": "2024-02-16T08:05:54.214Z"
   },
   {
    "duration": 2009,
    "start_time": "2024-02-16T08:06:07.547Z"
   },
   {
    "duration": 11,
    "start_time": "2024-02-16T08:10:13.016Z"
   },
   {
    "duration": 4,
    "start_time": "2024-02-16T08:10:21.623Z"
   },
   {
    "duration": 148,
    "start_time": "2024-02-16T08:10:24.151Z"
   },
   {
    "duration": 5,
    "start_time": "2024-02-16T08:10:30.867Z"
   },
   {
    "duration": 4,
    "start_time": "2024-02-16T08:39:12.496Z"
   },
   {
    "duration": 4,
    "start_time": "2024-02-16T08:39:12.501Z"
   },
   {
    "duration": 44,
    "start_time": "2024-02-16T08:39:12.507Z"
   },
   {
    "duration": 45,
    "start_time": "2024-02-16T08:39:12.553Z"
   },
   {
    "duration": 28,
    "start_time": "2024-02-16T08:39:12.599Z"
   },
   {
    "duration": 7,
    "start_time": "2024-02-16T08:39:12.630Z"
   },
   {
    "duration": 34,
    "start_time": "2024-02-16T08:39:12.639Z"
   },
   {
    "duration": 11,
    "start_time": "2024-02-16T08:39:12.675Z"
   },
   {
    "duration": 9,
    "start_time": "2024-02-16T08:39:12.688Z"
   },
   {
    "duration": 9,
    "start_time": "2024-02-16T08:39:12.699Z"
   },
   {
    "duration": 4,
    "start_time": "2024-02-16T08:39:12.710Z"
   },
   {
    "duration": 6,
    "start_time": "2024-02-16T08:39:12.718Z"
   },
   {
    "duration": 182,
    "start_time": "2024-02-16T08:39:12.774Z"
   },
   {
    "duration": 17,
    "start_time": "2024-02-16T08:39:12.958Z"
   },
   {
    "duration": 37,
    "start_time": "2024-02-16T08:39:12.977Z"
   },
   {
    "duration": 33,
    "start_time": "2024-02-16T08:39:13.016Z"
   },
   {
    "duration": 118,
    "start_time": "2024-02-16T08:39:13.050Z"
   },
   {
    "duration": 73,
    "start_time": "2024-02-16T08:39:13.170Z"
   },
   {
    "duration": 6,
    "start_time": "2024-02-16T08:39:13.244Z"
   },
   {
    "duration": 23,
    "start_time": "2024-02-16T08:39:13.252Z"
   },
   {
    "duration": 201,
    "start_time": "2024-02-16T08:39:13.277Z"
   },
   {
    "duration": 133,
    "start_time": "2024-02-16T08:39:13.480Z"
   },
   {
    "duration": 5,
    "start_time": "2024-02-16T08:39:13.614Z"
   },
   {
    "duration": 225,
    "start_time": "2024-02-16T08:39:13.620Z"
   },
   {
    "duration": 150,
    "start_time": "2024-02-16T08:39:13.846Z"
   },
   {
    "duration": 9,
    "start_time": "2024-02-16T08:39:13.997Z"
   },
   {
    "duration": 4,
    "start_time": "2024-02-16T08:39:14.007Z"
   },
   {
    "duration": 228,
    "start_time": "2024-02-16T08:39:14.013Z"
   },
   {
    "duration": 312,
    "start_time": "2024-02-16T08:39:14.243Z"
   },
   {
    "duration": 35,
    "start_time": "2024-02-16T08:39:14.559Z"
   },
   {
    "duration": 14,
    "start_time": "2024-02-16T08:39:14.595Z"
   },
   {
    "duration": 18,
    "start_time": "2024-02-16T08:39:14.611Z"
   },
   {
    "duration": 42,
    "start_time": "2024-02-16T08:39:14.631Z"
   },
   {
    "duration": 4,
    "start_time": "2024-02-16T08:39:14.675Z"
   },
   {
    "duration": 341,
    "start_time": "2024-02-16T08:39:14.681Z"
   },
   {
    "duration": 208,
    "start_time": "2024-02-16T08:39:15.023Z"
   },
   {
    "duration": 356,
    "start_time": "2024-02-16T08:39:15.232Z"
   },
   {
    "duration": 184,
    "start_time": "2024-02-16T08:39:15.589Z"
   },
   {
    "duration": 6,
    "start_time": "2024-02-16T08:39:15.774Z"
   },
   {
    "duration": 15,
    "start_time": "2024-02-16T08:39:15.781Z"
   },
   {
    "duration": 5,
    "start_time": "2024-02-16T08:39:15.798Z"
   },
   {
    "duration": 15,
    "start_time": "2024-02-16T08:39:15.804Z"
   },
   {
    "duration": 4,
    "start_time": "2024-02-16T08:39:15.821Z"
   },
   {
    "duration": 55,
    "start_time": "2024-02-16T08:39:15.827Z"
   },
   {
    "duration": 7,
    "start_time": "2024-02-16T08:39:15.884Z"
   },
   {
    "duration": 288,
    "start_time": "2024-02-16T08:39:15.893Z"
   },
   {
    "duration": 16,
    "start_time": "2024-02-16T08:39:16.183Z"
   },
   {
    "duration": 33,
    "start_time": "2024-02-16T08:39:16.201Z"
   },
   {
    "duration": 9,
    "start_time": "2024-02-16T08:39:16.236Z"
   },
   {
    "duration": 32,
    "start_time": "2024-02-16T08:39:16.247Z"
   },
   {
    "duration": 4,
    "start_time": "2024-02-16T08:39:16.281Z"
   },
   {
    "duration": 6,
    "start_time": "2024-02-16T08:39:16.287Z"
   },
   {
    "duration": 234,
    "start_time": "2024-02-16T08:39:16.295Z"
   },
   {
    "duration": 13,
    "start_time": "2024-02-16T08:39:16.532Z"
   },
   {
    "duration": 26,
    "start_time": "2024-02-16T08:39:16.547Z"
   },
   {
    "duration": 14,
    "start_time": "2024-02-16T08:39:16.575Z"
   },
   {
    "duration": 5,
    "start_time": "2024-02-16T08:39:16.590Z"
   },
   {
    "duration": 16,
    "start_time": "2024-02-16T08:39:16.596Z"
   },
   {
    "duration": 20,
    "start_time": "2024-02-16T08:39:16.613Z"
   },
   {
    "duration": 6,
    "start_time": "2024-02-16T08:39:16.635Z"
   },
   {
    "duration": 10,
    "start_time": "2024-02-16T08:39:16.643Z"
   },
   {
    "duration": 12,
    "start_time": "2024-02-16T08:39:16.673Z"
   },
   {
    "duration": 1546,
    "start_time": "2024-02-16T08:39:16.687Z"
   },
   {
    "duration": 39,
    "start_time": "2024-02-16T08:39:18.235Z"
   },
   {
    "duration": 1953,
    "start_time": "2024-02-16T08:39:18.276Z"
   },
   {
    "duration": 3,
    "start_time": "2024-02-16T08:39:20.231Z"
   },
   {
    "duration": 159,
    "start_time": "2024-02-16T08:39:20.236Z"
   },
   {
    "duration": 5,
    "start_time": "2024-02-16T08:39:20.397Z"
   },
   {
    "duration": 121,
    "start_time": "2024-02-16T08:42:23.922Z"
   },
   {
    "duration": 194,
    "start_time": "2024-02-16T08:43:29.107Z"
   },
   {
    "duration": 205,
    "start_time": "2024-02-16T08:44:39.753Z"
   },
   {
    "duration": 207,
    "start_time": "2024-02-16T08:45:45.272Z"
   },
   {
    "duration": 1112,
    "start_time": "2024-02-16T19:08:52.467Z"
   },
   {
    "duration": 2,
    "start_time": "2024-02-16T19:08:53.581Z"
   },
   {
    "duration": 136,
    "start_time": "2024-02-16T19:08:53.585Z"
   },
   {
    "duration": 170,
    "start_time": "2024-02-16T19:08:53.724Z"
   },
   {
    "duration": 65,
    "start_time": "2024-02-16T19:08:53.895Z"
   },
   {
    "duration": 5,
    "start_time": "2024-02-16T19:08:53.961Z"
   },
   {
    "duration": 29,
    "start_time": "2024-02-16T19:08:53.967Z"
   },
   {
    "duration": 24,
    "start_time": "2024-02-16T19:08:53.998Z"
   },
   {
    "duration": 24,
    "start_time": "2024-02-16T19:08:54.023Z"
   },
   {
    "duration": 23,
    "start_time": "2024-02-16T19:08:54.050Z"
   },
   {
    "duration": 18,
    "start_time": "2024-02-16T19:08:54.074Z"
   },
   {
    "duration": 32,
    "start_time": "2024-02-16T19:08:54.093Z"
   },
   {
    "duration": 171,
    "start_time": "2024-02-16T19:08:54.127Z"
   },
   {
    "duration": 4,
    "start_time": "2024-02-16T19:08:54.300Z"
   },
   {
    "duration": 24,
    "start_time": "2024-02-16T19:08:54.306Z"
   },
   {
    "duration": 23,
    "start_time": "2024-02-16T19:08:54.332Z"
   },
   {
    "duration": 157,
    "start_time": "2024-02-16T19:08:54.356Z"
   },
   {
    "duration": 66,
    "start_time": "2024-02-16T19:08:54.514Z"
   },
   {
    "duration": 6,
    "start_time": "2024-02-16T19:08:54.593Z"
   },
   {
    "duration": 17,
    "start_time": "2024-02-16T19:08:54.600Z"
   },
   {
    "duration": 193,
    "start_time": "2024-02-16T19:08:54.618Z"
   },
   {
    "duration": 114,
    "start_time": "2024-02-16T19:08:54.812Z"
   },
   {
    "duration": 5,
    "start_time": "2024-02-16T19:08:54.928Z"
   },
   {
    "duration": 270,
    "start_time": "2024-02-16T19:08:54.934Z"
   },
   {
    "duration": 132,
    "start_time": "2024-02-16T19:08:55.206Z"
   },
   {
    "duration": 7,
    "start_time": "2024-02-16T19:08:55.340Z"
   },
   {
    "duration": 24,
    "start_time": "2024-02-16T19:08:55.349Z"
   },
   {
    "duration": 234,
    "start_time": "2024-02-16T19:08:55.376Z"
   },
   {
    "duration": 137,
    "start_time": "2024-02-16T19:08:55.611Z"
   },
   {
    "duration": 25,
    "start_time": "2024-02-16T19:08:55.749Z"
   },
   {
    "duration": 48,
    "start_time": "2024-02-16T19:08:55.775Z"
   },
   {
    "duration": 180,
    "start_time": "2024-02-16T19:08:55.824Z"
   },
   {
    "duration": 21,
    "start_time": "2024-02-16T19:08:56.005Z"
   },
   {
    "duration": 17,
    "start_time": "2024-02-16T19:08:56.027Z"
   },
   {
    "duration": 312,
    "start_time": "2024-02-16T19:08:56.045Z"
   },
   {
    "duration": 172,
    "start_time": "2024-02-16T19:08:56.359Z"
   },
   {
    "duration": 324,
    "start_time": "2024-02-16T19:08:56.532Z"
   },
   {
    "duration": 162,
    "start_time": "2024-02-16T19:08:56.858Z"
   },
   {
    "duration": 5,
    "start_time": "2024-02-16T19:08:57.021Z"
   },
   {
    "duration": 31,
    "start_time": "2024-02-16T19:08:57.027Z"
   },
   {
    "duration": 11,
    "start_time": "2024-02-16T19:08:57.059Z"
   },
   {
    "duration": 74,
    "start_time": "2024-02-16T19:08:57.071Z"
   },
   {
    "duration": 13,
    "start_time": "2024-02-16T19:08:57.146Z"
   },
   {
    "duration": 30,
    "start_time": "2024-02-16T19:08:57.160Z"
   },
   {
    "duration": 32,
    "start_time": "2024-02-16T19:08:57.191Z"
   },
   {
    "duration": 324,
    "start_time": "2024-02-16T19:08:57.224Z"
   },
   {
    "duration": 12,
    "start_time": "2024-02-16T19:08:57.550Z"
   },
   {
    "duration": 44,
    "start_time": "2024-02-16T19:08:57.563Z"
   },
   {
    "duration": 21,
    "start_time": "2024-02-16T19:08:57.608Z"
   },
   {
    "duration": 22,
    "start_time": "2024-02-16T19:08:57.630Z"
   },
   {
    "duration": 23,
    "start_time": "2024-02-16T19:08:57.653Z"
   },
   {
    "duration": 11,
    "start_time": "2024-02-16T19:08:57.678Z"
   },
   {
    "duration": 207,
    "start_time": "2024-02-16T19:08:57.690Z"
   },
   {
    "duration": 12,
    "start_time": "2024-02-16T19:08:57.899Z"
   },
   {
    "duration": 26,
    "start_time": "2024-02-16T19:08:57.913Z"
   },
   {
    "duration": 17,
    "start_time": "2024-02-16T19:08:57.941Z"
   },
   {
    "duration": 10,
    "start_time": "2024-02-16T19:08:57.960Z"
   },
   {
    "duration": 36,
    "start_time": "2024-02-16T19:08:57.972Z"
   },
   {
    "duration": 8,
    "start_time": "2024-02-16T19:08:58.009Z"
   },
   {
    "duration": 8,
    "start_time": "2024-02-16T19:08:58.019Z"
   },
   {
    "duration": 10,
    "start_time": "2024-02-16T19:08:58.029Z"
   },
   {
    "duration": 21,
    "start_time": "2024-02-16T19:08:58.041Z"
   },
   {
    "duration": 1417,
    "start_time": "2024-02-16T19:08:58.063Z"
   },
   {
    "duration": 31,
    "start_time": "2024-02-16T19:08:59.482Z"
   },
   {
    "duration": 1617,
    "start_time": "2024-02-16T19:08:59.514Z"
   },
   {
    "duration": 5,
    "start_time": "2024-02-16T19:09:01.133Z"
   },
   {
    "duration": 303,
    "start_time": "2024-02-16T19:09:01.139Z"
   },
   {
    "duration": 5,
    "start_time": "2024-02-16T19:09:01.444Z"
   },
   {
    "duration": 7,
    "start_time": "2024-02-16T22:03:19.752Z"
   },
   {
    "duration": 4,
    "start_time": "2024-02-16T22:15:14.531Z"
   },
   {
    "duration": 4,
    "start_time": "2024-02-16T22:15:19.394Z"
   },
   {
    "duration": 2,
    "start_time": "2024-02-16T22:15:30.219Z"
   },
   {
    "duration": 9,
    "start_time": "2024-02-16T22:15:30.627Z"
   },
   {
    "duration": 669,
    "start_time": "2024-02-16T22:15:37.939Z"
   },
   {
    "duration": 3,
    "start_time": "2024-02-16T22:15:38.915Z"
   },
   {
    "duration": 9,
    "start_time": "2024-02-16T22:15:39.747Z"
   },
   {
    "duration": 31,
    "start_time": "2024-02-16T22:15:40.323Z"
   },
   {
    "duration": 10,
    "start_time": "2024-02-16T22:15:40.611Z"
   },
   {
    "duration": 8,
    "start_time": "2024-02-16T22:15:40.867Z"
   },
   {
    "duration": 783,
    "start_time": "2024-02-16T22:15:41.291Z"
   },
   {
    "duration": 16,
    "start_time": "2024-02-16T22:15:44.779Z"
   },
   {
    "duration": 1164,
    "start_time": "2024-02-16T22:16:17.176Z"
   },
   {
    "duration": 3,
    "start_time": "2024-02-16T22:16:18.342Z"
   },
   {
    "duration": 66,
    "start_time": "2024-02-16T22:16:18.346Z"
   },
   {
    "duration": 44,
    "start_time": "2024-02-16T22:16:18.414Z"
   },
   {
    "duration": 26,
    "start_time": "2024-02-16T22:16:18.459Z"
   },
   {
    "duration": 5,
    "start_time": "2024-02-16T22:16:18.486Z"
   },
   {
    "duration": 9,
    "start_time": "2024-02-16T22:16:18.493Z"
   },
   {
    "duration": 9,
    "start_time": "2024-02-16T22:16:18.503Z"
   },
   {
    "duration": 8,
    "start_time": "2024-02-16T22:16:18.514Z"
   },
   {
    "duration": 7,
    "start_time": "2024-02-16T22:16:18.524Z"
   },
   {
    "duration": 12,
    "start_time": "2024-02-16T22:16:18.532Z"
   },
   {
    "duration": 7,
    "start_time": "2024-02-16T22:16:18.546Z"
   },
   {
    "duration": 167,
    "start_time": "2024-02-16T22:16:18.554Z"
   },
   {
    "duration": 3,
    "start_time": "2024-02-16T22:16:18.722Z"
   },
   {
    "duration": 16,
    "start_time": "2024-02-16T22:16:18.727Z"
   },
   {
    "duration": 11,
    "start_time": "2024-02-16T22:16:18.744Z"
   },
   {
    "duration": 121,
    "start_time": "2024-02-16T22:16:18.757Z"
   },
   {
    "duration": 73,
    "start_time": "2024-02-16T22:16:18.879Z"
   },
   {
    "duration": 7,
    "start_time": "2024-02-16T22:16:18.954Z"
   },
   {
    "duration": 21,
    "start_time": "2024-02-16T22:16:18.962Z"
   },
   {
    "duration": 183,
    "start_time": "2024-02-16T22:16:18.984Z"
   },
   {
    "duration": 111,
    "start_time": "2024-02-16T22:16:19.168Z"
   },
   {
    "duration": 3,
    "start_time": "2024-02-16T22:16:19.281Z"
   },
   {
    "duration": 193,
    "start_time": "2024-02-16T22:16:19.285Z"
   },
   {
    "duration": 134,
    "start_time": "2024-02-16T22:16:19.480Z"
   },
   {
    "duration": 8,
    "start_time": "2024-02-16T22:16:19.615Z"
   },
   {
    "duration": 4,
    "start_time": "2024-02-16T22:16:19.625Z"
   },
   {
    "duration": 197,
    "start_time": "2024-02-16T22:16:19.633Z"
   },
   {
    "duration": 128,
    "start_time": "2024-02-16T22:16:19.831Z"
   },
   {
    "duration": 36,
    "start_time": "2024-02-16T22:16:19.961Z"
   },
   {
    "duration": 13,
    "start_time": "2024-02-16T22:16:19.999Z"
   },
   {
    "duration": 119,
    "start_time": "2024-02-16T22:16:20.013Z"
   },
   {
    "duration": 33,
    "start_time": "2024-02-16T22:16:20.133Z"
   },
   {
    "duration": 34,
    "start_time": "2024-02-16T22:16:20.168Z"
   },
   {
    "duration": 282,
    "start_time": "2024-02-16T22:16:20.203Z"
   },
   {
    "duration": 168,
    "start_time": "2024-02-16T22:16:20.486Z"
   },
   {
    "duration": 316,
    "start_time": "2024-02-16T22:16:20.656Z"
   },
   {
    "duration": 156,
    "start_time": "2024-02-16T22:16:20.973Z"
   },
   {
    "duration": 6,
    "start_time": "2024-02-16T22:16:21.131Z"
   },
   {
    "duration": 49,
    "start_time": "2024-02-16T22:16:21.139Z"
   },
   {
    "duration": 23,
    "start_time": "2024-02-16T22:16:21.190Z"
   },
   {
    "duration": 24,
    "start_time": "2024-02-16T22:16:21.215Z"
   },
   {
    "duration": 4,
    "start_time": "2024-02-16T22:16:21.240Z"
   },
   {
    "duration": 20,
    "start_time": "2024-02-16T22:16:21.245Z"
   },
   {
    "duration": 17,
    "start_time": "2024-02-16T22:16:21.267Z"
   },
   {
    "duration": 238,
    "start_time": "2024-02-16T22:16:21.285Z"
   },
   {
    "duration": 11,
    "start_time": "2024-02-16T22:16:21.525Z"
   },
   {
    "duration": 59,
    "start_time": "2024-02-16T22:16:21.538Z"
   },
   {
    "duration": 10,
    "start_time": "2024-02-16T22:16:21.598Z"
   },
   {
    "duration": 11,
    "start_time": "2024-02-16T22:16:21.609Z"
   },
   {
    "duration": 3,
    "start_time": "2024-02-16T22:16:21.621Z"
   },
   {
    "duration": 7,
    "start_time": "2024-02-16T22:16:21.625Z"
   },
   {
    "duration": 193,
    "start_time": "2024-02-16T22:16:21.633Z"
   },
   {
    "duration": 11,
    "start_time": "2024-02-16T22:16:21.828Z"
   },
   {
    "duration": 8,
    "start_time": "2024-02-16T22:16:21.840Z"
   },
   {
    "duration": 11,
    "start_time": "2024-02-16T22:16:21.850Z"
   },
   {
    "duration": 4,
    "start_time": "2024-02-16T22:16:21.862Z"
   },
   {
    "duration": 32,
    "start_time": "2024-02-16T22:16:21.868Z"
   },
   {
    "duration": 17,
    "start_time": "2024-02-16T22:16:21.901Z"
   },
   {
    "duration": 23,
    "start_time": "2024-02-16T22:16:21.920Z"
   },
   {
    "duration": 28,
    "start_time": "2024-02-16T22:16:21.945Z"
   },
   {
    "duration": 23,
    "start_time": "2024-02-16T22:16:21.974Z"
   },
   {
    "duration": 23,
    "start_time": "2024-02-16T22:16:21.998Z"
   },
   {
    "duration": 1282,
    "start_time": "2024-02-16T22:16:22.023Z"
   },
   {
    "duration": 24,
    "start_time": "2024-02-16T22:16:23.307Z"
   },
   {
    "duration": 1543,
    "start_time": "2024-02-16T22:16:23.333Z"
   },
   {
    "duration": 4,
    "start_time": "2024-02-16T22:16:24.878Z"
   },
   {
    "duration": 253,
    "start_time": "2024-02-16T22:16:24.884Z"
   },
   {
    "duration": 4,
    "start_time": "2024-02-16T22:16:25.139Z"
   },
   {
    "duration": 14,
    "start_time": "2024-02-16T22:16:25.145Z"
   },
   {
    "duration": 11,
    "start_time": "2024-02-16T22:16:25.160Z"
   },
   {
    "duration": 23,
    "start_time": "2024-02-16T22:16:25.172Z"
   },
   {
    "duration": 29,
    "start_time": "2024-02-16T22:16:25.196Z"
   },
   {
    "duration": 39,
    "start_time": "2024-02-16T22:16:25.226Z"
   },
   {
    "duration": 13,
    "start_time": "2024-02-16T22:16:25.266Z"
   },
   {
    "duration": 19,
    "start_time": "2024-02-16T22:16:25.281Z"
   },
   {
    "duration": 23,
    "start_time": "2024-02-16T22:16:25.302Z"
   },
   {
    "duration": 13,
    "start_time": "2024-02-16T22:16:25.326Z"
   },
   {
    "duration": 12,
    "start_time": "2024-02-16T22:16:25.340Z"
   },
   {
    "duration": 6,
    "start_time": "2024-02-16T22:16:25.353Z"
   },
   {
    "duration": 16,
    "start_time": "2024-02-16T22:16:25.360Z"
   },
   {
    "duration": 677,
    "start_time": "2024-02-16T22:16:25.380Z"
   },
   {
    "duration": 3,
    "start_time": "2024-02-16T22:16:26.059Z"
   },
   {
    "duration": 34,
    "start_time": "2024-02-16T22:16:26.063Z"
   },
   {
    "duration": 38,
    "start_time": "2024-02-16T22:16:26.099Z"
   },
   {
    "duration": 9,
    "start_time": "2024-02-16T22:16:26.139Z"
   },
   {
    "duration": 20,
    "start_time": "2024-02-16T22:16:26.149Z"
   },
   {
    "duration": 770,
    "start_time": "2024-02-16T22:16:26.170Z"
   },
   {
    "duration": 7,
    "start_time": "2024-02-16T22:19:20.867Z"
   },
   {
    "duration": 8,
    "start_time": "2024-02-16T22:19:45.780Z"
   },
   {
    "duration": 7,
    "start_time": "2024-02-16T22:20:15.568Z"
   },
   {
    "duration": 6,
    "start_time": "2024-02-16T22:20:53.278Z"
   },
   {
    "duration": 1173,
    "start_time": "2024-02-16T22:21:18.887Z"
   },
   {
    "duration": 3,
    "start_time": "2024-02-16T22:21:20.062Z"
   },
   {
    "duration": 56,
    "start_time": "2024-02-16T22:21:20.066Z"
   },
   {
    "duration": 45,
    "start_time": "2024-02-16T22:21:20.124Z"
   },
   {
    "duration": 24,
    "start_time": "2024-02-16T22:21:20.171Z"
   },
   {
    "duration": 5,
    "start_time": "2024-02-16T22:21:20.197Z"
   },
   {
    "duration": 21,
    "start_time": "2024-02-16T22:21:20.203Z"
   },
   {
    "duration": 10,
    "start_time": "2024-02-16T22:21:20.225Z"
   },
   {
    "duration": 9,
    "start_time": "2024-02-16T22:21:20.236Z"
   },
   {
    "duration": 11,
    "start_time": "2024-02-16T22:21:20.247Z"
   },
   {
    "duration": 5,
    "start_time": "2024-02-16T22:21:20.259Z"
   },
   {
    "duration": 6,
    "start_time": "2024-02-16T22:21:20.266Z"
   },
   {
    "duration": 155,
    "start_time": "2024-02-16T22:21:20.294Z"
   },
   {
    "duration": 4,
    "start_time": "2024-02-16T22:21:20.451Z"
   },
   {
    "duration": 32,
    "start_time": "2024-02-16T22:21:20.457Z"
   },
   {
    "duration": 11,
    "start_time": "2024-02-16T22:21:20.491Z"
   },
   {
    "duration": 113,
    "start_time": "2024-02-16T22:21:20.504Z"
   },
   {
    "duration": 68,
    "start_time": "2024-02-16T22:21:20.619Z"
   },
   {
    "duration": 6,
    "start_time": "2024-02-16T22:21:20.694Z"
   },
   {
    "duration": 7,
    "start_time": "2024-02-16T22:21:20.701Z"
   },
   {
    "duration": 205,
    "start_time": "2024-02-16T22:21:20.709Z"
   },
   {
    "duration": 134,
    "start_time": "2024-02-16T22:21:20.916Z"
   },
   {
    "duration": 4,
    "start_time": "2024-02-16T22:21:21.052Z"
   },
   {
    "duration": 237,
    "start_time": "2024-02-16T22:21:21.057Z"
   },
   {
    "duration": 150,
    "start_time": "2024-02-16T22:21:21.295Z"
   },
   {
    "duration": 9,
    "start_time": "2024-02-16T22:21:21.446Z"
   },
   {
    "duration": 14,
    "start_time": "2024-02-16T22:21:21.456Z"
   },
   {
    "duration": 208,
    "start_time": "2024-02-16T22:21:21.475Z"
   },
   {
    "duration": 140,
    "start_time": "2024-02-16T22:21:21.684Z"
   },
   {
    "duration": 27,
    "start_time": "2024-02-16T22:21:21.826Z"
   },
   {
    "duration": 18,
    "start_time": "2024-02-16T22:21:21.855Z"
   },
   {
    "duration": 96,
    "start_time": "2024-02-16T22:21:21.875Z"
   },
   {
    "duration": 22,
    "start_time": "2024-02-16T22:21:21.973Z"
   },
   {
    "duration": 13,
    "start_time": "2024-02-16T22:21:21.996Z"
   },
   {
    "duration": 298,
    "start_time": "2024-02-16T22:21:22.010Z"
   },
   {
    "duration": 204,
    "start_time": "2024-02-16T22:21:22.310Z"
   },
   {
    "duration": 340,
    "start_time": "2024-02-16T22:21:22.516Z"
   },
   {
    "duration": 168,
    "start_time": "2024-02-16T22:21:22.857Z"
   },
   {
    "duration": 6,
    "start_time": "2024-02-16T22:21:23.027Z"
   },
   {
    "duration": 48,
    "start_time": "2024-02-16T22:21:23.034Z"
   },
   {
    "duration": 28,
    "start_time": "2024-02-16T22:21:23.084Z"
   },
   {
    "duration": 43,
    "start_time": "2024-02-16T22:21:23.113Z"
   },
   {
    "duration": 42,
    "start_time": "2024-02-16T22:21:23.158Z"
   },
   {
    "duration": 59,
    "start_time": "2024-02-16T22:21:23.202Z"
   },
   {
    "duration": 34,
    "start_time": "2024-02-16T22:21:23.263Z"
   },
   {
    "duration": 294,
    "start_time": "2024-02-16T22:21:23.299Z"
   },
   {
    "duration": 15,
    "start_time": "2024-02-16T22:21:23.595Z"
   },
   {
    "duration": 43,
    "start_time": "2024-02-16T22:21:23.611Z"
   },
   {
    "duration": 10,
    "start_time": "2024-02-16T22:21:23.655Z"
   },
   {
    "duration": 35,
    "start_time": "2024-02-16T22:21:23.666Z"
   },
   {
    "duration": 19,
    "start_time": "2024-02-16T22:21:23.702Z"
   },
   {
    "duration": 32,
    "start_time": "2024-02-16T22:21:23.723Z"
   },
   {
    "duration": 219,
    "start_time": "2024-02-16T22:21:23.757Z"
   },
   {
    "duration": 17,
    "start_time": "2024-02-16T22:21:23.978Z"
   },
   {
    "duration": 9,
    "start_time": "2024-02-16T22:21:23.997Z"
   },
   {
    "duration": 24,
    "start_time": "2024-02-16T22:21:24.007Z"
   },
   {
    "duration": 17,
    "start_time": "2024-02-16T22:21:24.032Z"
   },
   {
    "duration": 15,
    "start_time": "2024-02-16T22:21:24.050Z"
   },
   {
    "duration": 7,
    "start_time": "2024-02-16T22:21:24.066Z"
   },
   {
    "duration": 12,
    "start_time": "2024-02-16T22:21:24.074Z"
   },
   {
    "duration": 36,
    "start_time": "2024-02-16T22:21:24.087Z"
   },
   {
    "duration": 30,
    "start_time": "2024-02-16T22:21:24.125Z"
   },
   {
    "duration": 15,
    "start_time": "2024-02-16T22:21:24.157Z"
   },
   {
    "duration": 1468,
    "start_time": "2024-02-16T22:21:24.173Z"
   },
   {
    "duration": 25,
    "start_time": "2024-02-16T22:21:25.643Z"
   },
   {
    "duration": 1735,
    "start_time": "2024-02-16T22:21:25.670Z"
   },
   {
    "duration": 3,
    "start_time": "2024-02-16T22:21:27.407Z"
   },
   {
    "duration": 267,
    "start_time": "2024-02-16T22:21:27.412Z"
   },
   {
    "duration": 5,
    "start_time": "2024-02-16T22:21:27.680Z"
   },
   {
    "duration": 41,
    "start_time": "2024-02-16T22:21:27.686Z"
   },
   {
    "duration": 30,
    "start_time": "2024-02-16T22:21:27.729Z"
   },
   {
    "duration": 27,
    "start_time": "2024-02-16T22:21:27.761Z"
   },
   {
    "duration": 45,
    "start_time": "2024-02-16T22:21:27.790Z"
   },
   {
    "duration": 26,
    "start_time": "2024-02-16T22:21:27.836Z"
   },
   {
    "duration": 51,
    "start_time": "2024-02-16T22:21:27.864Z"
   },
   {
    "duration": 32,
    "start_time": "2024-02-16T22:21:27.916Z"
   },
   {
    "duration": 42,
    "start_time": "2024-02-16T22:21:27.949Z"
   },
   {
    "duration": 44,
    "start_time": "2024-02-16T22:21:27.992Z"
   },
   {
    "duration": 18,
    "start_time": "2024-02-16T22:21:28.038Z"
   },
   {
    "duration": 35,
    "start_time": "2024-02-16T22:21:28.057Z"
   },
   {
    "duration": 32,
    "start_time": "2024-02-16T22:21:28.094Z"
   },
   {
    "duration": 774,
    "start_time": "2024-02-16T22:21:28.131Z"
   },
   {
    "duration": 3,
    "start_time": "2024-02-16T22:21:28.907Z"
   },
   {
    "duration": 78,
    "start_time": "2024-02-16T22:21:28.911Z"
   },
   {
    "duration": 64,
    "start_time": "2024-02-16T22:21:28.991Z"
   },
   {
    "duration": 39,
    "start_time": "2024-02-16T22:21:29.057Z"
   },
   {
    "duration": 34,
    "start_time": "2024-02-16T22:21:29.098Z"
   },
   {
    "duration": 862,
    "start_time": "2024-02-16T22:21:29.134Z"
   },
   {
    "duration": 1421,
    "start_time": "2024-02-17T06:13:29.543Z"
   },
   {
    "duration": 3,
    "start_time": "2024-02-17T06:13:30.966Z"
   },
   {
    "duration": 142,
    "start_time": "2024-02-17T06:13:30.971Z"
   },
   {
    "duration": 93,
    "start_time": "2024-02-17T06:13:31.115Z"
   },
   {
    "duration": 65,
    "start_time": "2024-02-17T06:13:31.210Z"
   },
   {
    "duration": 6,
    "start_time": "2024-02-17T06:13:31.276Z"
   },
   {
    "duration": 33,
    "start_time": "2024-02-17T06:13:31.284Z"
   },
   {
    "duration": 42,
    "start_time": "2024-02-17T06:13:31.319Z"
   },
   {
    "duration": 98,
    "start_time": "2024-02-17T06:13:31.363Z"
   },
   {
    "duration": 49,
    "start_time": "2024-02-17T06:13:31.464Z"
   },
   {
    "duration": 45,
    "start_time": "2024-02-17T06:13:31.514Z"
   },
   {
    "duration": 62,
    "start_time": "2024-02-17T06:13:31.561Z"
   },
   {
    "duration": 198,
    "start_time": "2024-02-17T06:13:31.624Z"
   },
   {
    "duration": 4,
    "start_time": "2024-02-17T06:13:31.824Z"
   },
   {
    "duration": 58,
    "start_time": "2024-02-17T06:13:31.829Z"
   },
   {
    "duration": 7,
    "start_time": "2024-02-17T06:13:31.888Z"
   },
   {
    "duration": 147,
    "start_time": "2024-02-17T06:13:31.896Z"
   },
   {
    "duration": 75,
    "start_time": "2024-02-17T06:13:32.044Z"
   },
   {
    "duration": 6,
    "start_time": "2024-02-17T06:13:32.121Z"
   },
   {
    "duration": 25,
    "start_time": "2024-02-17T06:13:32.128Z"
   },
   {
    "duration": 196,
    "start_time": "2024-02-17T06:13:32.154Z"
   },
   {
    "duration": 130,
    "start_time": "2024-02-17T06:13:32.352Z"
   },
   {
    "duration": 4,
    "start_time": "2024-02-17T06:13:32.483Z"
   },
   {
    "duration": 241,
    "start_time": "2024-02-17T06:13:32.489Z"
   },
   {
    "duration": 155,
    "start_time": "2024-02-17T06:13:32.731Z"
   },
   {
    "duration": 10,
    "start_time": "2024-02-17T06:13:32.888Z"
   },
   {
    "duration": 4,
    "start_time": "2024-02-17T06:13:32.899Z"
   },
   {
    "duration": 245,
    "start_time": "2024-02-17T06:13:32.909Z"
   },
   {
    "duration": 147,
    "start_time": "2024-02-17T06:13:33.155Z"
   },
   {
    "duration": 29,
    "start_time": "2024-02-17T06:13:33.304Z"
   },
   {
    "duration": 17,
    "start_time": "2024-02-17T06:13:33.334Z"
   },
   {
    "duration": 116,
    "start_time": "2024-02-17T06:13:33.352Z"
   },
   {
    "duration": 24,
    "start_time": "2024-02-17T06:13:33.470Z"
   },
   {
    "duration": 6,
    "start_time": "2024-02-17T06:13:33.496Z"
   },
   {
    "duration": 336,
    "start_time": "2024-02-17T06:13:33.504Z"
   },
   {
    "duration": 205,
    "start_time": "2024-02-17T06:13:33.851Z"
   },
   {
    "duration": 361,
    "start_time": "2024-02-17T06:13:34.057Z"
   },
   {
    "duration": 190,
    "start_time": "2024-02-17T06:13:34.420Z"
   },
   {
    "duration": 6,
    "start_time": "2024-02-17T06:13:34.612Z"
   },
   {
    "duration": 13,
    "start_time": "2024-02-17T06:13:34.619Z"
   },
   {
    "duration": 4,
    "start_time": "2024-02-17T06:13:34.633Z"
   },
   {
    "duration": 12,
    "start_time": "2024-02-17T06:13:34.639Z"
   },
   {
    "duration": 3,
    "start_time": "2024-02-17T06:13:34.682Z"
   },
   {
    "duration": 20,
    "start_time": "2024-02-17T06:13:34.687Z"
   },
   {
    "duration": 7,
    "start_time": "2024-02-17T06:13:34.708Z"
   },
   {
    "duration": 293,
    "start_time": "2024-02-17T06:13:34.716Z"
   },
   {
    "duration": 13,
    "start_time": "2024-02-17T06:13:35.011Z"
   },
   {
    "duration": 29,
    "start_time": "2024-02-17T06:13:35.026Z"
   },
   {
    "duration": 15,
    "start_time": "2024-02-17T06:13:35.056Z"
   },
   {
    "duration": 6,
    "start_time": "2024-02-17T06:13:35.082Z"
   },
   {
    "duration": 5,
    "start_time": "2024-02-17T06:13:35.089Z"
   },
   {
    "duration": 6,
    "start_time": "2024-02-17T06:13:35.096Z"
   },
   {
    "duration": 239,
    "start_time": "2024-02-17T06:13:35.104Z"
   },
   {
    "duration": 16,
    "start_time": "2024-02-17T06:13:35.344Z"
   },
   {
    "duration": 21,
    "start_time": "2024-02-17T06:13:35.361Z"
   },
   {
    "duration": 25,
    "start_time": "2024-02-17T06:13:35.383Z"
   },
   {
    "duration": 23,
    "start_time": "2024-02-17T06:13:35.410Z"
   },
   {
    "duration": 14,
    "start_time": "2024-02-17T06:13:35.435Z"
   },
   {
    "duration": 15,
    "start_time": "2024-02-17T06:13:35.451Z"
   },
   {
    "duration": 6,
    "start_time": "2024-02-17T06:13:35.468Z"
   },
   {
    "duration": 13,
    "start_time": "2024-02-17T06:13:35.476Z"
   },
   {
    "duration": 8,
    "start_time": "2024-02-17T06:13:35.491Z"
   },
   {
    "duration": 15,
    "start_time": "2024-02-17T06:13:35.500Z"
   },
   {
    "duration": 1524,
    "start_time": "2024-02-17T06:13:35.516Z"
   },
   {
    "duration": 40,
    "start_time": "2024-02-17T06:13:37.042Z"
   },
   {
    "duration": 1924,
    "start_time": "2024-02-17T06:13:37.084Z"
   },
   {
    "duration": 5,
    "start_time": "2024-02-17T06:13:39.010Z"
   },
   {
    "duration": 310,
    "start_time": "2024-02-17T06:13:39.017Z"
   },
   {
    "duration": 6,
    "start_time": "2024-02-17T06:13:39.329Z"
   },
   {
    "duration": 9,
    "start_time": "2024-02-17T06:13:39.338Z"
   },
   {
    "duration": 10,
    "start_time": "2024-02-17T06:13:39.348Z"
   },
   {
    "duration": 6,
    "start_time": "2024-02-17T06:13:39.382Z"
   },
   {
    "duration": 20,
    "start_time": "2024-02-17T06:13:39.390Z"
   },
   {
    "duration": 21,
    "start_time": "2024-02-17T06:13:39.411Z"
   },
   {
    "duration": 17,
    "start_time": "2024-02-17T06:13:39.434Z"
   },
   {
    "duration": 36,
    "start_time": "2024-02-17T06:13:39.452Z"
   },
   {
    "duration": 18,
    "start_time": "2024-02-17T06:13:39.490Z"
   },
   {
    "duration": 7,
    "start_time": "2024-02-17T06:13:39.510Z"
   },
   {
    "duration": 5,
    "start_time": "2024-02-17T06:13:39.519Z"
   },
   {
    "duration": 6,
    "start_time": "2024-02-17T06:13:39.525Z"
   },
   {
    "duration": 10,
    "start_time": "2024-02-17T06:13:39.532Z"
   },
   {
    "duration": 825,
    "start_time": "2024-02-17T06:13:39.548Z"
   },
   {
    "duration": 8,
    "start_time": "2024-02-17T06:13:40.374Z"
   },
   {
    "duration": 14,
    "start_time": "2024-02-17T06:13:40.384Z"
   },
   {
    "duration": 33,
    "start_time": "2024-02-17T06:13:40.400Z"
   },
   {
    "duration": 10,
    "start_time": "2024-02-17T06:13:40.434Z"
   },
   {
    "duration": 10,
    "start_time": "2024-02-17T06:13:40.445Z"
   },
   {
    "duration": 927,
    "start_time": "2024-02-17T06:13:40.456Z"
   },
   {
    "duration": 153,
    "start_time": "2024-02-17T06:14:04.184Z"
   },
   {
    "duration": 156,
    "start_time": "2024-02-17T06:14:15.101Z"
   },
   {
    "duration": 155,
    "start_time": "2024-02-17T06:16:12.913Z"
   },
   {
    "duration": 8,
    "start_time": "2024-02-17T06:18:10.570Z"
   },
   {
    "duration": 118,
    "start_time": "2024-02-17T06:19:06.419Z"
   },
   {
    "duration": 119,
    "start_time": "2024-02-17T06:19:26.324Z"
   },
   {
    "duration": 86,
    "start_time": "2024-02-17T06:25:45.053Z"
   },
   {
    "duration": 90,
    "start_time": "2024-02-17T06:27:15.941Z"
   },
   {
    "duration": 100,
    "start_time": "2024-02-17T06:27:27.463Z"
   },
   {
    "duration": 201,
    "start_time": "2024-02-17T06:28:36.312Z"
   },
   {
    "duration": 122,
    "start_time": "2024-02-17T06:29:35.872Z"
   },
   {
    "duration": 127,
    "start_time": "2024-02-17T06:30:15.348Z"
   },
   {
    "duration": 229,
    "start_time": "2024-02-17T06:31:10.542Z"
   },
   {
    "duration": 150,
    "start_time": "2024-02-17T06:31:43.608Z"
   },
   {
    "duration": 148,
    "start_time": "2024-02-17T06:31:55.742Z"
   },
   {
    "duration": 9,
    "start_time": "2024-02-17T06:32:53.474Z"
   },
   {
    "duration": 10,
    "start_time": "2024-02-17T06:35:53.644Z"
   },
   {
    "duration": 15,
    "start_time": "2024-02-17T06:36:45.932Z"
   },
   {
    "duration": 325,
    "start_time": "2024-02-17T06:39:16.711Z"
   },
   {
    "duration": 143,
    "start_time": "2024-02-17T06:40:09.268Z"
   },
   {
    "duration": 145,
    "start_time": "2024-02-17T06:40:20.930Z"
   },
   {
    "duration": 339,
    "start_time": "2024-02-17T06:42:39.072Z"
   },
   {
    "duration": 323,
    "start_time": "2024-02-17T06:43:09.804Z"
   },
   {
    "duration": 196,
    "start_time": "2024-02-17T06:44:26.460Z"
   },
   {
    "duration": 193,
    "start_time": "2024-02-17T06:44:40.224Z"
   },
   {
    "duration": 197,
    "start_time": "2024-02-17T06:45:06.274Z"
   },
   {
    "duration": 198,
    "start_time": "2024-02-17T06:45:50.843Z"
   },
   {
    "duration": 463,
    "start_time": "2024-02-17T06:47:22.938Z"
   },
   {
    "duration": 178,
    "start_time": "2024-02-17T06:48:48.335Z"
   },
   {
    "duration": 13,
    "start_time": "2024-02-17T06:49:24.683Z"
   },
   {
    "duration": 14,
    "start_time": "2024-02-17T06:49:45.801Z"
   },
   {
    "duration": 10,
    "start_time": "2024-02-17T06:53:17.967Z"
   },
   {
    "duration": 9,
    "start_time": "2024-02-17T06:53:46.823Z"
   },
   {
    "duration": 299,
    "start_time": "2024-02-17T06:57:22.445Z"
   },
   {
    "duration": 281,
    "start_time": "2024-02-17T06:57:51.051Z"
   },
   {
    "duration": 1203,
    "start_time": "2024-02-18T01:11:39.712Z"
   },
   {
    "duration": 3,
    "start_time": "2024-02-18T01:11:40.916Z"
   },
   {
    "duration": 100,
    "start_time": "2024-02-18T01:11:40.920Z"
   },
   {
    "duration": 81,
    "start_time": "2024-02-18T01:11:41.023Z"
   },
   {
    "duration": 64,
    "start_time": "2024-02-18T01:11:41.105Z"
   },
   {
    "duration": 5,
    "start_time": "2024-02-18T01:11:41.171Z"
   },
   {
    "duration": 8,
    "start_time": "2024-02-18T01:11:41.178Z"
   },
   {
    "duration": 8,
    "start_time": "2024-02-18T01:11:41.187Z"
   },
   {
    "duration": 23,
    "start_time": "2024-02-18T01:11:41.196Z"
   },
   {
    "duration": 6,
    "start_time": "2024-02-18T01:11:41.221Z"
   },
   {
    "duration": 3,
    "start_time": "2024-02-18T01:11:41.228Z"
   },
   {
    "duration": 12,
    "start_time": "2024-02-18T01:11:41.232Z"
   },
   {
    "duration": 139,
    "start_time": "2024-02-18T01:11:41.246Z"
   },
   {
    "duration": 3,
    "start_time": "2024-02-18T01:11:41.387Z"
   },
   {
    "duration": 16,
    "start_time": "2024-02-18T01:11:41.391Z"
   },
   {
    "duration": 6,
    "start_time": "2024-02-18T01:11:41.408Z"
   },
   {
    "duration": 93,
    "start_time": "2024-02-18T01:11:41.415Z"
   },
   {
    "duration": 76,
    "start_time": "2024-02-18T01:11:41.510Z"
   },
   {
    "duration": 17,
    "start_time": "2024-02-18T01:11:41.588Z"
   },
   {
    "duration": 4,
    "start_time": "2024-02-18T01:11:41.606Z"
   },
   {
    "duration": 176,
    "start_time": "2024-02-18T01:11:41.612Z"
   },
   {
    "duration": 103,
    "start_time": "2024-02-18T01:11:41.789Z"
   },
   {
    "duration": 10,
    "start_time": "2024-02-18T01:11:41.893Z"
   },
   {
    "duration": 169,
    "start_time": "2024-02-18T01:11:41.904Z"
   },
   {
    "duration": 124,
    "start_time": "2024-02-18T01:11:42.075Z"
   },
   {
    "duration": 6,
    "start_time": "2024-02-18T01:11:42.201Z"
   },
   {
    "duration": 18,
    "start_time": "2024-02-18T01:11:42.209Z"
   },
   {
    "duration": 179,
    "start_time": "2024-02-18T01:11:42.231Z"
   },
   {
    "duration": 123,
    "start_time": "2024-02-18T01:11:42.411Z"
   },
   {
    "duration": 22,
    "start_time": "2024-02-18T01:11:42.536Z"
   },
   {
    "duration": 13,
    "start_time": "2024-02-18T01:11:42.559Z"
   },
   {
    "duration": 74,
    "start_time": "2024-02-18T01:11:42.573Z"
   },
   {
    "duration": 16,
    "start_time": "2024-02-18T01:11:42.649Z"
   },
   {
    "duration": 14,
    "start_time": "2024-02-18T01:11:42.666Z"
   },
   {
    "duration": 261,
    "start_time": "2024-02-18T01:11:42.681Z"
   },
   {
    "duration": 166,
    "start_time": "2024-02-18T01:11:42.943Z"
   },
   {
    "duration": 297,
    "start_time": "2024-02-18T01:11:43.110Z"
   },
   {
    "duration": 157,
    "start_time": "2024-02-18T01:11:43.408Z"
   },
   {
    "duration": 4,
    "start_time": "2024-02-18T01:11:43.567Z"
   },
   {
    "duration": 16,
    "start_time": "2024-02-18T01:11:43.573Z"
   },
   {
    "duration": 11,
    "start_time": "2024-02-18T01:11:43.591Z"
   },
   {
    "duration": 23,
    "start_time": "2024-02-18T01:11:43.604Z"
   },
   {
    "duration": 14,
    "start_time": "2024-02-18T01:11:43.628Z"
   },
   {
    "duration": 26,
    "start_time": "2024-02-18T01:11:43.643Z"
   },
   {
    "duration": 12,
    "start_time": "2024-02-18T01:11:43.670Z"
   },
   {
    "duration": 16,
    "start_time": "2024-02-18T01:11:43.683Z"
   },
   {
    "duration": 221,
    "start_time": "2024-02-18T01:11:43.700Z"
   },
   {
    "duration": 10,
    "start_time": "2024-02-18T01:11:43.923Z"
   },
   {
    "duration": 34,
    "start_time": "2024-02-18T01:11:43.935Z"
   },
   {
    "duration": 17,
    "start_time": "2024-02-18T01:11:43.970Z"
   },
   {
    "duration": 6,
    "start_time": "2024-02-18T01:11:43.989Z"
   },
   {
    "duration": 17,
    "start_time": "2024-02-18T01:11:43.997Z"
   },
   {
    "duration": 12,
    "start_time": "2024-02-18T01:11:44.015Z"
   },
   {
    "duration": 181,
    "start_time": "2024-02-18T01:11:44.028Z"
   },
   {
    "duration": 10,
    "start_time": "2024-02-18T01:11:44.211Z"
   },
   {
    "duration": 6,
    "start_time": "2024-02-18T01:11:44.222Z"
   },
   {
    "duration": 17,
    "start_time": "2024-02-18T01:11:44.229Z"
   },
   {
    "duration": 12,
    "start_time": "2024-02-18T01:11:44.248Z"
   },
   {
    "duration": 17,
    "start_time": "2024-02-18T01:11:44.261Z"
   },
   {
    "duration": 6,
    "start_time": "2024-02-18T01:11:44.280Z"
   },
   {
    "duration": 18,
    "start_time": "2024-02-18T01:11:44.288Z"
   },
   {
    "duration": 17,
    "start_time": "2024-02-18T01:11:44.308Z"
   },
   {
    "duration": 13,
    "start_time": "2024-02-18T01:11:44.326Z"
   },
   {
    "duration": 20,
    "start_time": "2024-02-18T01:11:44.340Z"
   },
   {
    "duration": 1194,
    "start_time": "2024-02-18T01:11:44.361Z"
   },
   {
    "duration": 0,
    "start_time": "2024-02-18T01:11:45.557Z"
   },
   {
    "duration": 0,
    "start_time": "2024-02-18T01:11:45.558Z"
   },
   {
    "duration": 0,
    "start_time": "2024-02-18T01:11:45.559Z"
   },
   {
    "duration": 0,
    "start_time": "2024-02-18T01:11:45.560Z"
   },
   {
    "duration": 0,
    "start_time": "2024-02-18T01:11:45.562Z"
   },
   {
    "duration": 0,
    "start_time": "2024-02-18T01:11:45.563Z"
   },
   {
    "duration": 0,
    "start_time": "2024-02-18T01:11:45.564Z"
   },
   {
    "duration": 0,
    "start_time": "2024-02-18T01:11:45.565Z"
   },
   {
    "duration": 0,
    "start_time": "2024-02-18T01:11:45.566Z"
   },
   {
    "duration": 0,
    "start_time": "2024-02-18T01:11:45.567Z"
   },
   {
    "duration": 0,
    "start_time": "2024-02-18T01:11:45.568Z"
   },
   {
    "duration": 0,
    "start_time": "2024-02-18T01:11:45.569Z"
   },
   {
    "duration": 0,
    "start_time": "2024-02-18T01:11:45.571Z"
   },
   {
    "duration": 0,
    "start_time": "2024-02-18T01:11:45.572Z"
   },
   {
    "duration": 0,
    "start_time": "2024-02-18T01:11:45.573Z"
   },
   {
    "duration": 0,
    "start_time": "2024-02-18T01:11:45.574Z"
   },
   {
    "duration": 0,
    "start_time": "2024-02-18T01:11:45.575Z"
   },
   {
    "duration": 0,
    "start_time": "2024-02-18T01:11:45.575Z"
   },
   {
    "duration": 0,
    "start_time": "2024-02-18T01:11:45.602Z"
   },
   {
    "duration": 0,
    "start_time": "2024-02-18T01:11:45.604Z"
   },
   {
    "duration": 0,
    "start_time": "2024-02-18T01:11:45.605Z"
   },
   {
    "duration": 0,
    "start_time": "2024-02-18T01:11:45.606Z"
   },
   {
    "duration": 0,
    "start_time": "2024-02-18T01:11:45.607Z"
   },
   {
    "duration": 0,
    "start_time": "2024-02-18T01:11:45.609Z"
   },
   {
    "duration": 1136,
    "start_time": "2024-02-18T01:12:13.160Z"
   },
   {
    "duration": 22,
    "start_time": "2024-02-18T01:14:13.122Z"
   },
   {
    "duration": 1322,
    "start_time": "2024-02-18T01:15:05.205Z"
   },
   {
    "duration": 4,
    "start_time": "2024-02-18T01:15:47.133Z"
   },
   {
    "duration": 195,
    "start_time": "2024-02-18T01:17:06.774Z"
   },
   {
    "duration": 117,
    "start_time": "2024-02-18T01:17:19.636Z"
   },
   {
    "duration": 52,
    "start_time": "2024-03-11T02:55:14.769Z"
   },
   {
    "duration": 1308,
    "start_time": "2024-03-11T02:55:29.772Z"
   },
   {
    "duration": 3,
    "start_time": "2024-03-11T02:55:31.082Z"
   },
   {
    "duration": 489,
    "start_time": "2024-03-11T02:55:31.091Z"
   },
   {
    "duration": 189,
    "start_time": "2024-03-11T02:55:31.582Z"
   },
   {
    "duration": 70,
    "start_time": "2024-03-11T02:55:31.772Z"
   },
   {
    "duration": 7,
    "start_time": "2024-03-11T02:55:31.843Z"
   },
   {
    "duration": 42,
    "start_time": "2024-03-11T02:55:31.852Z"
   },
   {
    "duration": 37,
    "start_time": "2024-03-11T02:55:31.896Z"
   },
   {
    "duration": 157,
    "start_time": "2024-03-11T02:55:31.935Z"
   },
   {
    "duration": 31,
    "start_time": "2024-03-11T02:55:32.095Z"
   },
   {
    "duration": 32,
    "start_time": "2024-03-11T02:55:32.128Z"
   },
   {
    "duration": 38,
    "start_time": "2024-03-11T02:55:32.161Z"
   },
   {
    "duration": 207,
    "start_time": "2024-03-11T02:55:32.201Z"
   },
   {
    "duration": 4,
    "start_time": "2024-03-11T02:55:32.409Z"
   },
   {
    "duration": 19,
    "start_time": "2024-03-11T02:55:32.415Z"
   },
   {
    "duration": 10,
    "start_time": "2024-03-11T02:55:32.436Z"
   },
   {
    "duration": 133,
    "start_time": "2024-03-11T02:55:32.447Z"
   },
   {
    "duration": 101,
    "start_time": "2024-03-11T02:55:32.582Z"
   },
   {
    "duration": 13,
    "start_time": "2024-03-11T02:55:32.685Z"
   },
   {
    "duration": 53,
    "start_time": "2024-03-11T02:55:32.700Z"
   },
   {
    "duration": 286,
    "start_time": "2024-03-11T02:55:32.755Z"
   },
   {
    "duration": 141,
    "start_time": "2024-03-11T02:55:33.043Z"
   },
   {
    "duration": 8,
    "start_time": "2024-03-11T02:55:33.186Z"
   },
   {
    "duration": 240,
    "start_time": "2024-03-11T02:55:33.195Z"
   },
   {
    "duration": 157,
    "start_time": "2024-03-11T02:55:33.437Z"
   },
   {
    "duration": 10,
    "start_time": "2024-03-11T02:55:33.595Z"
   },
   {
    "duration": 7,
    "start_time": "2024-03-11T02:55:33.606Z"
   },
   {
    "duration": 237,
    "start_time": "2024-03-11T02:55:33.618Z"
   },
   {
    "duration": 161,
    "start_time": "2024-03-11T02:55:33.856Z"
   },
   {
    "duration": 30,
    "start_time": "2024-03-11T02:55:34.019Z"
   },
   {
    "duration": 23,
    "start_time": "2024-03-11T02:55:34.050Z"
   },
   {
    "duration": 189,
    "start_time": "2024-03-11T02:55:34.075Z"
   },
   {
    "duration": 29,
    "start_time": "2024-03-11T02:55:34.267Z"
   },
   {
    "duration": 6,
    "start_time": "2024-03-11T02:55:34.298Z"
   },
   {
    "duration": 381,
    "start_time": "2024-03-11T02:55:34.305Z"
   },
   {
    "duration": 217,
    "start_time": "2024-03-11T02:55:34.688Z"
   },
   {
    "duration": 374,
    "start_time": "2024-03-11T02:55:34.907Z"
   },
   {
    "duration": 191,
    "start_time": "2024-03-11T02:55:35.283Z"
   },
   {
    "duration": 16,
    "start_time": "2024-03-11T02:55:35.476Z"
   },
   {
    "duration": 20,
    "start_time": "2024-03-11T02:55:35.494Z"
   },
   {
    "duration": 5,
    "start_time": "2024-03-11T02:55:35.516Z"
   },
   {
    "duration": 19,
    "start_time": "2024-03-11T02:55:35.523Z"
   },
   {
    "duration": 5,
    "start_time": "2024-03-11T02:55:35.544Z"
   },
   {
    "duration": 59,
    "start_time": "2024-03-11T02:55:35.551Z"
   },
   {
    "duration": 10,
    "start_time": "2024-03-11T02:55:35.612Z"
   },
   {
    "duration": 17,
    "start_time": "2024-03-11T02:55:35.624Z"
   },
   {
    "duration": 299,
    "start_time": "2024-03-11T02:55:35.643Z"
   },
   {
    "duration": 15,
    "start_time": "2024-03-11T02:55:35.944Z"
   },
   {
    "duration": 43,
    "start_time": "2024-03-11T02:55:35.961Z"
   },
   {
    "duration": 10,
    "start_time": "2024-03-11T02:55:36.006Z"
   },
   {
    "duration": 22,
    "start_time": "2024-03-11T02:55:36.018Z"
   },
   {
    "duration": 11,
    "start_time": "2024-03-11T02:55:36.042Z"
   },
   {
    "duration": 7,
    "start_time": "2024-03-11T02:55:36.055Z"
   },
   {
    "duration": 238,
    "start_time": "2024-03-11T02:55:36.063Z"
   },
   {
    "duration": 13,
    "start_time": "2024-03-11T02:55:36.303Z"
   },
   {
    "duration": 7,
    "start_time": "2024-03-11T02:55:36.318Z"
   },
   {
    "duration": 21,
    "start_time": "2024-03-11T02:55:36.327Z"
   },
   {
    "duration": 6,
    "start_time": "2024-03-11T02:55:36.350Z"
   },
   {
    "duration": 38,
    "start_time": "2024-03-11T02:55:36.358Z"
   },
   {
    "duration": 12,
    "start_time": "2024-03-11T02:55:36.398Z"
   },
   {
    "duration": 8,
    "start_time": "2024-03-11T02:55:36.411Z"
   },
   {
    "duration": 7,
    "start_time": "2024-03-11T02:55:36.421Z"
   },
   {
    "duration": 18,
    "start_time": "2024-03-11T02:55:36.429Z"
   },
   {
    "duration": 13,
    "start_time": "2024-03-11T02:55:36.448Z"
   },
   {
    "duration": 1587,
    "start_time": "2024-03-11T02:55:36.493Z"
   },
   {
    "duration": 30,
    "start_time": "2024-03-11T02:55:38.081Z"
   },
   {
    "duration": 1932,
    "start_time": "2024-03-11T02:55:38.112Z"
   },
   {
    "duration": 7,
    "start_time": "2024-03-11T02:55:40.047Z"
   },
   {
    "duration": 302,
    "start_time": "2024-03-11T02:55:40.056Z"
   },
   {
    "duration": 6,
    "start_time": "2024-03-11T02:55:40.360Z"
   },
   {
    "duration": 24,
    "start_time": "2024-03-11T02:55:40.368Z"
   },
   {
    "duration": 9,
    "start_time": "2024-03-11T02:55:40.394Z"
   },
   {
    "duration": 6,
    "start_time": "2024-03-11T02:55:40.405Z"
   },
   {
    "duration": 22,
    "start_time": "2024-03-11T02:55:40.412Z"
   },
   {
    "duration": 23,
    "start_time": "2024-03-11T02:55:40.435Z"
   },
   {
    "duration": 32,
    "start_time": "2024-03-11T02:55:40.460Z"
   },
   {
    "duration": 14,
    "start_time": "2024-03-11T02:55:40.495Z"
   },
   {
    "duration": 17,
    "start_time": "2024-03-11T02:55:40.510Z"
   },
   {
    "duration": 6,
    "start_time": "2024-03-11T02:55:40.529Z"
   },
   {
    "duration": 5,
    "start_time": "2024-03-11T02:55:40.536Z"
   },
   {
    "duration": 4,
    "start_time": "2024-03-11T02:55:40.542Z"
   },
   {
    "duration": 8,
    "start_time": "2024-03-11T02:55:40.552Z"
   },
   {
    "duration": 942,
    "start_time": "2024-03-11T02:55:40.561Z"
   },
   {
    "duration": 3,
    "start_time": "2024-03-11T02:55:41.505Z"
   },
   {
    "duration": 23,
    "start_time": "2024-03-11T02:55:41.510Z"
   },
   {
    "duration": 87,
    "start_time": "2024-03-11T02:55:41.534Z"
   },
   {
    "duration": 69,
    "start_time": "2024-03-11T02:55:41.622Z"
   },
   {
    "duration": 17,
    "start_time": "2024-03-11T02:55:41.693Z"
   },
   {
    "duration": 1462,
    "start_time": "2024-03-11T02:55:41.711Z"
   }
  ],
  "kernelspec": {
   "display_name": "Python 3 (ipykernel)",
   "language": "python",
   "name": "python3"
  },
  "language_info": {
   "codemirror_mode": {
    "name": "ipython",
    "version": 3
   },
   "file_extension": ".py",
   "mimetype": "text/x-python",
   "name": "python",
   "nbconvert_exporter": "python",
   "pygments_lexer": "ipython3",
   "version": "3.9.19"
  },
  "toc": {
   "base_numbering": 1,
   "nav_menu": {},
   "number_sections": true,
   "sideBar": true,
   "skip_h1_title": true,
   "title_cell": "Table of Contents",
   "title_sidebar": "Contents",
   "toc_cell": false,
   "toc_position": {
    "height": "calc(100% - 180px)",
    "left": "10px",
    "top": "150px",
    "width": "252.969px"
   },
   "toc_section_display": true,
   "toc_window_display": true
  }
 },
 "nbformat": 4,
 "nbformat_minor": 5
}
